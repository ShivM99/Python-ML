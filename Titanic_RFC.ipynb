{
  "nbformat": 4,
  "nbformat_minor": 0,
  "metadata": {
    "colab": {
      "provenance": [],
      "authorship_tag": "ABX9TyP02Dgpw0jIihgODgUzV2qB",
      "include_colab_link": true
    },
    "kernelspec": {
      "name": "python3",
      "display_name": "Python 3"
    },
    "language_info": {
      "name": "python"
    }
  },
  "cells": [
    {
      "cell_type": "markdown",
      "metadata": {
        "id": "view-in-github",
        "colab_type": "text"
      },
      "source": [
        "<a href=\"https://colab.research.google.com/github/ShivM99/Python-ML/blob/main/Titanic_RFC.ipynb\" target=\"_parent\"><img src=\"https://colab.research.google.com/assets/colab-badge.svg\" alt=\"Open In Colab\"/></a>"
      ]
    },
    {
      "cell_type": "code",
      "source": [
        "#Importing the training dataset\n",
        "import pandas as pd\n",
        "train = pd.read_csv (r\"titanic_train.csv\")\n",
        "x = train.iloc[:, [2, 4, 5, 6, 7, 9, 11]].values\n",
        "y = train.iloc[:, 1].values\n",
        "print (\"Features:\\n\", x)\n",
        "print (\"\\nPredictor:\\n\", y)"
      ],
      "metadata": {
        "colab": {
          "base_uri": "https://localhost:8080/"
        },
        "id": "u1Bru8R6za9p",
        "outputId": "36429345-f95b-49b0-d432-90edb1f5da5e"
      },
      "execution_count": null,
      "outputs": [
        {
          "output_type": "stream",
          "name": "stdout",
          "text": [
            "Features:\n",
            " [[3 'male' 22.0 ... 0 7.25 'S']\n",
            " [1 'female' 38.0 ... 0 71.2833 'C']\n",
            " [3 'female' 26.0 ... 0 7.925 'S']\n",
            " ...\n",
            " [3 'female' nan ... 2 23.45 'S']\n",
            " [1 'male' 26.0 ... 0 30.0 'C']\n",
            " [3 'male' 32.0 ... 0 7.75 'Q']]\n",
            "\n",
            "Predictor:\n",
            " [0 1 1 1 0 0 0 0 1 1 1 1 0 0 0 1 0 1 0 1 0 1 1 1 0 1 0 0 1 0 0 1 1 0 0 0 1\n",
            " 0 0 1 0 0 0 1 1 0 0 1 0 0 0 0 1 1 0 1 1 0 1 0 0 1 0 0 0 1 1 0 1 0 0 0 0 0\n",
            " 1 0 0 0 1 1 0 1 1 0 1 1 0 0 1 0 0 0 0 0 0 0 0 1 1 0 0 0 0 0 0 0 1 1 0 1 0\n",
            " 0 0 0 0 0 0 0 0 0 0 0 0 1 0 1 0 1 1 0 0 0 0 1 0 0 1 0 0 0 0 1 1 0 0 0 1 0\n",
            " 0 0 0 1 0 0 0 0 1 0 0 0 0 1 0 0 0 1 1 0 0 0 0 0 1 0 0 0 0 0 0 0 0 0 0 1 1\n",
            " 0 1 1 0 0 1 0 1 1 1 1 0 0 1 0 0 0 0 0 1 0 0 1 1 1 0 1 0 0 0 1 1 0 1 0 1 0\n",
            " 0 0 1 0 1 0 0 0 1 0 0 1 0 0 0 1 0 0 0 1 0 0 0 0 0 1 1 0 0 0 0 0 0 1 1 1 1\n",
            " 1 0 1 0 0 0 0 0 1 1 1 0 1 1 0 1 1 0 0 0 1 0 0 0 1 0 0 1 0 1 1 1 1 0 0 0 0\n",
            " 0 0 1 1 1 1 0 1 0 1 1 1 0 1 1 1 0 0 0 1 1 0 1 1 0 0 1 1 0 1 0 1 1 1 1 0 0\n",
            " 0 1 0 0 1 1 0 1 1 0 0 0 1 1 1 1 0 0 0 0 0 0 0 1 0 1 1 0 0 0 0 0 0 1 1 1 1\n",
            " 1 0 0 0 0 1 1 0 0 0 1 1 0 1 0 0 0 1 0 1 1 1 0 1 1 0 0 0 0 1 1 0 0 0 0 0 0\n",
            " 1 0 0 0 0 1 0 1 0 1 1 0 0 0 0 0 0 0 0 1 1 0 1 1 1 1 0 0 1 0 1 0 0 1 0 0 1\n",
            " 1 1 1 1 1 1 0 0 0 1 0 1 0 1 1 0 1 0 0 0 0 0 0 0 0 1 0 0 1 1 0 0 0 0 0 1 0\n",
            " 0 0 1 1 0 1 0 0 1 0 0 0 0 0 0 1 0 0 0 0 0 0 0 1 0 1 1 0 1 1 0 1 1 0 0 1 0\n",
            " 1 0 1 0 0 1 0 0 1 0 0 0 1 0 0 1 0 1 0 1 0 1 1 0 0 1 0 0 1 1 0 1 1 0 0 1 1\n",
            " 0 1 0 1 1 0 0 0 0 0 0 0 0 0 1 1 1 1 1 0 0 1 1 0 1 1 1 0 0 0 1 0 1 0 0 0 1\n",
            " 0 0 0 0 1 0 0 1 1 0 0 0 1 0 0 1 1 1 0 0 1 0 0 1 0 0 1 0 0 1 1 0 0 0 0 1 0\n",
            " 0 1 0 1 0 0 1 0 0 0 0 0 1 0 1 1 1 0 1 0 1 0 1 0 1 0 0 0 0 0 0 1 0 0 0 1 0\n",
            " 0 0 0 1 1 0 0 1 0 0 0 1 0 1 0 1 0 0 0 0 0 0 0 1 1 1 1 0 0 0 0 1 0 0 1 1 0\n",
            " 0 0 0 1 1 1 1 1 0 1 0 0 0 1 1 0 0 1 0 0 0 1 0 1 1 0 0 1 0 0 0 0 0 0 1 0 0\n",
            " 1 0 1 0 1 0 0 1 0 0 1 1 0 0 1 1 0 0 0 1 0 0 1 1 0 1 0 0 0 0 0 0 0 0 1 0 0\n",
            " 1 0 1 1 1 0 0 0 0 1 0 1 0 0 0 0 0 0 0 1 1 0 0 0 1 1 1 1 0 0 0 0 1 0 0 0 0\n",
            " 0 0 0 0 0 0 1 1 0 1 0 0 0 1 1 1 1 1 0 0 0 1 0 0 1 1 0 0 1 0 0 0 0 0 0 1 0\n",
            " 0 0 1 0 1 1 1 1 0 0 0 1 0 0 1 1 0 0 1 0 1 0 0 1 1 0 0 0 1 1 0 0 0 0 0 0 1\n",
            " 0 1 0]\n"
          ]
        }
      ]
    },
    {
      "cell_type": "code",
      "source": [
        "#Handling the missing values\n",
        "#One hot encoding the categorical features\n",
        "print (\"\\nMissing values in different features:\\n\", train.isnull().sum())\n",
        "import numpy as np\n",
        "from sklearn.impute import SimpleImputer\n",
        "from sklearn.preprocessing import OneHotEncoder\n",
        "from sklearn.compose import ColumnTransformer\n",
        "from sklearn.pipeline import Pipeline\n",
        "#ColumnTransformer (transformers = [(\"name_of_object\", object_creation, [columns]), (\"name_of_object\", object_creation, [columns]), ...], remainder = \"passthrough\")\n",
        "ct = ColumnTransformer (transformers = [(\"si_mean\", SimpleImputer (missing_values = np.nan, strategy = \"mean\"), [2]), (\"encoder\", OneHotEncoder(), [0, 1])], remainder = \"passthrough\")\n",
        "x = ct.fit_transform (x)\n",
        "#Pipeline (steps = [(\"name_of_object\", object_creation), (\"name_of_object\", object_creation), ...])\n",
        "pipe = Pipeline (steps = [(\"si_mode\", SimpleImputer (missing_values = np.nan, strategy = \"most_frequent\")), (\"encoder\", OneHotEncoder())])\n",
        "embarked = ColumnTransformer (transformers = [(\"pipe\", pipe, [-1])], remainder = \"passthrough\")\n",
        "x = embarked.fit_transform (x)\n",
        "x_df = pd.DataFrame (x) #Converting 'x' (array) into data frame to see every column in the order they are occuring in 'x'\n",
        "print (\"\\nPreprocessed features:\\n\", x_df)"
      ],
      "metadata": {
        "colab": {
          "base_uri": "https://localhost:8080/"
        },
        "id": "83PPyGgRzf9Z",
        "outputId": "b9cb3589-7f25-4a01-c9d1-f179bd9e9605"
      },
      "execution_count": null,
      "outputs": [
        {
          "output_type": "stream",
          "name": "stdout",
          "text": [
            "\n",
            "Missing values in different features:\n",
            " PassengerId      0\n",
            "Survived         0\n",
            "Pclass           0\n",
            "Name             0\n",
            "Sex              0\n",
            "Age            177\n",
            "SibSp            0\n",
            "Parch            0\n",
            "Ticket           0\n",
            "Fare             0\n",
            "Cabin          687\n",
            "Embarked         2\n",
            "dtype: int64\n",
            "\n",
            "Preprocessed features:\n",
            "       0    1    2          3    4    5    6    7    8  9  10       11\n",
            "0    0.0  0.0  1.0       22.0  0.0  0.0  1.0  0.0  1.0  1  0     7.25\n",
            "1    1.0  0.0  0.0       38.0  1.0  0.0  0.0  1.0  0.0  1  0  71.2833\n",
            "2    0.0  0.0  1.0       26.0  0.0  0.0  1.0  1.0  0.0  0  0    7.925\n",
            "3    0.0  0.0  1.0       35.0  1.0  0.0  0.0  1.0  0.0  1  0     53.1\n",
            "4    0.0  0.0  1.0       35.0  0.0  0.0  1.0  0.0  1.0  0  0     8.05\n",
            "..   ...  ...  ...        ...  ...  ...  ...  ...  ... .. ..      ...\n",
            "886  0.0  0.0  1.0       27.0  0.0  1.0  0.0  0.0  1.0  0  0     13.0\n",
            "887  0.0  0.0  1.0       19.0  1.0  0.0  0.0  1.0  0.0  0  0     30.0\n",
            "888  0.0  0.0  1.0  29.699118  0.0  0.0  1.0  1.0  0.0  1  2    23.45\n",
            "889  1.0  0.0  0.0       26.0  1.0  0.0  0.0  0.0  1.0  0  0     30.0\n",
            "890  0.0  1.0  0.0       32.0  0.0  0.0  1.0  0.0  1.0  0  0     7.75\n",
            "\n",
            "[891 rows x 12 columns]\n"
          ]
        }
      ]
    },
    {
      "cell_type": "code",
      "source": [
        "#Splitting the dataset into training & test datasets not done as the dataset is already splitted\n",
        "from sklearn.model_selection import train_test_split\n",
        "x_train, x_test, y_train, y_test = train_test_split (x, y, test_size = 0.2, random_state = 0)"
      ],
      "metadata": {
        "id": "DHg6HUW3zitW"
      },
      "execution_count": null,
      "outputs": []
    },
    {
      "cell_type": "code",
      "source": [
        "#Building the RFC model\n",
        "from sklearn.ensemble import RandomForestClassifier as RFC\n",
        "rfc = RFC (n_estimators = 100, criterion = \"entropy\", random_state = 0)\n",
        "rfc.fit (x_train, y_train)\n",
        "y_pred = rfc.predict (x_test)"
      ],
      "metadata": {
        "id": "KQ032ELlzndu"
      },
      "execution_count": null,
      "outputs": []
    },
    {
      "cell_type": "code",
      "source": [
        "#Checking the accuracy of RFC model\n",
        "from sklearn.metrics import accuracy_score\n",
        "print (\"\\nAccuracy of the RFC model:\", accuracy_score (y_test, y_pred))"
      ],
      "metadata": {
        "colab": {
          "base_uri": "https://localhost:8080/"
        },
        "id": "fr4HxJ6lzph3",
        "outputId": "06c441b2-16a1-4b8c-de64-3c8f26e4786e"
      },
      "execution_count": null,
      "outputs": [
        {
          "output_type": "stream",
          "name": "stdout",
          "text": [
            "\n",
            "Accuracy of the RFC model: 0.8435754189944135\n"
          ]
        }
      ]
    },
    {
      "cell_type": "code",
      "source": [
        "#Cross-validation\n",
        "from sklearn.model_selection import cross_val_score\n",
        "accuracies = cross_val_score (estimator = rfc, X = x_train, y = y_train, cv = 10)\n",
        "print (\"\\nMean accuracy:\", accuracies.mean()*100)"
      ],
      "metadata": {
        "colab": {
          "base_uri": "https://localhost:8080/"
        },
        "id": "0E1dCo4zzr1_",
        "outputId": "90d60c82-a37c-45b0-8580-024e76549b19"
      },
      "execution_count": null,
      "outputs": [
        {
          "output_type": "stream",
          "name": "stdout",
          "text": [
            "\n",
            "Mean accuracy: 78.92801251956182\n"
          ]
        }
      ]
    },
    {
      "cell_type": "code",
      "source": [
        "#Grid search\n",
        "from sklearn.model_selection import GridSearchCV\n",
        "h_parameters = [{\"n_estimators\": [100, 200, 300, 400, 500], \"criterion\": [\"gini\", \"entropy\"], \"max_depth\": [2, 4, 6, 8, 10, 12, 14, 16, 18, 20], \"min_samples_split\": [2, 4, 6, 8, 10, 12, 14, 16, 18, 20], \"min_samples_leaf\": [2, 4, 6, 8, 10, 12, 14, 16, 18, 20], \"max_features\": [\"auto\", \"sqrt\", \"log2\", \"None\"]}]\n",
        "grid = GridSearchCV (estimator = rfc, param_grid = h_parameters, scoring = \"accuracy\", n_jobs = -1, cv = 10)\n",
        "grid.fit (x_train, y_train)\n",
        "best_hparameters = grid.best_params_\n",
        "best_accuracy = grid.best_score_\n",
        "print (\"\\nBest hyper-parameters:\\n\", best_hparameters)\n",
        "print (\"\\nBest accuracy:\", best_accuracy*100)"
      ],
      "metadata": {
        "id": "lGkpeI-WzunP"
      },
      "execution_count": null,
      "outputs": []
    }
  ]
}