{
  "nbformat": 4,
  "nbformat_minor": 0,
  "metadata": {
    "colab": {
      "provenance": [],
      "authorship_tag": "ABX9TyN4ezI/tRW2Lz4WDUI4Heat",
      "include_colab_link": true
    },
    "kernelspec": {
      "name": "python3",
      "display_name": "Python 3"
    },
    "language_info": {
      "name": "python"
    }
  },
  "cells": [
    {
      "cell_type": "markdown",
      "metadata": {
        "id": "view-in-github",
        "colab_type": "text"
      },
      "source": [
        "<a href=\"https://colab.research.google.com/github/ShivM99/Python/blob/main/Taxi_Benchmark.ipynb\" target=\"_parent\"><img src=\"https://colab.research.google.com/assets/colab-badge.svg\" alt=\"Open In Colab\"/></a>"
      ]
    },
    {
      "cell_type": "markdown",
      "source": [
        "**Importing the libraries**"
      ],
      "metadata": {
        "id": "5ePwlfSkeyP_"
      }
    },
    {
      "cell_type": "code",
      "execution_count": 1,
      "metadata": {
        "id": "QVoM3YPjIINJ"
      },
      "outputs": [],
      "source": [
        "import pandas as pd \n",
        "import numpy as np\n",
        "from datetime import timedelta\n",
        "import datetime as dt\n",
        "import matplotlib.pyplot as plt\n",
        "%matplotlib inline\n",
        "import seaborn as sns"
      ]
    },
    {
      "cell_type": "markdown",
      "source": [
        "**Importing the dataset**"
      ],
      "metadata": {
        "id": "oygDJOIce_cN"
      }
    },
    {
      "cell_type": "code",
      "source": [
        "data=pd.read_csv ('nyc_taxi_trip_duration.csv')\n",
        "data.shape"
      ],
      "metadata": {
        "id": "Oz476FhzIcMT",
        "colab": {
          "base_uri": "https://localhost:8080/"
        },
        "outputId": "0ec76574-7459-4f2d-faf6-3ffc8472eda5"
      },
      "execution_count": 2,
      "outputs": [
        {
          "output_type": "execute_result",
          "data": {
            "text/plain": [
              "(729322, 11)"
            ]
          },
          "metadata": {},
          "execution_count": 2
        }
      ]
    },
    {
      "cell_type": "markdown",
      "source": [
        "**Handling the date-time data**"
      ],
      "metadata": {
        "id": "2oRFl_gKfGhv"
      }
    },
    {
      "cell_type": "code",
      "source": [
        "data['pickup_datetime'] = pd.to_datetime (data['pickup_datetime'])\n",
        "data['dropoff_datetime'] = pd.to_datetime (data['dropoff_datetime'])\n",
        "\n",
        "data['check_trip_duration'] = (data['dropoff_datetime'] - data['pickup_datetime']).map (lambda x: x.total_seconds())\n",
        "\n",
        "duration_difference = data[np.abs (data['check_trip_duration'].values  - data['trip_duration'].values) > 1]\n",
        "duration_difference.shape"
      ],
      "metadata": {
        "colab": {
          "base_uri": "https://localhost:8080/"
        },
        "id": "0gR26QO6MffC",
        "outputId": "152ef5e4-57d2-45e5-ef63-6649a0a5b184"
      },
      "execution_count": 3,
      "outputs": [
        {
          "output_type": "execute_result",
          "data": {
            "text/plain": [
              "(693207, 12)"
            ]
          },
          "metadata": {},
          "execution_count": 3
        }
      ]
    },
    {
      "cell_type": "markdown",
      "source": [
        "**Extracting important features from the 'pickup_datetime'**"
      ],
      "metadata": {
        "id": "Y31_3-YgfEVU"
      }
    },
    {
      "cell_type": "code",
      "source": [
        "data['pickup_day'] = data['pickup_datetime'].dt.day\n",
        "data['pickup_day']"
      ],
      "metadata": {
        "colab": {
          "base_uri": "https://localhost:8080/"
        },
        "id": "HFB05zDElcM5",
        "outputId": "c427aad8-08f0-4d94-faba-343fb266333b"
      },
      "execution_count": 4,
      "outputs": [
        {
          "output_type": "execute_result",
          "data": {
            "text/plain": [
              "0         29\n",
              "1          3\n",
              "2         21\n",
              "3          1\n",
              "4         17\n",
              "          ..\n",
              "729317    21\n",
              "729318    22\n",
              "729319    15\n",
              "729320    19\n",
              "729321     1\n",
              "Name: pickup_day, Length: 729322, dtype: int64"
            ]
          },
          "metadata": {},
          "execution_count": 4
        }
      ]
    },
    {
      "cell_type": "code",
      "source": [
        "data['pickup_month'] = data['pickup_datetime'].dt.month\n",
        "data['pickup_month']"
      ],
      "metadata": {
        "colab": {
          "base_uri": "https://localhost:8080/"
        },
        "id": "vJ0vfvwJlcwK",
        "outputId": "382e1386-c666-4427-856f-f42828ad4e87"
      },
      "execution_count": 5,
      "outputs": [
        {
          "output_type": "execute_result",
          "data": {
            "text/plain": [
              "0          2\n",
              "1         11\n",
              "2          2\n",
              "3          5\n",
              "4          2\n",
              "          ..\n",
              "729317     5\n",
              "729318     2\n",
              "729319     4\n",
              "729320     6\n",
              "729321     1\n",
              "Name: pickup_month, Length: 729322, dtype: int64"
            ]
          },
          "metadata": {},
          "execution_count": 5
        }
      ]
    },
    {
      "cell_type": "code",
      "source": [
        "data['pickup_dayofweek'] = data['pickup_datetime'].dt.dayofweek\n",
        "data['pickup_dayofweek']"
      ],
      "metadata": {
        "colab": {
          "base_uri": "https://localhost:8080/"
        },
        "id": "G5ug2REqleWq",
        "outputId": "ebc16b4f-93e6-4ea3-8c9d-e26755729f3d"
      },
      "execution_count": 6,
      "outputs": [
        {
          "output_type": "execute_result",
          "data": {
            "text/plain": [
              "0         0\n",
              "1         3\n",
              "2         6\n",
              "3         6\n",
              "4         2\n",
              "         ..\n",
              "729317    5\n",
              "729318    0\n",
              "729319    4\n",
              "729320    6\n",
              "729321    4\n",
              "Name: pickup_dayofweek, Length: 729322, dtype: int64"
            ]
          },
          "metadata": {},
          "execution_count": 6
        }
      ]
    },
    {
      "cell_type": "code",
      "source": [
        "data['pickup_hour'] = data['pickup_datetime'].dt.hour\n",
        "data['pickup_hour']"
      ],
      "metadata": {
        "colab": {
          "base_uri": "https://localhost:8080/"
        },
        "id": "TgiSQM9elgOZ",
        "outputId": "5a2f7877-59f0-4184-b425-a2bd218b004b"
      },
      "execution_count": 7,
      "outputs": [
        {
          "output_type": "execute_result",
          "data": {
            "text/plain": [
              "0         16\n",
              "1         23\n",
              "2         17\n",
              "3          9\n",
              "4          6\n",
              "          ..\n",
              "729317    13\n",
              "729318     0\n",
              "729319    18\n",
              "729320     9\n",
              "729321    17\n",
              "Name: pickup_hour, Length: 729322, dtype: int64"
            ]
          },
          "metadata": {},
          "execution_count": 7
        }
      ]
    },
    {
      "cell_type": "code",
      "source": [
        "data['pickup_minute'] = data['pickup_datetime'].dt.minute\n",
        "data['pickup_minute']"
      ],
      "metadata": {
        "colab": {
          "base_uri": "https://localhost:8080/"
        },
        "id": "ilM4otQflh6a",
        "outputId": "971161c4-65ee-474a-d504-e5056adff381"
      },
      "execution_count": 8,
      "outputs": [
        {
          "output_type": "execute_result",
          "data": {
            "text/plain": [
              "0         40\n",
              "1         35\n",
              "2         59\n",
              "3         44\n",
              "4         42\n",
              "          ..\n",
              "729317    29\n",
              "729318    43\n",
              "729319    56\n",
              "729320    50\n",
              "729321    24\n",
              "Name: pickup_minute, Length: 729322, dtype: int64"
            ]
          },
          "metadata": {},
          "execution_count": 8
        }
      ]
    },
    {
      "cell_type": "code",
      "source": [
        "data.dtypes"
      ],
      "metadata": {
        "id": "7UULn-jhIwlC",
        "outputId": "ed64d0d8-408b-4b3a-8222-68f23ecb9e8a",
        "colab": {
          "base_uri": "https://localhost:8080/"
        }
      },
      "execution_count": 9,
      "outputs": [
        {
          "output_type": "execute_result",
          "data": {
            "text/plain": [
              "id                             object\n",
              "vendor_id                       int64\n",
              "pickup_datetime        datetime64[ns]\n",
              "dropoff_datetime       datetime64[ns]\n",
              "passenger_count                 int64\n",
              "pickup_longitude              float64\n",
              "pickup_latitude               float64\n",
              "dropoff_longitude             float64\n",
              "dropoff_latitude              float64\n",
              "store_and_fwd_flag             object\n",
              "trip_duration                   int64\n",
              "check_trip_duration           float64\n",
              "pickup_day                      int64\n",
              "pickup_month                    int64\n",
              "pickup_dayofweek                int64\n",
              "pickup_hour                     int64\n",
              "pickup_minute                   int64\n",
              "dtype: object"
            ]
          },
          "metadata": {},
          "execution_count": 9
        }
      ]
    },
    {
      "cell_type": "code",
      "source": [
        "data['store_and_fwd_flag'] = 1 * (data.store_and_fwd_flag.values == 'Y')"
      ],
      "metadata": {
        "id": "OQECW_Vrg6uW"
      },
      "execution_count": 10,
      "outputs": []
    },
    {
      "cell_type": "code",
      "source": [
        "data.isna ().sum ()"
      ],
      "metadata": {
        "colab": {
          "base_uri": "https://localhost:8080/"
        },
        "id": "gG3M3vPMKH0G",
        "outputId": "f5f2b882-7564-4cfc-bec3-5bd85e488f2f"
      },
      "execution_count": 11,
      "outputs": [
        {
          "output_type": "execute_result",
          "data": {
            "text/plain": [
              "id                     0\n",
              "vendor_id              0\n",
              "pickup_datetime        0\n",
              "dropoff_datetime       0\n",
              "passenger_count        0\n",
              "pickup_longitude       0\n",
              "pickup_latitude        0\n",
              "dropoff_longitude      0\n",
              "dropoff_latitude       0\n",
              "store_and_fwd_flag     0\n",
              "trip_duration          0\n",
              "check_trip_duration    0\n",
              "pickup_day             0\n",
              "pickup_month           0\n",
              "pickup_dayofweek       0\n",
              "pickup_hour            0\n",
              "pickup_minute          0\n",
              "dtype: int64"
            ]
          },
          "metadata": {},
          "execution_count": 11
        }
      ]
    },
    {
      "cell_type": "code",
      "source": [
        "data['trip_duration'].describe()/3600"
      ],
      "metadata": {
        "colab": {
          "base_uri": "https://localhost:8080/"
        },
        "id": "8lxPbtIfjGDZ",
        "outputId": "547ae8e5-98c3-4932-800b-a8e5b6165a0b"
      },
      "execution_count": 12,
      "outputs": [
        {
          "output_type": "execute_result",
          "data": {
            "text/plain": [
              "count    202.589444\n",
              "mean       0.264508\n",
              "std        1.073507\n",
              "min        0.000278\n",
              "25%        0.110278\n",
              "50%        0.184167\n",
              "75%        0.298611\n",
              "max      538.815556\n",
              "Name: trip_duration, dtype: float64"
            ]
          },
          "metadata": {},
          "execution_count": 12
        }
      ]
    },
    {
      "cell_type": "markdown",
      "source": [
        "**'trip_duration' is positively skewed**"
      ],
      "metadata": {
        "id": "NBMif-r_ffeO"
      }
    },
    {
      "cell_type": "code",
      "source": [
        "sns.distplot (data['trip_duration'], kde = False, bins = 200)\n",
        "plt.show()"
      ],
      "metadata": {
        "colab": {
          "base_uri": "https://localhost:8080/",
          "height": 641
        },
        "id": "-Y_UkqM-jheh",
        "outputId": "f26115a4-c3cf-4ce9-bb2b-2ddbea7be20d"
      },
      "execution_count": 13,
      "outputs": [
        {
          "output_type": "stream",
          "name": "stderr",
          "text": [
            "<ipython-input-13-0f4ad24b6bb3>:1: UserWarning: \n",
            "\n",
            "`distplot` is a deprecated function and will be removed in seaborn v0.14.0.\n",
            "\n",
            "Please adapt your code to use either `displot` (a figure-level function with\n",
            "similar flexibility) or `histplot` (an axes-level function for histograms).\n",
            "\n",
            "For a guide to updating your code to use the new functions, please see\n",
            "https://gist.github.com/mwaskom/de44147ed2974457ad6372750bbe5751\n",
            "\n",
            "  sns.distplot (data['trip_duration'], kde = False, bins = 200)\n"
          ]
        },
        {
          "output_type": "display_data",
          "data": {
            "text/plain": [
              "<Figure size 640x480 with 1 Axes>"
            ],
            "image/png": "[encoded data removed]"
          },
          "metadata": {}
        }
      ]
    },
    {
      "cell_type": "markdown",
      "source": [
        "**Log transforming the 'trip_duration' as it is positively skewed and we want it to be normally distributed**"
      ],
      "metadata": {
        "id": "AQkdAyF5fRtV"
      }
    },
    {
      "cell_type": "code",
      "source": [
        "data['log_trip_duration'] = np.log (data['trip_duration'].values + 1)\n",
        "sns.distplot (data['log_trip_duration'], kde = False, bins = 200)\n",
        "plt.show()"
      ],
      "metadata": {
        "colab": {
          "base_uri": "https://localhost:8080/",
          "height": 641
        },
        "id": "DA9Mypp2k8vb",
        "outputId": "eae5713d-3999-44cf-cb59-b8c70bd01572"
      },
      "execution_count": 14,
      "outputs": [
        {
          "output_type": "stream",
          "name": "stderr",
          "text": [
            "<ipython-input-14-419247eddfa6>:2: UserWarning: \n",
            "\n",
            "`distplot` is a deprecated function and will be removed in seaborn v0.14.0.\n",
            "\n",
            "Please adapt your code to use either `displot` (a figure-level function with\n",
            "similar flexibility) or `histplot` (an axes-level function for histograms).\n",
            "\n",
            "For a guide to updating your code to use the new functions, please see\n",
            "https://gist.github.com/mwaskom/de44147ed2974457ad6372750bbe5751\n",
            "\n",
            "  sns.distplot (data['log_trip_duration'], kde = False, bins = 200)\n"
          ]
        },
        {
          "output_type": "display_data",
          "data": {
            "text/plain": [
              "<Figure size 640x480 with 1 Axes>"
            ],
            "image/png": "[encoded data removed]"
          },
          "metadata": {}
        }
      ]
    },
    {
      "cell_type": "markdown",
      "source": [
        "**Splitting the train and test dataset**"
      ],
      "metadata": {
        "id": "kAz_XuLDhgCd"
      }
    },
    {
      "cell_type": "code",
      "source": [
        "from sklearn.utils import shuffle\n",
        "\n",
        "data = shuffle (data, random_state = 42)\n",
        "\n",
        "div = int (data.shape[0]/4)\n",
        "\n",
        "train = data.loc[:3*div+1, :]\n",
        "test = data.loc[3*div+1:]"
      ],
      "metadata": {
        "id": "Y6GpYK90LvQH"
      },
      "execution_count": 15,
      "outputs": []
    },
    {
      "cell_type": "markdown",
      "source": [
        "**Calculating the mean squared error of test 'log_trip_duration' against the mean of train 'log_trip_duration'**"
      ],
      "metadata": {
        "id": "pJOXMsmAhm9s"
      }
    },
    {
      "cell_type": "code",
      "source": [
        "test['simple_mean'] = train['log_trip_duration'].mean()"
      ],
      "metadata": {
        "colab": {
          "base_uri": "https://localhost:8080/"
        },
        "id": "7qaH5cngjEsa",
        "outputId": "a4cfdfd9-b250-4af9-f0eb-f9465abbbcf0"
      },
      "execution_count": 16,
      "outputs": [
        {
          "output_type": "stream",
          "name": "stderr",
          "text": [
            "<ipython-input-16-53863a156e49>:1: SettingWithCopyWarning: \n",
            "A value is trying to be set on a copy of a slice from a DataFrame.\n",
            "Try using .loc[row_indexer,col_indexer] = value instead\n",
            "\n",
            "See the caveats in the documentation: https://pandas.pydata.org/pandas-docs/stable/user_guide/indexing.html#returning-a-view-versus-a-copy\n",
            "  test['simple_mean'] = train['log_trip_duration'].mean()\n"
          ]
        }
      ]
    },
    {
      "cell_type": "code",
      "source": [
        "from sklearn.metrics import mean_squared_error as mse\n",
        "simple_mean_error = mse (test['log_trip_duration'] , test['simple_mean'])\n",
        "simple_mean_error"
      ],
      "metadata": {
        "colab": {
          "base_uri": "https://localhost:8080/"
        },
        "id": "shCUBj1ywgTZ",
        "outputId": "9eb1cceb-1495-4fba-f0cb-1c524c4abbb8"
      },
      "execution_count": 17,
      "outputs": [
        {
          "output_type": "execute_result",
          "data": {
            "text/plain": [
              "0.630993275932988"
            ]
          },
          "metadata": {},
          "execution_count": 17
        }
      ]
    },
    {
      "cell_type": "markdown",
      "source": [
        "**Our benchmark model have a MSE of 0.631. Our models should have a lesser MSE than this**"
      ],
      "metadata": {
        "id": "akRpsPNBiMD2"
      }
    }
  ]
}
