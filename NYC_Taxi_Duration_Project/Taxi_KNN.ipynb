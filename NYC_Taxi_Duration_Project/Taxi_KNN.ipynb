{
  "nbformat": 4,
  "nbformat_minor": 0,
  "metadata": {
    "colab": {
      "provenance": [],
      "authorship_tag": "ABX9TyOHdSSkq/c9g/pxW1+/Ouqr",
      "include_colab_link": true
    },
    "kernelspec": {
      "name": "python3",
      "display_name": "Python 3"
    },
    "language_info": {
      "name": "python"
    }
  },
  "cells": [
    {
      "cell_type": "markdown",
      "metadata": {
        "id": "view-in-github",
        "colab_type": "text"
      },
      "source": [
        "<a href=\"https://colab.research.google.com/github/ShivM99/Python/blob/main/Taxi_KNN.ipynb\" target=\"_parent\"><img src=\"https://colab.research.google.com/assets/colab-badge.svg\" alt=\"Open In Colab\"/></a>"
      ]
    },
    {
      "cell_type": "markdown",
      "source": [
        "**Importing the libraries**"
      ],
      "metadata": {
        "id": "HQlSmGWHxX14"
      }
    },
    {
      "cell_type": "code",
      "execution_count": null,
      "metadata": {
        "id": "JCkqVGf86Rxx"
      },
      "outputs": [],
      "source": [
        "import pandas as pd\n",
        "import numpy as np\n",
        "import matplotlib.pyplot as plt\n",
        "%matplotlib inline\n",
        "from math import sqrt"
      ]
    },
    {
      "cell_type": "markdown",
      "source": [
        "**Importing the dataset**"
      ],
      "metadata": {
        "id": "HR6yJjawx6Jm"
      }
    },
    {
      "cell_type": "code",
      "source": [
        "data = pd.read_csv ('nyc_taxi_trip_duration.csv')\n",
        "data.shape"
      ],
      "metadata": {
        "id": "XDcejGKR6W2n",
        "colab": {
          "base_uri": "https://localhost:8080/"
        },
        "outputId": "f0e4333d-f593-4d1b-ddc7-e78b17546118"
      },
      "execution_count": null,
      "outputs": [
        {
          "output_type": "execute_result",
          "data": {
            "text/plain": [
              "(729322, 11)"
            ]
          },
          "metadata": {},
          "execution_count": 28
        }
      ]
    },
    {
      "cell_type": "markdown",
      "source": [
        "**Handling the date-time data**"
      ],
      "metadata": {
        "id": "GOLOJ5FSyByO"
      }
    },
    {
      "cell_type": "code",
      "source": [
        "data['pickup_datetime'] = pd.to_datetime (data['pickup_datetime'], format = '%d-%m-%Y %H:%M')\n",
        "data['dropoff_datetime'] = pd.to_datetime (data['dropoff_datetime'], format = '%d-%m-%Y %H:%M')\n",
        "\n",
        "data['check_trip_duration'] = (data['dropoff_datetime'] - data['pickup_datetime']).map (lambda x: x.total_seconds())\n",
        "\n",
        "duration_difference = data[np.abs (data['check_trip_duration'].values  - data['trip_duration'].values) > 1]\n",
        "duration_difference.shape"
      ],
      "metadata": {
        "colab": {
          "base_uri": "https://localhost:8080/"
        },
        "id": "lx1o9D4iEQSO",
        "outputId": "979bd7ad-d7c4-4a4e-df14-e3419b5ee158"
      },
      "execution_count": null,
      "outputs": [
        {
          "output_type": "execute_result",
          "data": {
            "text/plain": [
              "(693032, 12)"
            ]
          },
          "metadata": {},
          "execution_count": 29
        }
      ]
    },
    {
      "cell_type": "markdown",
      "source": [
        "**Extracting important features from the 'pickup_datetime'**"
      ],
      "metadata": {
        "id": "wk9jCLDdyHqG"
      }
    },
    {
      "cell_type": "code",
      "source": [
        "#The day of the year may influence the traffic in the place\n",
        "data['pickup_day'] = data['pickup_datetime'].dt.day\n",
        "data['pickup_day']"
      ],
      "metadata": {
        "colab": {
          "base_uri": "https://localhost:8080/"
        },
        "id": "upX-vGbyNQ9O",
        "outputId": "5cd67bbb-a47c-4edb-b485-cc039b75d484"
      },
      "execution_count": null,
      "outputs": [
        {
          "output_type": "execute_result",
          "data": {
            "text/plain": [
              "0         29\n",
              "1         11\n",
              "2         21\n",
              "3          5\n",
              "4         17\n",
              "          ..\n",
              "729317    21\n",
              "729318    22\n",
              "729319    15\n",
              "729320    19\n",
              "729321     1\n",
              "Name: pickup_day, Length: 729322, dtype: int64"
            ]
          },
          "metadata": {},
          "execution_count": 30
        }
      ]
    },
    {
      "cell_type": "code",
      "source": [
        "#The month of the year may also influence the traffic in the place\n",
        "data['pickup_month'] = data['pickup_datetime'].dt.month\n",
        "data['pickup_month']"
      ],
      "metadata": {
        "colab": {
          "base_uri": "https://localhost:8080/"
        },
        "id": "XLyzHnUILBbw",
        "outputId": "4d567a09-5eae-482a-becd-0397d17155b9"
      },
      "execution_count": null,
      "outputs": [
        {
          "output_type": "execute_result",
          "data": {
            "text/plain": [
              "0         2\n",
              "1         3\n",
              "2         2\n",
              "3         1\n",
              "4         2\n",
              "         ..\n",
              "729317    5\n",
              "729318    2\n",
              "729319    4\n",
              "729320    6\n",
              "729321    1\n",
              "Name: pickup_month, Length: 729322, dtype: int64"
            ]
          },
          "metadata": {},
          "execution_count": 31
        }
      ]
    },
    {
      "cell_type": "code",
      "source": [
        "#The day of the week also may influence the traffic in the place, say a weekend\n",
        "data['pickup_dayofweek'] = data['pickup_datetime'].dt.dayofweek\n",
        "data['pickup_dayofweek']"
      ],
      "metadata": {
        "colab": {
          "base_uri": "https://localhost:8080/"
        },
        "id": "ZWGJaQGEMj1p",
        "outputId": "e9392260-9ae1-4b4e-ef04-a99a54f1226c"
      },
      "execution_count": null,
      "outputs": [
        {
          "output_type": "execute_result",
          "data": {
            "text/plain": [
              "0         0\n",
              "1         4\n",
              "2         6\n",
              "3         1\n",
              "4         2\n",
              "         ..\n",
              "729317    5\n",
              "729318    0\n",
              "729319    4\n",
              "729320    6\n",
              "729321    4\n",
              "Name: pickup_dayofweek, Length: 729322, dtype: int64"
            ]
          },
          "metadata": {},
          "execution_count": 32
        }
      ]
    },
    {
      "cell_type": "code",
      "source": [
        "#The hour of the day may also influence the traffic in the place, say the time of going to or leaving the office\n",
        "data['pickup_hour'] = data['pickup_datetime'].dt.hour\n",
        "data['pickup_hour']"
      ],
      "metadata": {
        "colab": {
          "base_uri": "https://localhost:8080/"
        },
        "id": "f-A9fH-QNbMa",
        "outputId": "0c7e016f-bb0b-41d1-8d8e-c03b93a39012"
      },
      "execution_count": null,
      "outputs": [
        {
          "output_type": "execute_result",
          "data": {
            "text/plain": [
              "0         16\n",
              "1         23\n",
              "2         17\n",
              "3          9\n",
              "4          6\n",
              "          ..\n",
              "729317    13\n",
              "729318     0\n",
              "729319    18\n",
              "729320     9\n",
              "729321    17\n",
              "Name: pickup_hour, Length: 729322, dtype: int64"
            ]
          },
          "metadata": {},
          "execution_count": 33
        }
      ]
    },
    {
      "cell_type": "code",
      "source": [
        "#The minute of the hour may also influence the traffic in the place, say the time of going to or leaving the office\n",
        "data['pickup_minute'] = data['pickup_datetime'].dt.minute\n",
        "data['pickup_minute']"
      ],
      "metadata": {
        "colab": {
          "base_uri": "https://localhost:8080/"
        },
        "id": "G9BrD7ZxNaTa",
        "outputId": "622befe8-a0f5-4e33-e472-c53f2bb3311d"
      },
      "execution_count": null,
      "outputs": [
        {
          "output_type": "execute_result",
          "data": {
            "text/plain": [
              "0         40\n",
              "1         35\n",
              "2         59\n",
              "3         44\n",
              "4         42\n",
              "          ..\n",
              "729317    29\n",
              "729318    43\n",
              "729319    56\n",
              "729320    50\n",
              "729321    24\n",
              "Name: pickup_minute, Length: 729322, dtype: int64"
            ]
          },
          "metadata": {},
          "execution_count": 34
        }
      ]
    },
    {
      "cell_type": "markdown",
      "source": [
        "**Log transforming the 'trip_duration' as it is positively skewed and we want it to be normally distributed**"
      ],
      "metadata": {
        "id": "XsXc9Hmm2jcf"
      }
    },
    {
      "cell_type": "code",
      "source": [
        "data['log_trip_duration'] = np.log (data['trip_duration'].values + 1)"
      ],
      "metadata": {
        "id": "nb894cBmn_v2"
      },
      "execution_count": null,
      "outputs": []
    },
    {
      "cell_type": "code",
      "source": [
        "data.dtypes"
      ],
      "metadata": {
        "colab": {
          "base_uri": "https://localhost:8080/"
        },
        "id": "2-_g9TnTQ7RP",
        "outputId": "205f1ae4-125d-4775-c82c-6f0240b5d6c3"
      },
      "execution_count": null,
      "outputs": [
        {
          "output_type": "execute_result",
          "data": {
            "text/plain": [
              "id                             object\n",
              "vendor_id                       int64\n",
              "pickup_datetime        datetime64[ns]\n",
              "dropoff_datetime       datetime64[ns]\n",
              "passenger_count                 int64\n",
              "pickup_longitude              float64\n",
              "pickup_latitude               float64\n",
              "dropoff_longitude             float64\n",
              "dropoff_latitude              float64\n",
              "store_and_fwd_flag             object\n",
              "trip_duration                   int64\n",
              "check_trip_duration           float64\n",
              "pickup_day                      int64\n",
              "pickup_month                    int64\n",
              "pickup_dayofweek                int64\n",
              "pickup_hour                     int64\n",
              "pickup_minute                   int64\n",
              "log_trip_duration             float64\n",
              "dtype: object"
            ]
          },
          "metadata": {},
          "execution_count": 36
        }
      ]
    },
    {
      "cell_type": "markdown",
      "source": [
        "**Seggregating the features (x) from the target variable (y)**"
      ],
      "metadata": {
        "id": "NAtXVrcS2ysW"
      }
    },
    {
      "cell_type": "code",
      "source": [
        "x = data.iloc[:, [1, 4, 5, 6, 7, 8, 9, 12, 13, 14, 15, 16]].values\n",
        "x_df = pd.DataFrame (x, columns = ['vendor_id', 'passenger_count', 'pickup_longitude', 'pickup_latitude', 'dropoff_longitude', 'dropoff_latitude', 'store_and_fwd_flag', 'pickup_day', 'pickup_month', 'pickup_dayofweek', 'pickup_hour', 'pickup_minute'])\n",
        "x_df"
      ],
      "metadata": {
        "id": "0KfM0PmT6mLy",
        "colab": {
          "base_uri": "https://localhost:8080/",
          "height": 487
        },
        "outputId": "a3a02f05-9ef1-45b6-d700-1a2d6b4fb73e"
      },
      "execution_count": null,
      "outputs": [
        {
          "output_type": "execute_result",
          "data": {
            "text/plain": [
              "       vendor_id passenger_count pickup_longitude pickup_latitude  \\\n",
              "0              2               1       -73.953918       40.778873   \n",
              "1              1               2       -73.988312       40.731743   \n",
              "2              2               2       -73.997314       40.721458   \n",
              "3              2               6        -73.96167        40.75972   \n",
              "4              1               1        -74.01712       40.708469   \n",
              "...          ...             ...              ...             ...   \n",
              "729317         2               2       -73.965919        40.78978   \n",
              "729318         1               1       -73.996666       40.737434   \n",
              "729319         1               1       -73.997849       40.761696   \n",
              "729320         1               1       -74.006706       40.708244   \n",
              "729321         2               4       -74.003342       40.743839   \n",
              "\n",
              "       dropoff_longitude dropoff_latitude store_and_fwd_flag pickup_day  \\\n",
              "0             -73.963875        40.771164                  N         29   \n",
              "1             -73.994751        40.694931                  N         11   \n",
              "2             -73.948029        40.774918                  N         21   \n",
              "3             -73.956779        40.780628                  N          5   \n",
              "4             -73.988182        40.740631                  N         17   \n",
              "...                  ...              ...                ...        ...   \n",
              "729317        -73.952637        40.789181                  N         21   \n",
              "729318         -74.00132        40.731911                  N         22   \n",
              "729319        -74.001488        40.741207                  N         15   \n",
              "729320         -74.01355        40.713814                  N         19   \n",
              "729321        -73.945847        40.712841                  N          1   \n",
              "\n",
              "       pickup_month pickup_dayofweek pickup_hour pickup_minute  \n",
              "0                 2                0          16            40  \n",
              "1                 3                4          23            35  \n",
              "2                 2                6          17            59  \n",
              "3                 1                1           9            44  \n",
              "4                 2                2           6            42  \n",
              "...             ...              ...         ...           ...  \n",
              "729317            5                5          13            29  \n",
              "729318            2                0           0            43  \n",
              "729319            4                4          18            56  \n",
              "729320            6                6           9            50  \n",
              "729321            1                4          17            24  \n",
              "\n",
              "[729322 rows x 12 columns]"
            ],
            "text/html": [
              "\n",
              "  <div id=\"df-9d7f9cea-ddfb-469b-83ac-057a844feade\">\n",
              "    <div class=\"colab-df-container\">\n",
              "      <div>\n",
              "<style scoped>\n",
              "    .dataframe tbody tr th:only-of-type {\n",
              "        vertical-align: middle;\n",
              "    }\n",
              "\n",
              "    .dataframe tbody tr th {\n",
              "        vertical-align: top;\n",
              "    }\n",
              "\n",
              "    .dataframe thead th {\n",
              "        text-align: right;\n",
              "    }\n",
              "</style>\n",
              "<table border=\"1\" class=\"dataframe\">\n",
              "  <thead>\n",
              "    <tr style=\"text-align: right;\">\n",
              "      <th></th>\n",
              "      <th>vendor_id</th>\n",
              "      <th>passenger_count</th>\n",
              "      <th>pickup_longitude</th>\n",
              "      <th>pickup_latitude</th>\n",
              "      <th>dropoff_longitude</th>\n",
              "      <th>dropoff_latitude</th>\n",
              "      <th>store_and_fwd_flag</th>\n",
              "      <th>pickup_day</th>\n",
              "      <th>pickup_month</th>\n",
              "      <th>pickup_dayofweek</th>\n",
              "      <th>pickup_hour</th>\n",
              "      <th>pickup_minute</th>\n",
              "    </tr>\n",
              "  </thead>\n",
              "  <tbody>\n",
              "    <tr>\n",
              "      <th>0</th>\n",
              "      <td>2</td>\n",
              "      <td>1</td>\n",
              "      <td>-73.953918</td>\n",
              "      <td>40.778873</td>\n",
              "      <td>-73.963875</td>\n",
              "      <td>40.771164</td>\n",
              "      <td>N</td>\n",
              "      <td>29</td>\n",
              "      <td>2</td>\n",
              "      <td>0</td>\n",
              "      <td>16</td>\n",
              "      <td>40</td>\n",
              "    </tr>\n",
              "    <tr>\n",
              "      <th>1</th>\n",
              "      <td>1</td>\n",
              "      <td>2</td>\n",
              "      <td>-73.988312</td>\n",
              "      <td>40.731743</td>\n",
              "      <td>-73.994751</td>\n",
              "      <td>40.694931</td>\n",
              "      <td>N</td>\n",
              "      <td>11</td>\n",
              "      <td>3</td>\n",
              "      <td>4</td>\n",
              "      <td>23</td>\n",
              "      <td>35</td>\n",
              "    </tr>\n",
              "    <tr>\n",
              "      <th>2</th>\n",
              "      <td>2</td>\n",
              "      <td>2</td>\n",
              "      <td>-73.997314</td>\n",
              "      <td>40.721458</td>\n",
              "      <td>-73.948029</td>\n",
              "      <td>40.774918</td>\n",
              "      <td>N</td>\n",
              "      <td>21</td>\n",
              "      <td>2</td>\n",
              "      <td>6</td>\n",
              "      <td>17</td>\n",
              "      <td>59</td>\n",
              "    </tr>\n",
              "    <tr>\n",
              "      <th>3</th>\n",
              "      <td>2</td>\n",
              "      <td>6</td>\n",
              "      <td>-73.96167</td>\n",
              "      <td>40.75972</td>\n",
              "      <td>-73.956779</td>\n",
              "      <td>40.780628</td>\n",
              "      <td>N</td>\n",
              "      <td>5</td>\n",
              "      <td>1</td>\n",
              "      <td>1</td>\n",
              "      <td>9</td>\n",
              "      <td>44</td>\n",
              "    </tr>\n",
              "    <tr>\n",
              "      <th>4</th>\n",
              "      <td>1</td>\n",
              "      <td>1</td>\n",
              "      <td>-74.01712</td>\n",
              "      <td>40.708469</td>\n",
              "      <td>-73.988182</td>\n",
              "      <td>40.740631</td>\n",
              "      <td>N</td>\n",
              "      <td>17</td>\n",
              "      <td>2</td>\n",
              "      <td>2</td>\n",
              "      <td>6</td>\n",
              "      <td>42</td>\n",
              "    </tr>\n",
              "    <tr>\n",
              "      <th>...</th>\n",
              "      <td>...</td>\n",
              "      <td>...</td>\n",
              "      <td>...</td>\n",
              "      <td>...</td>\n",
              "      <td>...</td>\n",
              "      <td>...</td>\n",
              "      <td>...</td>\n",
              "      <td>...</td>\n",
              "      <td>...</td>\n",
              "      <td>...</td>\n",
              "      <td>...</td>\n",
              "      <td>...</td>\n",
              "    </tr>\n",
              "    <tr>\n",
              "      <th>729317</th>\n",
              "      <td>2</td>\n",
              "      <td>2</td>\n",
              "      <td>-73.965919</td>\n",
              "      <td>40.78978</td>\n",
              "      <td>-73.952637</td>\n",
              "      <td>40.789181</td>\n",
              "      <td>N</td>\n",
              "      <td>21</td>\n",
              "      <td>5</td>\n",
              "      <td>5</td>\n",
              "      <td>13</td>\n",
              "      <td>29</td>\n",
              "    </tr>\n",
              "    <tr>\n",
              "      <th>729318</th>\n",
              "      <td>1</td>\n",
              "      <td>1</td>\n",
              "      <td>-73.996666</td>\n",
              "      <td>40.737434</td>\n",
              "      <td>-74.00132</td>\n",
              "      <td>40.731911</td>\n",
              "      <td>N</td>\n",
              "      <td>22</td>\n",
              "      <td>2</td>\n",
              "      <td>0</td>\n",
              "      <td>0</td>\n",
              "      <td>43</td>\n",
              "    </tr>\n",
              "    <tr>\n",
              "      <th>729319</th>\n",
              "      <td>1</td>\n",
              "      <td>1</td>\n",
              "      <td>-73.997849</td>\n",
              "      <td>40.761696</td>\n",
              "      <td>-74.001488</td>\n",
              "      <td>40.741207</td>\n",
              "      <td>N</td>\n",
              "      <td>15</td>\n",
              "      <td>4</td>\n",
              "      <td>4</td>\n",
              "      <td>18</td>\n",
              "      <td>56</td>\n",
              "    </tr>\n",
              "    <tr>\n",
              "      <th>729320</th>\n",
              "      <td>1</td>\n",
              "      <td>1</td>\n",
              "      <td>-74.006706</td>\n",
              "      <td>40.708244</td>\n",
              "      <td>-74.01355</td>\n",
              "      <td>40.713814</td>\n",
              "      <td>N</td>\n",
              "      <td>19</td>\n",
              "      <td>6</td>\n",
              "      <td>6</td>\n",
              "      <td>9</td>\n",
              "      <td>50</td>\n",
              "    </tr>\n",
              "    <tr>\n",
              "      <th>729321</th>\n",
              "      <td>2</td>\n",
              "      <td>4</td>\n",
              "      <td>-74.003342</td>\n",
              "      <td>40.743839</td>\n",
              "      <td>-73.945847</td>\n",
              "      <td>40.712841</td>\n",
              "      <td>N</td>\n",
              "      <td>1</td>\n",
              "      <td>1</td>\n",
              "      <td>4</td>\n",
              "      <td>17</td>\n",
              "      <td>24</td>\n",
              "    </tr>\n",
              "  </tbody>\n",
              "</table>\n",
              "<p>729322 rows × 12 columns</p>\n",
              "</div>\n",
              "      <button class=\"colab-df-convert\" onclick=\"convertToInteractive('df-9d7f9cea-ddfb-469b-83ac-057a844feade')\"\n",
              "              title=\"Convert this dataframe to an interactive table.\"\n",
              "              style=\"display:none;\">\n",
              "        \n",
              "  <svg xmlns=\"http://www.w3.org/2000/svg\" height=\"24px\"viewBox=\"0 0 24 24\"\n",
              "       width=\"24px\">\n",
              "    <path d=\"M0 0h24v24H0V0z\" fill=\"none\"/>\n",
              "    <path d=\"M18.56 5.44l.94 2.06.94-2.06 2.06-.94-2.06-.94-.94-2.06-.94 2.06-2.06.94zm-11 1L8.5 8.5l.94-2.06 2.06-.94-2.06-.94L8.5 2.5l-.94 2.06-2.06.94zm10 10l.94 2.06.94-2.06 2.06-.94-2.06-.94-.94-2.06-.94 2.06-2.06.94z\"/><path d=\"M17.41 7.96l-1.37-1.37c-.4-.4-.92-.59-1.43-.59-.52 0-1.04.2-1.43.59L10.3 9.45l-7.72 7.72c-.78.78-.78 2.05 0 2.83L4 21.41c.39.39.9.59 1.41.59.51 0 1.02-.2 1.41-.59l7.78-7.78 2.81-2.81c.8-.78.8-2.07 0-2.86zM5.41 20L4 18.59l7.72-7.72 1.47 1.35L5.41 20z\"/>\n",
              "  </svg>\n",
              "      </button>\n",
              "      \n",
              "  <style>\n",
              "    .colab-df-container {\n",
              "      display:flex;\n",
              "      flex-wrap:wrap;\n",
              "      gap: 12px;\n",
              "    }\n",
              "\n",
              "    .colab-df-convert {\n",
              "      background-color: #E8F0FE;\n",
              "      border: none;\n",
              "      border-radius: 50%;\n",
              "      cursor: pointer;\n",
              "      display: none;\n",
              "      fill: #1967D2;\n",
              "      height: 32px;\n",
              "      padding: 0 0 0 0;\n",
              "      width: 32px;\n",
              "    }\n",
              "\n",
              "    .colab-df-convert:hover {\n",
              "      background-color: #E2EBFA;\n",
              "      box-shadow: 0px 1px 2px rgba(60, 64, 67, 0.3), 0px 1px 3px 1px rgba(60, 64, 67, 0.15);\n",
              "      fill: #174EA6;\n",
              "    }\n",
              "\n",
              "    [theme=dark] .colab-df-convert {\n",
              "      background-color: #3B4455;\n",
              "      fill: #D2E3FC;\n",
              "    }\n",
              "\n",
              "    [theme=dark] .colab-df-convert:hover {\n",
              "      background-color: #434B5C;\n",
              "      box-shadow: 0px 1px 3px 1px rgba(0, 0, 0, 0.15);\n",
              "      filter: drop-shadow(0px 1px 2px rgba(0, 0, 0, 0.3));\n",
              "      fill: #FFFFFF;\n",
              "    }\n",
              "  </style>\n",
              "\n",
              "      <script>\n",
              "        const buttonEl =\n",
              "          document.querySelector('#df-9d7f9cea-ddfb-469b-83ac-057a844feade button.colab-df-convert');\n",
              "        buttonEl.style.display =\n",
              "          google.colab.kernel.accessAllowed ? 'block' : 'none';\n",
              "\n",
              "        async function convertToInteractive(key) {\n",
              "          const element = document.querySelector('#df-9d7f9cea-ddfb-469b-83ac-057a844feade');\n",
              "          const dataTable =\n",
              "            await google.colab.kernel.invokeFunction('convertToInteractive',\n",
              "                                                     [key], {});\n",
              "          if (!dataTable) return;\n",
              "\n",
              "          const docLinkHtml = 'Like what you see? Visit the ' +\n",
              "            '<a target=\"_blank\" href=https://colab.research.google.com/notebooks/data_table.ipynb>data table notebook</a>'\n",
              "            + ' to learn more about interactive tables.';\n",
              "          element.innerHTML = '';\n",
              "          dataTable['output_type'] = 'display_data';\n",
              "          await google.colab.output.renderOutput(dataTable, element);\n",
              "          const docLink = document.createElement('div');\n",
              "          docLink.innerHTML = docLinkHtml;\n",
              "          element.appendChild(docLink);\n",
              "        }\n",
              "      </script>\n",
              "    </div>\n",
              "  </div>\n",
              "  "
            ]
          },
          "metadata": {},
          "execution_count": 37
        }
      ]
    },
    {
      "cell_type": "code",
      "source": [
        "y = data.iloc[:, 17].values\n",
        "y_df = pd.DataFrame (y, columns = ['log_trip_duration'])\n",
        "y_df"
      ],
      "metadata": {
        "id": "7oiLyk4b6v7l",
        "colab": {
          "base_uri": "https://localhost:8080/",
          "height": 423
        },
        "outputId": "c6d227f3-c09d-4780-87ea-ab3e24125249"
      },
      "execution_count": null,
      "outputs": [
        {
          "output_type": "execute_result",
          "data": {
            "text/plain": [
              "        log_trip_duration\n",
              "0                5.993961\n",
              "1                7.003974\n",
              "2                7.400010\n",
              "3                7.040536\n",
              "4                6.744059\n",
              "...                   ...\n",
              "729317           5.693732\n",
              "729318           5.755742\n",
              "729319           6.513230\n",
              "729320           6.104793\n",
              "729321           7.110696\n",
              "\n",
              "[729322 rows x 1 columns]"
            ],
            "text/html": [
              "\n",
              "  <div id=\"df-2d04f1df-ead8-4f07-936d-ee85ddfdd41d\">\n",
              "    <div class=\"colab-df-container\">\n",
              "      <div>\n",
              "<style scoped>\n",
              "    .dataframe tbody tr th:only-of-type {\n",
              "        vertical-align: middle;\n",
              "    }\n",
              "\n",
              "    .dataframe tbody tr th {\n",
              "        vertical-align: top;\n",
              "    }\n",
              "\n",
              "    .dataframe thead th {\n",
              "        text-align: right;\n",
              "    }\n",
              "</style>\n",
              "<table border=\"1\" class=\"dataframe\">\n",
              "  <thead>\n",
              "    <tr style=\"text-align: right;\">\n",
              "      <th></th>\n",
              "      <th>log_trip_duration</th>\n",
              "    </tr>\n",
              "  </thead>\n",
              "  <tbody>\n",
              "    <tr>\n",
              "      <th>0</th>\n",
              "      <td>5.993961</td>\n",
              "    </tr>\n",
              "    <tr>\n",
              "      <th>1</th>\n",
              "      <td>7.003974</td>\n",
              "    </tr>\n",
              "    <tr>\n",
              "      <th>2</th>\n",
              "      <td>7.400010</td>\n",
              "    </tr>\n",
              "    <tr>\n",
              "      <th>3</th>\n",
              "      <td>7.040536</td>\n",
              "    </tr>\n",
              "    <tr>\n",
              "      <th>4</th>\n",
              "      <td>6.744059</td>\n",
              "    </tr>\n",
              "    <tr>\n",
              "      <th>...</th>\n",
              "      <td>...</td>\n",
              "    </tr>\n",
              "    <tr>\n",
              "      <th>729317</th>\n",
              "      <td>5.693732</td>\n",
              "    </tr>\n",
              "    <tr>\n",
              "      <th>729318</th>\n",
              "      <td>5.755742</td>\n",
              "    </tr>\n",
              "    <tr>\n",
              "      <th>729319</th>\n",
              "      <td>6.513230</td>\n",
              "    </tr>\n",
              "    <tr>\n",
              "      <th>729320</th>\n",
              "      <td>6.104793</td>\n",
              "    </tr>\n",
              "    <tr>\n",
              "      <th>729321</th>\n",
              "      <td>7.110696</td>\n",
              "    </tr>\n",
              "  </tbody>\n",
              "</table>\n",
              "<p>729322 rows × 1 columns</p>\n",
              "</div>\n",
              "      <button class=\"colab-df-convert\" onclick=\"convertToInteractive('df-2d04f1df-ead8-4f07-936d-ee85ddfdd41d')\"\n",
              "              title=\"Convert this dataframe to an interactive table.\"\n",
              "              style=\"display:none;\">\n",
              "        \n",
              "  <svg xmlns=\"http://www.w3.org/2000/svg\" height=\"24px\"viewBox=\"0 0 24 24\"\n",
              "       width=\"24px\">\n",
              "    <path d=\"M0 0h24v24H0V0z\" fill=\"none\"/>\n",
              "    <path d=\"M18.56 5.44l.94 2.06.94-2.06 2.06-.94-2.06-.94-.94-2.06-.94 2.06-2.06.94zm-11 1L8.5 8.5l.94-2.06 2.06-.94-2.06-.94L8.5 2.5l-.94 2.06-2.06.94zm10 10l.94 2.06.94-2.06 2.06-.94-2.06-.94-.94-2.06-.94 2.06-2.06.94z\"/><path d=\"M17.41 7.96l-1.37-1.37c-.4-.4-.92-.59-1.43-.59-.52 0-1.04.2-1.43.59L10.3 9.45l-7.72 7.72c-.78.78-.78 2.05 0 2.83L4 21.41c.39.39.9.59 1.41.59.51 0 1.02-.2 1.41-.59l7.78-7.78 2.81-2.81c.8-.78.8-2.07 0-2.86zM5.41 20L4 18.59l7.72-7.72 1.47 1.35L5.41 20z\"/>\n",
              "  </svg>\n",
              "      </button>\n",
              "      \n",
              "  <style>\n",
              "    .colab-df-container {\n",
              "      display:flex;\n",
              "      flex-wrap:wrap;\n",
              "      gap: 12px;\n",
              "    }\n",
              "\n",
              "    .colab-df-convert {\n",
              "      background-color: #E8F0FE;\n",
              "      border: none;\n",
              "      border-radius: 50%;\n",
              "      cursor: pointer;\n",
              "      display: none;\n",
              "      fill: #1967D2;\n",
              "      height: 32px;\n",
              "      padding: 0 0 0 0;\n",
              "      width: 32px;\n",
              "    }\n",
              "\n",
              "    .colab-df-convert:hover {\n",
              "      background-color: #E2EBFA;\n",
              "      box-shadow: 0px 1px 2px rgba(60, 64, 67, 0.3), 0px 1px 3px 1px rgba(60, 64, 67, 0.15);\n",
              "      fill: #174EA6;\n",
              "    }\n",
              "\n",
              "    [theme=dark] .colab-df-convert {\n",
              "      background-color: #3B4455;\n",
              "      fill: #D2E3FC;\n",
              "    }\n",
              "\n",
              "    [theme=dark] .colab-df-convert:hover {\n",
              "      background-color: #434B5C;\n",
              "      box-shadow: 0px 1px 3px 1px rgba(0, 0, 0, 0.15);\n",
              "      filter: drop-shadow(0px 1px 2px rgba(0, 0, 0, 0.3));\n",
              "      fill: #FFFFFF;\n",
              "    }\n",
              "  </style>\n",
              "\n",
              "      <script>\n",
              "        const buttonEl =\n",
              "          document.querySelector('#df-2d04f1df-ead8-4f07-936d-ee85ddfdd41d button.colab-df-convert');\n",
              "        buttonEl.style.display =\n",
              "          google.colab.kernel.accessAllowed ? 'block' : 'none';\n",
              "\n",
              "        async function convertToInteractive(key) {\n",
              "          const element = document.querySelector('#df-2d04f1df-ead8-4f07-936d-ee85ddfdd41d');\n",
              "          const dataTable =\n",
              "            await google.colab.kernel.invokeFunction('convertToInteractive',\n",
              "                                                     [key], {});\n",
              "          if (!dataTable) return;\n",
              "\n",
              "          const docLinkHtml = 'Like what you see? Visit the ' +\n",
              "            '<a target=\"_blank\" href=https://colab.research.google.com/notebooks/data_table.ipynb>data table notebook</a>'\n",
              "            + ' to learn more about interactive tables.';\n",
              "          element.innerHTML = '';\n",
              "          dataTable['output_type'] = 'display_data';\n",
              "          await google.colab.output.renderOutput(dataTable, element);\n",
              "          const docLink = document.createElement('div');\n",
              "          docLink.innerHTML = docLinkHtml;\n",
              "          element.appendChild(docLink);\n",
              "        }\n",
              "      </script>\n",
              "    </div>\n",
              "  </div>\n",
              "  "
            ]
          },
          "metadata": {},
          "execution_count": 38
        }
      ]
    },
    {
      "cell_type": "markdown",
      "source": [
        "**Checking for missing values in the dataset**"
      ],
      "metadata": {
        "id": "htAy_DEG295G"
      }
    },
    {
      "cell_type": "code",
      "source": [
        "data.isnull().sum()"
      ],
      "metadata": {
        "id": "ARANfL366wm3",
        "colab": {
          "base_uri": "https://localhost:8080/"
        },
        "outputId": "810f68e5-60f4-4e9b-9fa2-6a0920e51ac0"
      },
      "execution_count": null,
      "outputs": [
        {
          "output_type": "execute_result",
          "data": {
            "text/plain": [
              "id                     0\n",
              "vendor_id              0\n",
              "pickup_datetime        0\n",
              "dropoff_datetime       0\n",
              "passenger_count        0\n",
              "pickup_longitude       0\n",
              "pickup_latitude        0\n",
              "dropoff_longitude      0\n",
              "dropoff_latitude       0\n",
              "store_and_fwd_flag     0\n",
              "trip_duration          0\n",
              "check_trip_duration    0\n",
              "pickup_day             0\n",
              "pickup_month           0\n",
              "pickup_dayofweek       0\n",
              "pickup_hour            0\n",
              "pickup_minute          0\n",
              "log_trip_duration      0\n",
              "dtype: int64"
            ]
          },
          "metadata": {},
          "execution_count": 39
        }
      ]
    },
    {
      "cell_type": "markdown",
      "source": [
        "**One hot encoding the categorical features**"
      ],
      "metadata": {
        "id": "Qhjm7bJA3D_u"
      }
    },
    {
      "cell_type": "code",
      "source": [
        "from sklearn.compose import ColumnTransformer\n",
        "from sklearn.preprocessing import OneHotEncoder\n",
        "ct = ColumnTransformer (transformers = [('ohe', OneHotEncoder (), [0, 6])], remainder = 'passthrough')\n",
        "x = ct.fit_transform (x)\n",
        "x"
      ],
      "metadata": {
        "id": "CUKAb_do-aKm",
        "colab": {
          "base_uri": "https://localhost:8080/"
        },
        "outputId": "fccd3f47-c12a-4353-a655-9a3c8cd5c97a"
      },
      "execution_count": null,
      "outputs": [
        {
          "output_type": "execute_result",
          "data": {
            "text/plain": [
              "array([[0.0, 1.0, 1.0, ..., 0, 16, 40],\n",
              "       [1.0, 0.0, 1.0, ..., 4, 23, 35],\n",
              "       [0.0, 1.0, 1.0, ..., 6, 17, 59],\n",
              "       ...,\n",
              "       [1.0, 0.0, 1.0, ..., 4, 18, 56],\n",
              "       [1.0, 0.0, 1.0, ..., 6, 9, 50],\n",
              "       [0.0, 1.0, 1.0, ..., 4, 17, 24]], dtype=object)"
            ]
          },
          "metadata": {},
          "execution_count": 40
        }
      ]
    },
    {
      "cell_type": "code",
      "source": [
        "x_df.dtypes"
      ],
      "metadata": {
        "colab": {
          "base_uri": "https://localhost:8080/"
        },
        "id": "pv6Ly0xcGx2W",
        "outputId": "290a3d26-ea0b-4ac8-8e17-fb20b460d06a"
      },
      "execution_count": null,
      "outputs": [
        {
          "output_type": "execute_result",
          "data": {
            "text/plain": [
              "vendor_id             object\n",
              "passenger_count       object\n",
              "pickup_longitude      object\n",
              "pickup_latitude       object\n",
              "dropoff_longitude     object\n",
              "dropoff_latitude      object\n",
              "store_and_fwd_flag    object\n",
              "pickup_day            object\n",
              "pickup_month          object\n",
              "pickup_dayofweek      object\n",
              "pickup_hour           object\n",
              "pickup_minute         object\n",
              "dtype: object"
            ]
          },
          "metadata": {},
          "execution_count": 41
        }
      ]
    },
    {
      "cell_type": "markdown",
      "source": [
        "**Splitting the dataset into train & test**"
      ],
      "metadata": {
        "id": "8z0qLvgj3Tfg"
      }
    },
    {
      "cell_type": "code",
      "source": [
        "from sklearn.model_selection import train_test_split\n",
        "x_train, x_test, y_train, y_test = train_test_split (x, y, test_size = 0.2, random_state = 0, shuffle = True)"
      ],
      "metadata": {
        "id": "FodaivTFA-xk"
      },
      "execution_count": null,
      "outputs": []
    },
    {
      "cell_type": "markdown",
      "source": [
        "**Scaling the features after splitting to prevent data leakage**"
      ],
      "metadata": {
        "id": "jWgSG9nC3YnW"
      }
    },
    {
      "cell_type": "code",
      "source": [
        "from sklearn.preprocessing import StandardScaler\n",
        "sc = StandardScaler ()\n",
        "x_train = sc.fit_transform (x_train)\n",
        "x_test = sc.transform (x_test)"
      ],
      "metadata": {
        "id": "gA67dCFrinXj"
      },
      "execution_count": null,
      "outputs": []
    },
    {
      "cell_type": "markdown",
      "source": [
        "**Building the KNN model**"
      ],
      "metadata": {
        "id": "9HvG0fYw3haf"
      }
    },
    {
      "cell_type": "code",
      "source": [
        "from sklearn.neighbors import KNeighborsRegressor\n",
        "from sklearn.metrics import mean_squared_error as mse\n",
        "knn = KNeighborsRegressor (n_neighbors = 5, weights = 'uniform', algorithm = 'auto', p = 2, metric = 'minkowski')"
      ],
      "metadata": {
        "id": "wqqedEWhD94M"
      },
      "execution_count": null,
      "outputs": []
    },
    {
      "cell_type": "markdown",
      "source": [
        "**Training the model and predicting the x_test**"
      ],
      "metadata": {
        "id": "Hmp8drje3mSZ"
      }
    },
    {
      "cell_type": "code",
      "source": [
        "knn.fit (x_train, y_train)\n",
        "y_pred = knn.predict (x_test)\n",
        "np.concatenate ((y_test.reshape (-1, 1), y_pred.reshape (-1, 1)), axis = 1)"
      ],
      "metadata": {
        "id": "qYl9cBktGEy1",
        "colab": {
          "base_uri": "https://localhost:8080/"
        },
        "outputId": "3f1b515e-dd03-4e39-c9b6-a118764e2435"
      },
      "execution_count": null,
      "outputs": [
        {
          "output_type": "execute_result",
          "data": {
            "text/plain": [
              "array([[6.51323011, 6.48084284],\n",
              "       [7.07580886, 5.9295434 ],\n",
              "       [6.36647045, 6.55863804],\n",
              "       ...,\n",
              "       [7.07411682, 6.82340515],\n",
              "       [6.22455843, 5.82601366],\n",
              "       [7.81439963, 7.74514803]])"
            ]
          },
          "metadata": {},
          "execution_count": 45
        }
      ]
    },
    {
      "cell_type": "markdown",
      "source": [
        "**Calculating the error**"
      ],
      "metadata": {
        "id": "aUwm_2jd3sep"
      }
    },
    {
      "cell_type": "code",
      "source": [
        "test_err = sqrt (mse (y_test, y_pred))\n",
        "test_err"
      ],
      "metadata": {
        "colab": {
          "base_uri": "https://localhost:8080/"
        },
        "id": "brtJeheJtGKn",
        "outputId": "b3168d9b-df1d-4985-eee0-424615b21408"
      },
      "execution_count": null,
      "outputs": [
        {
          "output_type": "execute_result",
          "data": {
            "text/plain": [
              "0.6301649420350419"
            ]
          },
          "metadata": {},
          "execution_count": 46
        }
      ]
    },
    {
      "cell_type": "markdown",
      "source": [
        "**Creating a function to calculate errors for different k values**"
      ],
      "metadata": {
        "id": "UhJ2Y_D2ilt8"
      }
    },
    {
      "cell_type": "code",
      "source": [
        "def elbow (n):\n",
        "  error = []\n",
        "  for i in n:\n",
        "    knn = KNeighborsRegressor (n_neighbors = i, weights = 'uniform', algorithm = 'auto', p = 2, metric = 'minkowski')\n",
        "    knn.fit (x_train, y_train)\n",
        "    y_pred = knn.predict (x_test)\n",
        "    test_err = sqrt (mse (y_test, y_pred))\n",
        "    error.append (test_err)\n",
        "  return error"
      ],
      "metadata": {
        "id": "zRHln-cjViJW"
      },
      "execution_count": null,
      "outputs": []
    },
    {
      "cell_type": "code",
      "source": [
        "k = range (6, 21, 2)\n",
        "error = elbow (k)\n",
        "error"
      ],
      "metadata": {
        "id": "iOZnE_VEp34D",
        "colab": {
          "base_uri": "https://localhost:8080/"
        },
        "outputId": "38755693-69df-4127-c503-508c3bc41da4"
      },
      "execution_count": null,
      "outputs": [
        {
          "output_type": "execute_result",
          "data": {
            "text/plain": [
              "[0.6236116909745842,\n",
              " 0.6157461138296851,\n",
              " 0.611725199988093,\n",
              " 0.6099192404269975,\n",
              " 0.6087367739504875,\n",
              " 0.6081406834416057,\n",
              " 0.6081454559045172,\n",
              " 0.6082255128355176]"
            ]
          },
          "metadata": {},
          "execution_count": 48
        }
      ]
    },
    {
      "cell_type": "markdown",
      "source": [
        "**Plotting the k values against their corresponding error values**"
      ],
      "metadata": {
        "id": "ZluSGZymivS9"
      }
    },
    {
      "cell_type": "code",
      "source": [
        "plt.plot (k, error)\n",
        "plt.xlabel ('K Neighbors')\n",
        "plt.ylabel ('Test error')\n",
        "plt.title ('Elbow Curve for test')"
      ],
      "metadata": {
        "id": "UZ21N7FCqGOi",
        "colab": {
          "base_uri": "https://localhost:8080/",
          "height": 489
        },
        "outputId": "cdb96872-206a-41c8-c0d2-36c72db52a20"
      },
      "execution_count": null,
      "outputs": [
        {
          "output_type": "execute_result",
          "data": {
            "text/plain": [
              "Text(0.5, 1.0, 'Elbow Curve for test')"
            ]
          },
          "metadata": {},
          "execution_count": 49
        },
        {
          "output_type": "display_data",
          "data": {
            "text/plain": [
              "<Figure size 640x480 with 1 Axes>"
            ],
            "image/png": "[encoded data removed]"
          },
          "metadata": {}
        }
      ]
    },
    {
      "cell_type": "code",
      "source": [
        "k_df = pd.DataFrame (k, columns = ['k'])\n",
        "err_df = pd.DataFrame (error, columns = ['RMSE'])\n",
        "df = pd.concat ([k_df, err_df], axis = 1)\n",
        "df"
      ],
      "metadata": {
        "colab": {
          "base_uri": "https://localhost:8080/",
          "height": 300
        },
        "id": "P1Z7EwYVi9FV",
        "outputId": "7db5e27a-2a01-44d6-a433-0d853c438dab"
      },
      "execution_count": null,
      "outputs": [
        {
          "output_type": "execute_result",
          "data": {
            "text/plain": [
              "    k      RMSE\n",
              "0   6  0.623612\n",
              "1   8  0.615746\n",
              "2  10  0.611725\n",
              "3  12  0.609919\n",
              "4  14  0.608737\n",
              "5  16  0.608141\n",
              "6  18  0.608145\n",
              "7  20  0.608226"
            ],
            "text/html": [
              "\n",
              "  <div id=\"df-30ea24ac-ce2a-4ac6-934c-43510b45c3a8\">\n",
              "    <div class=\"colab-df-container\">\n",
              "      <div>\n",
              "<style scoped>\n",
              "    .dataframe tbody tr th:only-of-type {\n",
              "        vertical-align: middle;\n",
              "    }\n",
              "\n",
              "    .dataframe tbody tr th {\n",
              "        vertical-align: top;\n",
              "    }\n",
              "\n",
              "    .dataframe thead th {\n",
              "        text-align: right;\n",
              "    }\n",
              "</style>\n",
              "<table border=\"1\" class=\"dataframe\">\n",
              "  <thead>\n",
              "    <tr style=\"text-align: right;\">\n",
              "      <th></th>\n",
              "      <th>k</th>\n",
              "      <th>RMSE</th>\n",
              "    </tr>\n",
              "  </thead>\n",
              "  <tbody>\n",
              "    <tr>\n",
              "      <th>0</th>\n",
              "      <td>6</td>\n",
              "      <td>0.623612</td>\n",
              "    </tr>\n",
              "    <tr>\n",
              "      <th>1</th>\n",
              "      <td>8</td>\n",
              "      <td>0.615746</td>\n",
              "    </tr>\n",
              "    <tr>\n",
              "      <th>2</th>\n",
              "      <td>10</td>\n",
              "      <td>0.611725</td>\n",
              "    </tr>\n",
              "    <tr>\n",
              "      <th>3</th>\n",
              "      <td>12</td>\n",
              "      <td>0.609919</td>\n",
              "    </tr>\n",
              "    <tr>\n",
              "      <th>4</th>\n",
              "      <td>14</td>\n",
              "      <td>0.608737</td>\n",
              "    </tr>\n",
              "    <tr>\n",
              "      <th>5</th>\n",
              "      <td>16</td>\n",
              "      <td>0.608141</td>\n",
              "    </tr>\n",
              "    <tr>\n",
              "      <th>6</th>\n",
              "      <td>18</td>\n",
              "      <td>0.608145</td>\n",
              "    </tr>\n",
              "    <tr>\n",
              "      <th>7</th>\n",
              "      <td>20</td>\n",
              "      <td>0.608226</td>\n",
              "    </tr>\n",
              "  </tbody>\n",
              "</table>\n",
              "</div>\n",
              "      <button class=\"colab-df-convert\" onclick=\"convertToInteractive('df-30ea24ac-ce2a-4ac6-934c-43510b45c3a8')\"\n",
              "              title=\"Convert this dataframe to an interactive table.\"\n",
              "              style=\"display:none;\">\n",
              "        \n",
              "  <svg xmlns=\"http://www.w3.org/2000/svg\" height=\"24px\"viewBox=\"0 0 24 24\"\n",
              "       width=\"24px\">\n",
              "    <path d=\"M0 0h24v24H0V0z\" fill=\"none\"/>\n",
              "    <path d=\"M18.56 5.44l.94 2.06.94-2.06 2.06-.94-2.06-.94-.94-2.06-.94 2.06-2.06.94zm-11 1L8.5 8.5l.94-2.06 2.06-.94-2.06-.94L8.5 2.5l-.94 2.06-2.06.94zm10 10l.94 2.06.94-2.06 2.06-.94-2.06-.94-.94-2.06-.94 2.06-2.06.94z\"/><path d=\"M17.41 7.96l-1.37-1.37c-.4-.4-.92-.59-1.43-.59-.52 0-1.04.2-1.43.59L10.3 9.45l-7.72 7.72c-.78.78-.78 2.05 0 2.83L4 21.41c.39.39.9.59 1.41.59.51 0 1.02-.2 1.41-.59l7.78-7.78 2.81-2.81c.8-.78.8-2.07 0-2.86zM5.41 20L4 18.59l7.72-7.72 1.47 1.35L5.41 20z\"/>\n",
              "  </svg>\n",
              "      </button>\n",
              "      \n",
              "  <style>\n",
              "    .colab-df-container {\n",
              "      display:flex;\n",
              "      flex-wrap:wrap;\n",
              "      gap: 12px;\n",
              "    }\n",
              "\n",
              "    .colab-df-convert {\n",
              "      background-color: #E8F0FE;\n",
              "      border: none;\n",
              "      border-radius: 50%;\n",
              "      cursor: pointer;\n",
              "      display: none;\n",
              "      fill: #1967D2;\n",
              "      height: 32px;\n",
              "      padding: 0 0 0 0;\n",
              "      width: 32px;\n",
              "    }\n",
              "\n",
              "    .colab-df-convert:hover {\n",
              "      background-color: #E2EBFA;\n",
              "      box-shadow: 0px 1px 2px rgba(60, 64, 67, 0.3), 0px 1px 3px 1px rgba(60, 64, 67, 0.15);\n",
              "      fill: #174EA6;\n",
              "    }\n",
              "\n",
              "    [theme=dark] .colab-df-convert {\n",
              "      background-color: #3B4455;\n",
              "      fill: #D2E3FC;\n",
              "    }\n",
              "\n",
              "    [theme=dark] .colab-df-convert:hover {\n",
              "      background-color: #434B5C;\n",
              "      box-shadow: 0px 1px 3px 1px rgba(0, 0, 0, 0.15);\n",
              "      filter: drop-shadow(0px 1px 2px rgba(0, 0, 0, 0.3));\n",
              "      fill: #FFFFFF;\n",
              "    }\n",
              "  </style>\n",
              "\n",
              "      <script>\n",
              "        const buttonEl =\n",
              "          document.querySelector('#df-30ea24ac-ce2a-4ac6-934c-43510b45c3a8 button.colab-df-convert');\n",
              "        buttonEl.style.display =\n",
              "          google.colab.kernel.accessAllowed ? 'block' : 'none';\n",
              "\n",
              "        async function convertToInteractive(key) {\n",
              "          const element = document.querySelector('#df-30ea24ac-ce2a-4ac6-934c-43510b45c3a8');\n",
              "          const dataTable =\n",
              "            await google.colab.kernel.invokeFunction('convertToInteractive',\n",
              "                                                     [key], {});\n",
              "          if (!dataTable) return;\n",
              "\n",
              "          const docLinkHtml = 'Like what you see? Visit the ' +\n",
              "            '<a target=\"_blank\" href=https://colab.research.google.com/notebooks/data_table.ipynb>data table notebook</a>'\n",
              "            + ' to learn more about interactive tables.';\n",
              "          element.innerHTML = '';\n",
              "          dataTable['output_type'] = 'display_data';\n",
              "          await google.colab.output.renderOutput(dataTable, element);\n",
              "          const docLink = document.createElement('div');\n",
              "          docLink.innerHTML = docLinkHtml;\n",
              "          element.appendChild(docLink);\n",
              "        }\n",
              "      </script>\n",
              "    </div>\n",
              "  </div>\n",
              "  "
            ]
          },
          "metadata": {},
          "execution_count": 50
        }
      ]
    },
    {
      "cell_type": "code",
      "source": [
        "knn = KNeighborsRegressor (n_neighbors = 16, weights = 'uniform', algorithm = 'auto', p = 2, metric = 'minkowski')\n",
        "knn.fit (x_train, y_train)\n",
        "y_pred = knn.predict (x_test)\n",
        "np.concatenate ((y_test.reshape (-1, 1), y_pred.reshape (-1, 1)), axis = 1)"
      ],
      "metadata": {
        "colab": {
          "base_uri": "https://localhost:8080/"
        },
        "id": "1ZJ9mYj66mDx",
        "outputId": "e842bb15-d565-47c9-ad08-640f6628ba83"
      },
      "execution_count": null,
      "outputs": [
        {
          "output_type": "execute_result",
          "data": {
            "text/plain": [
              "array([[6.51323011, 6.20751148],\n",
              "       [7.07580886, 6.17290906],\n",
              "       [6.36647045, 6.21728238],\n",
              "       ...,\n",
              "       [7.07411682, 6.31677591],\n",
              "       [6.22455843, 6.09138684],\n",
              "       [7.81439963, 7.74485595]])"
            ]
          },
          "metadata": {},
          "execution_count": 51
        }
      ]
    },
    {
      "cell_type": "code",
      "source": [
        "train_err = sqrt (mse (y_train, knn.predict (x_train)))\n",
        "train_err"
      ],
      "metadata": {
        "colab": {
          "base_uri": "https://localhost:8080/"
        },
        "id": "HaR6vK7x25wc",
        "outputId": "31a3e082-07a6-4564-d16f-a625e6a13e56"
      },
      "execution_count": null,
      "outputs": [
        {
          "output_type": "execute_result",
          "data": {
            "text/plain": [
              "0.5626541503102247"
            ]
          },
          "metadata": {},
          "execution_count": 52
        }
      ]
    },
    {
      "cell_type": "code",
      "source": [
        "test_err = sqrt (mse (y_test, y_pred))\n",
        "test_err"
      ],
      "metadata": {
        "colab": {
          "base_uri": "https://localhost:8080/"
        },
        "id": "Sg1rnXai26-S",
        "outputId": "3d183911-d0d6-4034-caa7-c981c7bbd162"
      },
      "execution_count": null,
      "outputs": [
        {
          "output_type": "execute_result",
          "data": {
            "text/plain": [
              "0.6081406834416057"
            ]
          },
          "metadata": {},
          "execution_count": 53
        }
      ]
    }
  ]
}
