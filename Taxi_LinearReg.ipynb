{
  "nbformat": 4,
  "nbformat_minor": 0,
  "metadata": {
    "colab": {
      "provenance": [],
      "authorship_tag": "ABX9TyM92+++YzLR2A/K8gppXVYX",
      "include_colab_link": true
    },
    "kernelspec": {
      "name": "python3",
      "display_name": "Python 3"
    },
    "language_info": {
      "name": "python"
    }
  },
  "cells": [
    {
      "cell_type": "markdown",
      "metadata": {
        "id": "view-in-github",
        "colab_type": "text"
      },
      "source": [
        "<a href=\"https://colab.research.google.com/github/ShivM99/Python/blob/main/Taxi_LinearReg.ipynb\" target=\"_parent\"><img src=\"https://colab.research.google.com/assets/colab-badge.svg\" alt=\"Open In Colab\"/></a>"
      ]
    },
    {
      "cell_type": "markdown",
      "source": [
        "**Importing the libraries**"
      ],
      "metadata": {
        "id": "m1Y1XjcOWukc"
      }
    },
    {
      "cell_type": "code",
      "execution_count": 177,
      "metadata": {
        "id": "JCkqVGf86Rxx"
      },
      "outputs": [],
      "source": [
        "import pandas as pd\n",
        "import numpy as np\n",
        "import matplotlib.pyplot as plt\n",
        "%matplotlib inline\n",
        "from math import sqrt"
      ]
    },
    {
      "cell_type": "markdown",
      "source": [
        "**Importing the dataset**"
      ],
      "metadata": {
        "id": "WPZYKgPEWysB"
      }
    },
    {
      "cell_type": "code",
      "source": [
        "data = pd.read_csv ('nyc_taxi_trip_duration.csv')\n",
        "data.shape"
      ],
      "metadata": {
        "id": "XDcejGKR6W2n",
        "colab": {
          "base_uri": "https://localhost:8080/"
        },
        "outputId": "4e0783f0-9ae7-44ca-aae1-990f74c2e251"
      },
      "execution_count": 178,
      "outputs": [
        {
          "output_type": "execute_result",
          "data": {
            "text/plain": [
              "(729322, 11)"
            ]
          },
          "metadata": {},
          "execution_count": 178
        }
      ]
    },
    {
      "cell_type": "markdown",
      "source": [
        "**Handling the date-time data**"
      ],
      "metadata": {
        "id": "8rkc1YdoW13c"
      }
    },
    {
      "cell_type": "code",
      "source": [
        "data['pickup_datetime'] = pd.to_datetime (data['pickup_datetime'], format = '%d-%m-%Y %H:%M')\n",
        "data['dropoff_datetime'] = pd.to_datetime (data['dropoff_datetime'], format = '%d-%m-%Y %H:%M')\n",
        "\n",
        "data['check_trip_duration'] = (data['dropoff_datetime'] - data['pickup_datetime']).map (lambda x: x.total_seconds())\n",
        "\n",
        "duration_difference = data[np.abs (data['check_trip_duration'].values  - data['trip_duration'].values) > 1]\n",
        "duration_difference.shape"
      ],
      "metadata": {
        "colab": {
          "base_uri": "https://localhost:8080/"
        },
        "id": "lx1o9D4iEQSO",
        "outputId": "e7bf6509-5542-4590-a0d5-028b4bcc5bae"
      },
      "execution_count": 179,
      "outputs": [
        {
          "output_type": "execute_result",
          "data": {
            "text/plain": [
              "(693032, 12)"
            ]
          },
          "metadata": {},
          "execution_count": 179
        }
      ]
    },
    {
      "cell_type": "markdown",
      "source": [
        "**Extracting important features from the 'pickup_datetime'**"
      ],
      "metadata": {
        "id": "DQoIAlNLW4oA"
      }
    },
    {
      "cell_type": "code",
      "source": [
        "data['pickup_day'] = data['pickup_datetime'].dt.day\n",
        "data['pickup_day']"
      ],
      "metadata": {
        "colab": {
          "base_uri": "https://localhost:8080/"
        },
        "id": "upX-vGbyNQ9O",
        "outputId": "97af936e-0c39-4dbe-a6f1-0ef3cb3a98d4"
      },
      "execution_count": 180,
      "outputs": [
        {
          "output_type": "execute_result",
          "data": {
            "text/plain": [
              "0         29\n",
              "1         11\n",
              "2         21\n",
              "3          5\n",
              "4         17\n",
              "          ..\n",
              "729317    21\n",
              "729318    22\n",
              "729319    15\n",
              "729320    19\n",
              "729321     1\n",
              "Name: pickup_day, Length: 729322, dtype: int64"
            ]
          },
          "metadata": {},
          "execution_count": 180
        }
      ]
    },
    {
      "cell_type": "code",
      "source": [
        "data['pickup_month'] = data['pickup_datetime'].dt.month\n",
        "data['pickup_month']"
      ],
      "metadata": {
        "colab": {
          "base_uri": "https://localhost:8080/"
        },
        "id": "XLyzHnUILBbw",
        "outputId": "15fc8fcd-c715-43a1-bb80-578937712323"
      },
      "execution_count": 181,
      "outputs": [
        {
          "output_type": "execute_result",
          "data": {
            "text/plain": [
              "0         2\n",
              "1         3\n",
              "2         2\n",
              "3         1\n",
              "4         2\n",
              "         ..\n",
              "729317    5\n",
              "729318    2\n",
              "729319    4\n",
              "729320    6\n",
              "729321    1\n",
              "Name: pickup_month, Length: 729322, dtype: int64"
            ]
          },
          "metadata": {},
          "execution_count": 181
        }
      ]
    },
    {
      "cell_type": "code",
      "source": [
        "data['pickup_dayofweek'] = data['pickup_datetime'].dt.dayofweek\n",
        "data['pickup_dayofweek']"
      ],
      "metadata": {
        "colab": {
          "base_uri": "https://localhost:8080/"
        },
        "id": "ZWGJaQGEMj1p",
        "outputId": "b459eea4-03ef-4958-bec7-e5c0c54613c4"
      },
      "execution_count": 182,
      "outputs": [
        {
          "output_type": "execute_result",
          "data": {
            "text/plain": [
              "0         0\n",
              "1         4\n",
              "2         6\n",
              "3         1\n",
              "4         2\n",
              "         ..\n",
              "729317    5\n",
              "729318    0\n",
              "729319    4\n",
              "729320    6\n",
              "729321    4\n",
              "Name: pickup_dayofweek, Length: 729322, dtype: int64"
            ]
          },
          "metadata": {},
          "execution_count": 182
        }
      ]
    },
    {
      "cell_type": "code",
      "source": [
        "data['pickup_hour'] = data['pickup_datetime'].dt.hour\n",
        "data['pickup_hour']"
      ],
      "metadata": {
        "colab": {
          "base_uri": "https://localhost:8080/"
        },
        "id": "f-A9fH-QNbMa",
        "outputId": "569053e6-2f5f-49ab-ce3d-db9cd85ba285"
      },
      "execution_count": 183,
      "outputs": [
        {
          "output_type": "execute_result",
          "data": {
            "text/plain": [
              "0         16\n",
              "1         23\n",
              "2         17\n",
              "3          9\n",
              "4          6\n",
              "          ..\n",
              "729317    13\n",
              "729318     0\n",
              "729319    18\n",
              "729320     9\n",
              "729321    17\n",
              "Name: pickup_hour, Length: 729322, dtype: int64"
            ]
          },
          "metadata": {},
          "execution_count": 183
        }
      ]
    },
    {
      "cell_type": "code",
      "source": [
        "data['pickup_minute'] = data['pickup_datetime'].dt.minute\n",
        "data['pickup_minute']"
      ],
      "metadata": {
        "colab": {
          "base_uri": "https://localhost:8080/"
        },
        "id": "G9BrD7ZxNaTa",
        "outputId": "d586b86b-c0fa-4faa-dcb0-effe084b2975"
      },
      "execution_count": 184,
      "outputs": [
        {
          "output_type": "execute_result",
          "data": {
            "text/plain": [
              "0         40\n",
              "1         35\n",
              "2         59\n",
              "3         44\n",
              "4         42\n",
              "          ..\n",
              "729317    29\n",
              "729318    43\n",
              "729319    56\n",
              "729320    50\n",
              "729321    24\n",
              "Name: pickup_minute, Length: 729322, dtype: int64"
            ]
          },
          "metadata": {},
          "execution_count": 184
        }
      ]
    },
    {
      "cell_type": "markdown",
      "source": [
        "**Log transforming the 'trip_duration' as it is positively skewed and we want it to be normally distributed**"
      ],
      "metadata": {
        "id": "CE4HETsSW85I"
      }
    },
    {
      "cell_type": "code",
      "source": [
        "data['log_trip_duration'] = np.log (data['trip_duration'].values + 1)"
      ],
      "metadata": {
        "id": "eS7MUkZ1ojRi"
      },
      "execution_count": 185,
      "outputs": []
    },
    {
      "cell_type": "code",
      "source": [
        "data.dtypes"
      ],
      "metadata": {
        "colab": {
          "base_uri": "https://localhost:8080/"
        },
        "id": "2-_g9TnTQ7RP",
        "outputId": "4384d0cd-d57c-498c-ea81-939a2062140b"
      },
      "execution_count": 186,
      "outputs": [
        {
          "output_type": "execute_result",
          "data": {
            "text/plain": [
              "id                             object\n",
              "vendor_id                       int64\n",
              "pickup_datetime        datetime64[ns]\n",
              "dropoff_datetime       datetime64[ns]\n",
              "passenger_count                 int64\n",
              "pickup_longitude              float64\n",
              "pickup_latitude               float64\n",
              "dropoff_longitude             float64\n",
              "dropoff_latitude              float64\n",
              "store_and_fwd_flag             object\n",
              "trip_duration                   int64\n",
              "check_trip_duration           float64\n",
              "pickup_day                      int64\n",
              "pickup_month                    int64\n",
              "pickup_dayofweek                int64\n",
              "pickup_hour                     int64\n",
              "pickup_minute                   int64\n",
              "log_trip_duration             float64\n",
              "dtype: object"
            ]
          },
          "metadata": {},
          "execution_count": 186
        }
      ]
    },
    {
      "cell_type": "markdown",
      "source": [
        "**Seggregating the features (x) from the target variable (y)**"
      ],
      "metadata": {
        "id": "0x2pvFRqW_dX"
      }
    },
    {
      "cell_type": "code",
      "source": [
        "x = data.iloc[:, [1, 4, 5, 6, 7, 8, 9, 12, 13, 14, 15, 16]].values\n",
        "x_df = pd.DataFrame (x, columns = ['vendor_id', 'passenger_count', 'pickup_longitude', 'pickup_latitude', 'dropoff_longitude', 'dropoff_latitude', 'store_and_fwd_flag', 'pickup_day', 'pickup_month', 'pickup_dayofweek', 'pickup_hour', 'pickup_minute'])\n",
        "x_df"
      ],
      "metadata": {
        "id": "0KfM0PmT6mLy",
        "colab": {
          "base_uri": "https://localhost:8080/",
          "height": 487
        },
        "outputId": "22576fb4-3086-4e18-fd55-db584f9574e3"
      },
      "execution_count": 187,
      "outputs": [
        {
          "output_type": "execute_result",
          "data": {
            "text/plain": [
              "       vendor_id passenger_count pickup_longitude pickup_latitude  \\\n",
              "0              2               1       -73.953918       40.778873   \n",
              "1              1               2       -73.988312       40.731743   \n",
              "2              2               2       -73.997314       40.721458   \n",
              "3              2               6        -73.96167        40.75972   \n",
              "4              1               1        -74.01712       40.708469   \n",
              "...          ...             ...              ...             ...   \n",
              "729317         2               2       -73.965919        40.78978   \n",
              "729318         1               1       -73.996666       40.737434   \n",
              "729319         1               1       -73.997849       40.761696   \n",
              "729320         1               1       -74.006706       40.708244   \n",
              "729321         2               4       -74.003342       40.743839   \n",
              "\n",
              "       dropoff_longitude dropoff_latitude store_and_fwd_flag pickup_day  \\\n",
              "0             -73.963875        40.771164                  N         29   \n",
              "1             -73.994751        40.694931                  N         11   \n",
              "2             -73.948029        40.774918                  N         21   \n",
              "3             -73.956779        40.780628                  N          5   \n",
              "4             -73.988182        40.740631                  N         17   \n",
              "...                  ...              ...                ...        ...   \n",
              "729317        -73.952637        40.789181                  N         21   \n",
              "729318         -74.00132        40.731911                  N         22   \n",
              "729319        -74.001488        40.741207                  N         15   \n",
              "729320         -74.01355        40.713814                  N         19   \n",
              "729321        -73.945847        40.712841                  N          1   \n",
              "\n",
              "       pickup_month pickup_dayofweek pickup_hour pickup_minute  \n",
              "0                 2                0          16            40  \n",
              "1                 3                4          23            35  \n",
              "2                 2                6          17            59  \n",
              "3                 1                1           9            44  \n",
              "4                 2                2           6            42  \n",
              "...             ...              ...         ...           ...  \n",
              "729317            5                5          13            29  \n",
              "729318            2                0           0            43  \n",
              "729319            4                4          18            56  \n",
              "729320            6                6           9            50  \n",
              "729321            1                4          17            24  \n",
              "\n",
              "[729322 rows x 12 columns]"
            ],
            "text/html": [
              "\n",
              "  <div id=\"df-1d4fdb32-2c42-4204-a682-27eaa0bebd1d\">\n",
              "    <div class=\"colab-df-container\">\n",
              "      <div>\n",
              "<style scoped>\n",
              "    .dataframe tbody tr th:only-of-type {\n",
              "        vertical-align: middle;\n",
              "    }\n",
              "\n",
              "    .dataframe tbody tr th {\n",
              "        vertical-align: top;\n",
              "    }\n",
              "\n",
              "    .dataframe thead th {\n",
              "        text-align: right;\n",
              "    }\n",
              "</style>\n",
              "<table border=\"1\" class=\"dataframe\">\n",
              "  <thead>\n",
              "    <tr style=\"text-align: right;\">\n",
              "      <th></th>\n",
              "      <th>vendor_id</th>\n",
              "      <th>passenger_count</th>\n",
              "      <th>pickup_longitude</th>\n",
              "      <th>pickup_latitude</th>\n",
              "      <th>dropoff_longitude</th>\n",
              "      <th>dropoff_latitude</th>\n",
              "      <th>store_and_fwd_flag</th>\n",
              "      <th>pickup_day</th>\n",
              "      <th>pickup_month</th>\n",
              "      <th>pickup_dayofweek</th>\n",
              "      <th>pickup_hour</th>\n",
              "      <th>pickup_minute</th>\n",
              "    </tr>\n",
              "  </thead>\n",
              "  <tbody>\n",
              "    <tr>\n",
              "      <th>0</th>\n",
              "      <td>2</td>\n",
              "      <td>1</td>\n",
              "      <td>-73.953918</td>\n",
              "      <td>40.778873</td>\n",
              "      <td>-73.963875</td>\n",
              "      <td>40.771164</td>\n",
              "      <td>N</td>\n",
              "      <td>29</td>\n",
              "      <td>2</td>\n",
              "      <td>0</td>\n",
              "      <td>16</td>\n",
              "      <td>40</td>\n",
              "    </tr>\n",
              "    <tr>\n",
              "      <th>1</th>\n",
              "      <td>1</td>\n",
              "      <td>2</td>\n",
              "      <td>-73.988312</td>\n",
              "      <td>40.731743</td>\n",
              "      <td>-73.994751</td>\n",
              "      <td>40.694931</td>\n",
              "      <td>N</td>\n",
              "      <td>11</td>\n",
              "      <td>3</td>\n",
              "      <td>4</td>\n",
              "      <td>23</td>\n",
              "      <td>35</td>\n",
              "    </tr>\n",
              "    <tr>\n",
              "      <th>2</th>\n",
              "      <td>2</td>\n",
              "      <td>2</td>\n",
              "      <td>-73.997314</td>\n",
              "      <td>40.721458</td>\n",
              "      <td>-73.948029</td>\n",
              "      <td>40.774918</td>\n",
              "      <td>N</td>\n",
              "      <td>21</td>\n",
              "      <td>2</td>\n",
              "      <td>6</td>\n",
              "      <td>17</td>\n",
              "      <td>59</td>\n",
              "    </tr>\n",
              "    <tr>\n",
              "      <th>3</th>\n",
              "      <td>2</td>\n",
              "      <td>6</td>\n",
              "      <td>-73.96167</td>\n",
              "      <td>40.75972</td>\n",
              "      <td>-73.956779</td>\n",
              "      <td>40.780628</td>\n",
              "      <td>N</td>\n",
              "      <td>5</td>\n",
              "      <td>1</td>\n",
              "      <td>1</td>\n",
              "      <td>9</td>\n",
              "      <td>44</td>\n",
              "    </tr>\n",
              "    <tr>\n",
              "      <th>4</th>\n",
              "      <td>1</td>\n",
              "      <td>1</td>\n",
              "      <td>-74.01712</td>\n",
              "      <td>40.708469</td>\n",
              "      <td>-73.988182</td>\n",
              "      <td>40.740631</td>\n",
              "      <td>N</td>\n",
              "      <td>17</td>\n",
              "      <td>2</td>\n",
              "      <td>2</td>\n",
              "      <td>6</td>\n",
              "      <td>42</td>\n",
              "    </tr>\n",
              "    <tr>\n",
              "      <th>...</th>\n",
              "      <td>...</td>\n",
              "      <td>...</td>\n",
              "      <td>...</td>\n",
              "      <td>...</td>\n",
              "      <td>...</td>\n",
              "      <td>...</td>\n",
              "      <td>...</td>\n",
              "      <td>...</td>\n",
              "      <td>...</td>\n",
              "      <td>...</td>\n",
              "      <td>...</td>\n",
              "      <td>...</td>\n",
              "    </tr>\n",
              "    <tr>\n",
              "      <th>729317</th>\n",
              "      <td>2</td>\n",
              "      <td>2</td>\n",
              "      <td>-73.965919</td>\n",
              "      <td>40.78978</td>\n",
              "      <td>-73.952637</td>\n",
              "      <td>40.789181</td>\n",
              "      <td>N</td>\n",
              "      <td>21</td>\n",
              "      <td>5</td>\n",
              "      <td>5</td>\n",
              "      <td>13</td>\n",
              "      <td>29</td>\n",
              "    </tr>\n",
              "    <tr>\n",
              "      <th>729318</th>\n",
              "      <td>1</td>\n",
              "      <td>1</td>\n",
              "      <td>-73.996666</td>\n",
              "      <td>40.737434</td>\n",
              "      <td>-74.00132</td>\n",
              "      <td>40.731911</td>\n",
              "      <td>N</td>\n",
              "      <td>22</td>\n",
              "      <td>2</td>\n",
              "      <td>0</td>\n",
              "      <td>0</td>\n",
              "      <td>43</td>\n",
              "    </tr>\n",
              "    <tr>\n",
              "      <th>729319</th>\n",
              "      <td>1</td>\n",
              "      <td>1</td>\n",
              "      <td>-73.997849</td>\n",
              "      <td>40.761696</td>\n",
              "      <td>-74.001488</td>\n",
              "      <td>40.741207</td>\n",
              "      <td>N</td>\n",
              "      <td>15</td>\n",
              "      <td>4</td>\n",
              "      <td>4</td>\n",
              "      <td>18</td>\n",
              "      <td>56</td>\n",
              "    </tr>\n",
              "    <tr>\n",
              "      <th>729320</th>\n",
              "      <td>1</td>\n",
              "      <td>1</td>\n",
              "      <td>-74.006706</td>\n",
              "      <td>40.708244</td>\n",
              "      <td>-74.01355</td>\n",
              "      <td>40.713814</td>\n",
              "      <td>N</td>\n",
              "      <td>19</td>\n",
              "      <td>6</td>\n",
              "      <td>6</td>\n",
              "      <td>9</td>\n",
              "      <td>50</td>\n",
              "    </tr>\n",
              "    <tr>\n",
              "      <th>729321</th>\n",
              "      <td>2</td>\n",
              "      <td>4</td>\n",
              "      <td>-74.003342</td>\n",
              "      <td>40.743839</td>\n",
              "      <td>-73.945847</td>\n",
              "      <td>40.712841</td>\n",
              "      <td>N</td>\n",
              "      <td>1</td>\n",
              "      <td>1</td>\n",
              "      <td>4</td>\n",
              "      <td>17</td>\n",
              "      <td>24</td>\n",
              "    </tr>\n",
              "  </tbody>\n",
              "</table>\n",
              "<p>729322 rows × 12 columns</p>\n",
              "</div>\n",
              "      <button class=\"colab-df-convert\" onclick=\"convertToInteractive('df-1d4fdb32-2c42-4204-a682-27eaa0bebd1d')\"\n",
              "              title=\"Convert this dataframe to an interactive table.\"\n",
              "              style=\"display:none;\">\n",
              "        \n",
              "  <svg xmlns=\"http://www.w3.org/2000/svg\" height=\"24px\"viewBox=\"0 0 24 24\"\n",
              "       width=\"24px\">\n",
              "    <path d=\"M0 0h24v24H0V0z\" fill=\"none\"/>\n",
              "    <path d=\"M18.56 5.44l.94 2.06.94-2.06 2.06-.94-2.06-.94-.94-2.06-.94 2.06-2.06.94zm-11 1L8.5 8.5l.94-2.06 2.06-.94-2.06-.94L8.5 2.5l-.94 2.06-2.06.94zm10 10l.94 2.06.94-2.06 2.06-.94-2.06-.94-.94-2.06-.94 2.06-2.06.94z\"/><path d=\"M17.41 7.96l-1.37-1.37c-.4-.4-.92-.59-1.43-.59-.52 0-1.04.2-1.43.59L10.3 9.45l-7.72 7.72c-.78.78-.78 2.05 0 2.83L4 21.41c.39.39.9.59 1.41.59.51 0 1.02-.2 1.41-.59l7.78-7.78 2.81-2.81c.8-.78.8-2.07 0-2.86zM5.41 20L4 18.59l7.72-7.72 1.47 1.35L5.41 20z\"/>\n",
              "  </svg>\n",
              "      </button>\n",
              "      \n",
              "  <style>\n",
              "    .colab-df-container {\n",
              "      display:flex;\n",
              "      flex-wrap:wrap;\n",
              "      gap: 12px;\n",
              "    }\n",
              "\n",
              "    .colab-df-convert {\n",
              "      background-color: #E8F0FE;\n",
              "      border: none;\n",
              "      border-radius: 50%;\n",
              "      cursor: pointer;\n",
              "      display: none;\n",
              "      fill: #1967D2;\n",
              "      height: 32px;\n",
              "      padding: 0 0 0 0;\n",
              "      width: 32px;\n",
              "    }\n",
              "\n",
              "    .colab-df-convert:hover {\n",
              "      background-color: #E2EBFA;\n",
              "      box-shadow: 0px 1px 2px rgba(60, 64, 67, 0.3), 0px 1px 3px 1px rgba(60, 64, 67, 0.15);\n",
              "      fill: #174EA6;\n",
              "    }\n",
              "\n",
              "    [theme=dark] .colab-df-convert {\n",
              "      background-color: #3B4455;\n",
              "      fill: #D2E3FC;\n",
              "    }\n",
              "\n",
              "    [theme=dark] .colab-df-convert:hover {\n",
              "      background-color: #434B5C;\n",
              "      box-shadow: 0px 1px 3px 1px rgba(0, 0, 0, 0.15);\n",
              "      filter: drop-shadow(0px 1px 2px rgba(0, 0, 0, 0.3));\n",
              "      fill: #FFFFFF;\n",
              "    }\n",
              "  </style>\n",
              "\n",
              "      <script>\n",
              "        const buttonEl =\n",
              "          document.querySelector('#df-1d4fdb32-2c42-4204-a682-27eaa0bebd1d button.colab-df-convert');\n",
              "        buttonEl.style.display =\n",
              "          google.colab.kernel.accessAllowed ? 'block' : 'none';\n",
              "\n",
              "        async function convertToInteractive(key) {\n",
              "          const element = document.querySelector('#df-1d4fdb32-2c42-4204-a682-27eaa0bebd1d');\n",
              "          const dataTable =\n",
              "            await google.colab.kernel.invokeFunction('convertToInteractive',\n",
              "                                                     [key], {});\n",
              "          if (!dataTable) return;\n",
              "\n",
              "          const docLinkHtml = 'Like what you see? Visit the ' +\n",
              "            '<a target=\"_blank\" href=https://colab.research.google.com/notebooks/data_table.ipynb>data table notebook</a>'\n",
              "            + ' to learn more about interactive tables.';\n",
              "          element.innerHTML = '';\n",
              "          dataTable['output_type'] = 'display_data';\n",
              "          await google.colab.output.renderOutput(dataTable, element);\n",
              "          const docLink = document.createElement('div');\n",
              "          docLink.innerHTML = docLinkHtml;\n",
              "          element.appendChild(docLink);\n",
              "        }\n",
              "      </script>\n",
              "    </div>\n",
              "  </div>\n",
              "  "
            ]
          },
          "metadata": {},
          "execution_count": 187
        }
      ]
    },
    {
      "cell_type": "code",
      "source": [
        "y = data.iloc[:, 17].values\n",
        "y_df = pd.DataFrame (y, columns = ['log_trip_duration'])\n",
        "y_df"
      ],
      "metadata": {
        "id": "7oiLyk4b6v7l",
        "colab": {
          "base_uri": "https://localhost:8080/",
          "height": 423
        },
        "outputId": "3efa3dda-e7d4-4a79-ea43-6d878bd54d82"
      },
      "execution_count": 188,
      "outputs": [
        {
          "output_type": "execute_result",
          "data": {
            "text/plain": [
              "        log_trip_duration\n",
              "0                5.993961\n",
              "1                7.003974\n",
              "2                7.400010\n",
              "3                7.040536\n",
              "4                6.744059\n",
              "...                   ...\n",
              "729317           5.693732\n",
              "729318           5.755742\n",
              "729319           6.513230\n",
              "729320           6.104793\n",
              "729321           7.110696\n",
              "\n",
              "[729322 rows x 1 columns]"
            ],
            "text/html": [
              "\n",
              "  <div id=\"df-c331fc55-c8d9-4f24-aeea-c75036ee2f46\">\n",
              "    <div class=\"colab-df-container\">\n",
              "      <div>\n",
              "<style scoped>\n",
              "    .dataframe tbody tr th:only-of-type {\n",
              "        vertical-align: middle;\n",
              "    }\n",
              "\n",
              "    .dataframe tbody tr th {\n",
              "        vertical-align: top;\n",
              "    }\n",
              "\n",
              "    .dataframe thead th {\n",
              "        text-align: right;\n",
              "    }\n",
              "</style>\n",
              "<table border=\"1\" class=\"dataframe\">\n",
              "  <thead>\n",
              "    <tr style=\"text-align: right;\">\n",
              "      <th></th>\n",
              "      <th>log_trip_duration</th>\n",
              "    </tr>\n",
              "  </thead>\n",
              "  <tbody>\n",
              "    <tr>\n",
              "      <th>0</th>\n",
              "      <td>5.993961</td>\n",
              "    </tr>\n",
              "    <tr>\n",
              "      <th>1</th>\n",
              "      <td>7.003974</td>\n",
              "    </tr>\n",
              "    <tr>\n",
              "      <th>2</th>\n",
              "      <td>7.400010</td>\n",
              "    </tr>\n",
              "    <tr>\n",
              "      <th>3</th>\n",
              "      <td>7.040536</td>\n",
              "    </tr>\n",
              "    <tr>\n",
              "      <th>4</th>\n",
              "      <td>6.744059</td>\n",
              "    </tr>\n",
              "    <tr>\n",
              "      <th>...</th>\n",
              "      <td>...</td>\n",
              "    </tr>\n",
              "    <tr>\n",
              "      <th>729317</th>\n",
              "      <td>5.693732</td>\n",
              "    </tr>\n",
              "    <tr>\n",
              "      <th>729318</th>\n",
              "      <td>5.755742</td>\n",
              "    </tr>\n",
              "    <tr>\n",
              "      <th>729319</th>\n",
              "      <td>6.513230</td>\n",
              "    </tr>\n",
              "    <tr>\n",
              "      <th>729320</th>\n",
              "      <td>6.104793</td>\n",
              "    </tr>\n",
              "    <tr>\n",
              "      <th>729321</th>\n",
              "      <td>7.110696</td>\n",
              "    </tr>\n",
              "  </tbody>\n",
              "</table>\n",
              "<p>729322 rows × 1 columns</p>\n",
              "</div>\n",
              "      <button class=\"colab-df-convert\" onclick=\"convertToInteractive('df-c331fc55-c8d9-4f24-aeea-c75036ee2f46')\"\n",
              "              title=\"Convert this dataframe to an interactive table.\"\n",
              "              style=\"display:none;\">\n",
              "        \n",
              "  <svg xmlns=\"http://www.w3.org/2000/svg\" height=\"24px\"viewBox=\"0 0 24 24\"\n",
              "       width=\"24px\">\n",
              "    <path d=\"M0 0h24v24H0V0z\" fill=\"none\"/>\n",
              "    <path d=\"M18.56 5.44l.94 2.06.94-2.06 2.06-.94-2.06-.94-.94-2.06-.94 2.06-2.06.94zm-11 1L8.5 8.5l.94-2.06 2.06-.94-2.06-.94L8.5 2.5l-.94 2.06-2.06.94zm10 10l.94 2.06.94-2.06 2.06-.94-2.06-.94-.94-2.06-.94 2.06-2.06.94z\"/><path d=\"M17.41 7.96l-1.37-1.37c-.4-.4-.92-.59-1.43-.59-.52 0-1.04.2-1.43.59L10.3 9.45l-7.72 7.72c-.78.78-.78 2.05 0 2.83L4 21.41c.39.39.9.59 1.41.59.51 0 1.02-.2 1.41-.59l7.78-7.78 2.81-2.81c.8-.78.8-2.07 0-2.86zM5.41 20L4 18.59l7.72-7.72 1.47 1.35L5.41 20z\"/>\n",
              "  </svg>\n",
              "      </button>\n",
              "      \n",
              "  <style>\n",
              "    .colab-df-container {\n",
              "      display:flex;\n",
              "      flex-wrap:wrap;\n",
              "      gap: 12px;\n",
              "    }\n",
              "\n",
              "    .colab-df-convert {\n",
              "      background-color: #E8F0FE;\n",
              "      border: none;\n",
              "      border-radius: 50%;\n",
              "      cursor: pointer;\n",
              "      display: none;\n",
              "      fill: #1967D2;\n",
              "      height: 32px;\n",
              "      padding: 0 0 0 0;\n",
              "      width: 32px;\n",
              "    }\n",
              "\n",
              "    .colab-df-convert:hover {\n",
              "      background-color: #E2EBFA;\n",
              "      box-shadow: 0px 1px 2px rgba(60, 64, 67, 0.3), 0px 1px 3px 1px rgba(60, 64, 67, 0.15);\n",
              "      fill: #174EA6;\n",
              "    }\n",
              "\n",
              "    [theme=dark] .colab-df-convert {\n",
              "      background-color: #3B4455;\n",
              "      fill: #D2E3FC;\n",
              "    }\n",
              "\n",
              "    [theme=dark] .colab-df-convert:hover {\n",
              "      background-color: #434B5C;\n",
              "      box-shadow: 0px 1px 3px 1px rgba(0, 0, 0, 0.15);\n",
              "      filter: drop-shadow(0px 1px 2px rgba(0, 0, 0, 0.3));\n",
              "      fill: #FFFFFF;\n",
              "    }\n",
              "  </style>\n",
              "\n",
              "      <script>\n",
              "        const buttonEl =\n",
              "          document.querySelector('#df-c331fc55-c8d9-4f24-aeea-c75036ee2f46 button.colab-df-convert');\n",
              "        buttonEl.style.display =\n",
              "          google.colab.kernel.accessAllowed ? 'block' : 'none';\n",
              "\n",
              "        async function convertToInteractive(key) {\n",
              "          const element = document.querySelector('#df-c331fc55-c8d9-4f24-aeea-c75036ee2f46');\n",
              "          const dataTable =\n",
              "            await google.colab.kernel.invokeFunction('convertToInteractive',\n",
              "                                                     [key], {});\n",
              "          if (!dataTable) return;\n",
              "\n",
              "          const docLinkHtml = 'Like what you see? Visit the ' +\n",
              "            '<a target=\"_blank\" href=https://colab.research.google.com/notebooks/data_table.ipynb>data table notebook</a>'\n",
              "            + ' to learn more about interactive tables.';\n",
              "          element.innerHTML = '';\n",
              "          dataTable['output_type'] = 'display_data';\n",
              "          await google.colab.output.renderOutput(dataTable, element);\n",
              "          const docLink = document.createElement('div');\n",
              "          docLink.innerHTML = docLinkHtml;\n",
              "          element.appendChild(docLink);\n",
              "        }\n",
              "      </script>\n",
              "    </div>\n",
              "  </div>\n",
              "  "
            ]
          },
          "metadata": {},
          "execution_count": 188
        }
      ]
    },
    {
      "cell_type": "markdown",
      "source": [
        "**Checking for missing values in the dataset**"
      ],
      "metadata": {
        "id": "PJhqdpGJXEPP"
      }
    },
    {
      "cell_type": "code",
      "source": [
        "data.isnull().sum()"
      ],
      "metadata": {
        "id": "ARANfL366wm3",
        "colab": {
          "base_uri": "https://localhost:8080/"
        },
        "outputId": "4dbee873-73f4-4cc3-d4e4-32f6cd5f59dc"
      },
      "execution_count": 189,
      "outputs": [
        {
          "output_type": "execute_result",
          "data": {
            "text/plain": [
              "id                     0\n",
              "vendor_id              0\n",
              "pickup_datetime        0\n",
              "dropoff_datetime       0\n",
              "passenger_count        0\n",
              "pickup_longitude       0\n",
              "pickup_latitude        0\n",
              "dropoff_longitude      0\n",
              "dropoff_latitude       0\n",
              "store_and_fwd_flag     0\n",
              "trip_duration          0\n",
              "check_trip_duration    0\n",
              "pickup_day             0\n",
              "pickup_month           0\n",
              "pickup_dayofweek       0\n",
              "pickup_hour            0\n",
              "pickup_minute          0\n",
              "log_trip_duration      0\n",
              "dtype: int64"
            ]
          },
          "metadata": {},
          "execution_count": 189
        }
      ]
    },
    {
      "cell_type": "markdown",
      "source": [
        "**One hot encoding the categorical features**"
      ],
      "metadata": {
        "id": "16MCL-xpXGlP"
      }
    },
    {
      "cell_type": "code",
      "source": [
        "from sklearn.compose import ColumnTransformer\n",
        "from sklearn.preprocessing import OneHotEncoder\n",
        "ct = ColumnTransformer (transformers = [('ohe', OneHotEncoder (), [0, 6])], remainder = 'passthrough')\n",
        "x = ct.fit_transform (x)\n",
        "x"
      ],
      "metadata": {
        "id": "CUKAb_do-aKm",
        "colab": {
          "base_uri": "https://localhost:8080/"
        },
        "outputId": "1bbd7e86-3609-4ba5-ca9d-cda070802f0e"
      },
      "execution_count": 190,
      "outputs": [
        {
          "output_type": "execute_result",
          "data": {
            "text/plain": [
              "array([[0.0, 1.0, 1.0, ..., 0, 16, 40],\n",
              "       [1.0, 0.0, 1.0, ..., 4, 23, 35],\n",
              "       [0.0, 1.0, 1.0, ..., 6, 17, 59],\n",
              "       ...,\n",
              "       [1.0, 0.0, 1.0, ..., 4, 18, 56],\n",
              "       [1.0, 0.0, 1.0, ..., 6, 9, 50],\n",
              "       [0.0, 1.0, 1.0, ..., 4, 17, 24]], dtype=object)"
            ]
          },
          "metadata": {},
          "execution_count": 190
        }
      ]
    },
    {
      "cell_type": "code",
      "source": [
        "x_df.dtypes"
      ],
      "metadata": {
        "colab": {
          "base_uri": "https://localhost:8080/"
        },
        "id": "pv6Ly0xcGx2W",
        "outputId": "47d17d22-4672-4049-803c-b1f9bd3ba98d"
      },
      "execution_count": 191,
      "outputs": [
        {
          "output_type": "execute_result",
          "data": {
            "text/plain": [
              "vendor_id             object\n",
              "passenger_count       object\n",
              "pickup_longitude      object\n",
              "pickup_latitude       object\n",
              "dropoff_longitude     object\n",
              "dropoff_latitude      object\n",
              "store_and_fwd_flag    object\n",
              "pickup_day            object\n",
              "pickup_month          object\n",
              "pickup_dayofweek      object\n",
              "pickup_hour           object\n",
              "pickup_minute         object\n",
              "dtype: object"
            ]
          },
          "metadata": {},
          "execution_count": 191
        }
      ]
    },
    {
      "cell_type": "markdown",
      "source": [
        "**Splitting the dataset into train & test**"
      ],
      "metadata": {
        "id": "KYEGBTfnXJTJ"
      }
    },
    {
      "cell_type": "code",
      "source": [
        "from sklearn.model_selection import train_test_split\n",
        "x_train, x_test, y_train, y_test = train_test_split (x, y, test_size = 0.2, random_state = 0, shuffle = True)"
      ],
      "metadata": {
        "id": "FodaivTFA-xk"
      },
      "execution_count": 192,
      "outputs": []
    },
    {
      "cell_type": "markdown",
      "source": [
        "**Scaling the features after splitting to prevent data leakage**"
      ],
      "metadata": {
        "id": "5VnIn5v1XNmY"
      }
    },
    {
      "cell_type": "code",
      "source": [
        "from sklearn.preprocessing import StandardScaler\n",
        "sc = StandardScaler ()\n",
        "x_train = sc.fit_transform (x_train)\n",
        "x_test = sc.transform (x_test)"
      ],
      "metadata": {
        "id": "gA67dCFrinXj"
      },
      "execution_count": 193,
      "outputs": []
    },
    {
      "cell_type": "markdown",
      "source": [
        "**Building the linear regression model**"
      ],
      "metadata": {
        "id": "AlXK8kRHXQI2"
      }
    },
    {
      "cell_type": "code",
      "source": [
        "from sklearn.linear_model import LinearRegression\n",
        "from sklearn.metrics import mean_squared_error as mse\n",
        "lr = LinearRegression ()"
      ],
      "metadata": {
        "id": "wqqedEWhD94M"
      },
      "execution_count": 194,
      "outputs": []
    },
    {
      "cell_type": "markdown",
      "source": [
        "**Training the model and predicting the x_test**"
      ],
      "metadata": {
        "id": "93RGpSxEXUyu"
      }
    },
    {
      "cell_type": "code",
      "source": [
        "lr.fit (x_train, y_train)\n",
        "y_pred = lr.predict (x_test)\n",
        "np.concatenate ((y_test.reshape (-1, 1), y_pred.reshape (-1, 1)), axis = 1)"
      ],
      "metadata": {
        "id": "qYl9cBktGEy1",
        "colab": {
          "base_uri": "https://localhost:8080/"
        },
        "outputId": "b54af3c3-85a1-4f2d-b542-c8d148fa254a"
      },
      "execution_count": 195,
      "outputs": [
        {
          "output_type": "execute_result",
          "data": {
            "text/plain": [
              "array([[6.51323011, 6.49644746],\n",
              "       [7.07580886, 6.53204802],\n",
              "       [6.36647045, 6.36449538],\n",
              "       ...,\n",
              "       [7.07411682, 6.50920886],\n",
              "       [6.22455843, 6.34405604],\n",
              "       [7.81439963, 5.97240144]])"
            ]
          },
          "metadata": {},
          "execution_count": 195
        }
      ]
    },
    {
      "cell_type": "markdown",
      "source": [
        "**Calculating the error**"
      ],
      "metadata": {
        "id": "W-UbGvLyXYq2"
      }
    },
    {
      "cell_type": "code",
      "source": [
        "err = sqrt (mse (y_test, y_pred))\n",
        "err"
      ],
      "metadata": {
        "colab": {
          "base_uri": "https://localhost:8080/"
        },
        "id": "brtJeheJtGKn",
        "outputId": "a6869b12-1ed1-41b5-e00b-ee2c243efc16"
      },
      "execution_count": 196,
      "outputs": [
        {
          "output_type": "execute_result",
          "data": {
            "text/plain": [
              "0.7782388849250498"
            ]
          },
          "metadata": {},
          "execution_count": 196
        }
      ]
    },
    {
      "cell_type": "markdown",
      "source": [
        "**Interpreting the coefficients of linear model**"
      ],
      "metadata": {
        "id": "Lc95T2j1XdHY"
      }
    },
    {
      "cell_type": "code",
      "source": [
        "lr.coef_"
      ],
      "metadata": {
        "colab": {
          "base_uri": "https://localhost:8080/"
        },
        "id": "bBNkC98iDHwY",
        "outputId": "83b98672-c54e-421a-987c-f5d2115632da"
      },
      "execution_count": 197,
      "outputs": [
        {
          "output_type": "execute_result",
          "data": {
            "text/plain": [
              "array([ 1.57791435e+09,  1.57791435e+09, -3.80666207e+11, -3.80666207e+11,\n",
              "        1.22624040e-02,  1.03668597e-01, -8.19364982e-02, -8.36760085e-03,\n",
              "       -6.98524462e-02,  7.38489846e-03,  3.73440068e-02, -2.32756926e-02,\n",
              "        2.92832721e-02, -6.32137345e-03])"
            ]
          },
          "metadata": {},
          "execution_count": 197
        }
      ]
    },
    {
      "cell_type": "code",
      "source": [
        "Coefficients = pd.DataFrame({'Variable': x_df.columns, 'Coefficient': [lr.coef_[0], lr.coef_[2], lr.coef_[4], lr.coef_[5], lr.coef_[6], lr.coef_[7], lr.coef_[8], lr.coef_[9], lr.coef_[10], lr.coef_[11], lr.coef_[12], lr.coef_[13]]})\n",
        "Coefficients"
      ],
      "metadata": {
        "colab": {
          "base_uri": "https://localhost:8080/",
          "height": 425
        },
        "id": "nB3iip0Le-6O",
        "outputId": "4ec6cf2c-7b47-43e6-fa36-d1f11cf913e6"
      },
      "execution_count": 198,
      "outputs": [
        {
          "output_type": "execute_result",
          "data": {
            "text/plain": [
              "              Variable   Coefficient\n",
              "0            vendor_id  1.577914e+09\n",
              "1      passenger_count -3.806662e+11\n",
              "2     pickup_longitude  1.226240e-02\n",
              "3      pickup_latitude  1.036686e-01\n",
              "4    dropoff_longitude -8.193650e-02\n",
              "5     dropoff_latitude -8.367601e-03\n",
              "6   store_and_fwd_flag -6.985245e-02\n",
              "7           pickup_day  7.384898e-03\n",
              "8         pickup_month  3.734401e-02\n",
              "9     pickup_dayofweek -2.327569e-02\n",
              "10         pickup_hour  2.928327e-02\n",
              "11       pickup_minute -6.321373e-03"
            ],
            "text/html": [
              "\n",
              "  <div id=\"df-08cb02fa-d8a0-4f99-bfcb-7eec42683f1a\">\n",
              "    <div class=\"colab-df-container\">\n",
              "      <div>\n",
              "<style scoped>\n",
              "    .dataframe tbody tr th:only-of-type {\n",
              "        vertical-align: middle;\n",
              "    }\n",
              "\n",
              "    .dataframe tbody tr th {\n",
              "        vertical-align: top;\n",
              "    }\n",
              "\n",
              "    .dataframe thead th {\n",
              "        text-align: right;\n",
              "    }\n",
              "</style>\n",
              "<table border=\"1\" class=\"dataframe\">\n",
              "  <thead>\n",
              "    <tr style=\"text-align: right;\">\n",
              "      <th></th>\n",
              "      <th>Variable</th>\n",
              "      <th>Coefficient</th>\n",
              "    </tr>\n",
              "  </thead>\n",
              "  <tbody>\n",
              "    <tr>\n",
              "      <th>0</th>\n",
              "      <td>vendor_id</td>\n",
              "      <td>1.577914e+09</td>\n",
              "    </tr>\n",
              "    <tr>\n",
              "      <th>1</th>\n",
              "      <td>passenger_count</td>\n",
              "      <td>-3.806662e+11</td>\n",
              "    </tr>\n",
              "    <tr>\n",
              "      <th>2</th>\n",
              "      <td>pickup_longitude</td>\n",
              "      <td>1.226240e-02</td>\n",
              "    </tr>\n",
              "    <tr>\n",
              "      <th>3</th>\n",
              "      <td>pickup_latitude</td>\n",
              "      <td>1.036686e-01</td>\n",
              "    </tr>\n",
              "    <tr>\n",
              "      <th>4</th>\n",
              "      <td>dropoff_longitude</td>\n",
              "      <td>-8.193650e-02</td>\n",
              "    </tr>\n",
              "    <tr>\n",
              "      <th>5</th>\n",
              "      <td>dropoff_latitude</td>\n",
              "      <td>-8.367601e-03</td>\n",
              "    </tr>\n",
              "    <tr>\n",
              "      <th>6</th>\n",
              "      <td>store_and_fwd_flag</td>\n",
              "      <td>-6.985245e-02</td>\n",
              "    </tr>\n",
              "    <tr>\n",
              "      <th>7</th>\n",
              "      <td>pickup_day</td>\n",
              "      <td>7.384898e-03</td>\n",
              "    </tr>\n",
              "    <tr>\n",
              "      <th>8</th>\n",
              "      <td>pickup_month</td>\n",
              "      <td>3.734401e-02</td>\n",
              "    </tr>\n",
              "    <tr>\n",
              "      <th>9</th>\n",
              "      <td>pickup_dayofweek</td>\n",
              "      <td>-2.327569e-02</td>\n",
              "    </tr>\n",
              "    <tr>\n",
              "      <th>10</th>\n",
              "      <td>pickup_hour</td>\n",
              "      <td>2.928327e-02</td>\n",
              "    </tr>\n",
              "    <tr>\n",
              "      <th>11</th>\n",
              "      <td>pickup_minute</td>\n",
              "      <td>-6.321373e-03</td>\n",
              "    </tr>\n",
              "  </tbody>\n",
              "</table>\n",
              "</div>\n",
              "      <button class=\"colab-df-convert\" onclick=\"convertToInteractive('df-08cb02fa-d8a0-4f99-bfcb-7eec42683f1a')\"\n",
              "              title=\"Convert this dataframe to an interactive table.\"\n",
              "              style=\"display:none;\">\n",
              "        \n",
              "  <svg xmlns=\"http://www.w3.org/2000/svg\" height=\"24px\"viewBox=\"0 0 24 24\"\n",
              "       width=\"24px\">\n",
              "    <path d=\"M0 0h24v24H0V0z\" fill=\"none\"/>\n",
              "    <path d=\"M18.56 5.44l.94 2.06.94-2.06 2.06-.94-2.06-.94-.94-2.06-.94 2.06-2.06.94zm-11 1L8.5 8.5l.94-2.06 2.06-.94-2.06-.94L8.5 2.5l-.94 2.06-2.06.94zm10 10l.94 2.06.94-2.06 2.06-.94-2.06-.94-.94-2.06-.94 2.06-2.06.94z\"/><path d=\"M17.41 7.96l-1.37-1.37c-.4-.4-.92-.59-1.43-.59-.52 0-1.04.2-1.43.59L10.3 9.45l-7.72 7.72c-.78.78-.78 2.05 0 2.83L4 21.41c.39.39.9.59 1.41.59.51 0 1.02-.2 1.41-.59l7.78-7.78 2.81-2.81c.8-.78.8-2.07 0-2.86zM5.41 20L4 18.59l7.72-7.72 1.47 1.35L5.41 20z\"/>\n",
              "  </svg>\n",
              "      </button>\n",
              "      \n",
              "  <style>\n",
              "    .colab-df-container {\n",
              "      display:flex;\n",
              "      flex-wrap:wrap;\n",
              "      gap: 12px;\n",
              "    }\n",
              "\n",
              "    .colab-df-convert {\n",
              "      background-color: #E8F0FE;\n",
              "      border: none;\n",
              "      border-radius: 50%;\n",
              "      cursor: pointer;\n",
              "      display: none;\n",
              "      fill: #1967D2;\n",
              "      height: 32px;\n",
              "      padding: 0 0 0 0;\n",
              "      width: 32px;\n",
              "    }\n",
              "\n",
              "    .colab-df-convert:hover {\n",
              "      background-color: #E2EBFA;\n",
              "      box-shadow: 0px 1px 2px rgba(60, 64, 67, 0.3), 0px 1px 3px 1px rgba(60, 64, 67, 0.15);\n",
              "      fill: #174EA6;\n",
              "    }\n",
              "\n",
              "    [theme=dark] .colab-df-convert {\n",
              "      background-color: #3B4455;\n",
              "      fill: #D2E3FC;\n",
              "    }\n",
              "\n",
              "    [theme=dark] .colab-df-convert:hover {\n",
              "      background-color: #434B5C;\n",
              "      box-shadow: 0px 1px 3px 1px rgba(0, 0, 0, 0.15);\n",
              "      filter: drop-shadow(0px 1px 2px rgba(0, 0, 0, 0.3));\n",
              "      fill: #FFFFFF;\n",
              "    }\n",
              "  </style>\n",
              "\n",
              "      <script>\n",
              "        const buttonEl =\n",
              "          document.querySelector('#df-08cb02fa-d8a0-4f99-bfcb-7eec42683f1a button.colab-df-convert');\n",
              "        buttonEl.style.display =\n",
              "          google.colab.kernel.accessAllowed ? 'block' : 'none';\n",
              "\n",
              "        async function convertToInteractive(key) {\n",
              "          const element = document.querySelector('#df-08cb02fa-d8a0-4f99-bfcb-7eec42683f1a');\n",
              "          const dataTable =\n",
              "            await google.colab.kernel.invokeFunction('convertToInteractive',\n",
              "                                                     [key], {});\n",
              "          if (!dataTable) return;\n",
              "\n",
              "          const docLinkHtml = 'Like what you see? Visit the ' +\n",
              "            '<a target=\"_blank\" href=https://colab.research.google.com/notebooks/data_table.ipynb>data table notebook</a>'\n",
              "            + ' to learn more about interactive tables.';\n",
              "          element.innerHTML = '';\n",
              "          dataTable['output_type'] = 'display_data';\n",
              "          await google.colab.output.renderOutput(dataTable, element);\n",
              "          const docLink = document.createElement('div');\n",
              "          docLink.innerHTML = docLinkHtml;\n",
              "          element.appendChild(docLink);\n",
              "        }\n",
              "      </script>\n",
              "    </div>\n",
              "  </div>\n",
              "  "
            ]
          },
          "metadata": {},
          "execution_count": 198
        }
      ]
    },
    {
      "cell_type": "code",
      "source": [
        "plt.figure (figsize = (8, 6), dpi = 120, facecolor = 'w', edgecolor = 'b')\n",
        "x_axis = x_df.columns\n",
        "y_axis = [lr.coef_[0], lr.coef_[2], lr.coef_[4], lr.coef_[5], lr.coef_[6], lr.coef_[7], lr.coef_[8], lr.coef_[9], lr.coef_[10], lr.coef_[11], lr.coef_[12], lr.coef_[13]]\n",
        "plt.bar (x_axis, y_axis)\n",
        "plt.xticks (rotation = 90)\n",
        "plt.xlabel ('Variables')\n",
        "plt.ylabel ('Coefficients')\n",
        "plt.ylim (-10, 10)\n",
        "plt.title ('Coefficient plot')"
      ],
      "metadata": {
        "colab": {
          "base_uri": "https://localhost:8080/",
          "height": 832
        },
        "id": "DN1KmBoiD43p",
        "outputId": "7100e581-30f6-421a-9739-85f76c69917e"
      },
      "execution_count": 199,
      "outputs": [
        {
          "output_type": "execute_result",
          "data": {
            "text/plain": [
              "Text(0.5, 1.0, 'Coefficient plot')"
            ]
          },
          "metadata": {},
          "execution_count": 199
        },
        {
          "output_type": "display_data",
          "data": {
            "text/plain": [
              "<Figure size 960x720 with 1 Axes>"
            ],
            "image/png": "[encoded data removed]"
          },
          "metadata": {}
        }
      ]
    },
    {
      "cell_type": "markdown",
      "source": [
        "**We see that 'vendor_id' & 'passenger_count' have huge coefficients and thus, need to be regularised**"
      ],
      "metadata": {
        "id": "Bg5Bp6mUQ73X"
      }
    },
    {
      "cell_type": "markdown",
      "source": [
        "**Checking the spread of residuals**"
      ],
      "metadata": {
        "id": "P8BWY5ZWDcDa"
      }
    },
    {
      "cell_type": "code",
      "source": [
        "residuals = pd.DataFrame ({'fitted values': y_test, 'predicted values': y_pred,})\n",
        "residuals['residuals'] = residuals['fitted values'] - residuals['predicted values']\n",
        "residuals.head()"
      ],
      "metadata": {
        "colab": {
          "base_uri": "https://localhost:8080/",
          "height": 206
        },
        "id": "h5JpWYGnERCA",
        "outputId": "8b64f8db-b24d-46ed-b267-cb44c40c5d1e"
      },
      "execution_count": 200,
      "outputs": [
        {
          "output_type": "execute_result",
          "data": {
            "text/plain": [
              "   fitted values  predicted values  residuals\n",
              "0       6.513230          6.496447   0.016783\n",
              "1       7.075809          6.532048   0.543761\n",
              "2       6.366470          6.364495   0.001975\n",
              "3       6.762730          6.459319   0.303410\n",
              "4       6.188264          6.245888  -0.057624"
            ],
            "text/html": [
              "\n",
              "  <div id=\"df-db8a4d2e-3380-4b5f-842e-845181833697\">\n",
              "    <div class=\"colab-df-container\">\n",
              "      <div>\n",
              "<style scoped>\n",
              "    .dataframe tbody tr th:only-of-type {\n",
              "        vertical-align: middle;\n",
              "    }\n",
              "\n",
              "    .dataframe tbody tr th {\n",
              "        vertical-align: top;\n",
              "    }\n",
              "\n",
              "    .dataframe thead th {\n",
              "        text-align: right;\n",
              "    }\n",
              "</style>\n",
              "<table border=\"1\" class=\"dataframe\">\n",
              "  <thead>\n",
              "    <tr style=\"text-align: right;\">\n",
              "      <th></th>\n",
              "      <th>fitted values</th>\n",
              "      <th>predicted values</th>\n",
              "      <th>residuals</th>\n",
              "    </tr>\n",
              "  </thead>\n",
              "  <tbody>\n",
              "    <tr>\n",
              "      <th>0</th>\n",
              "      <td>6.513230</td>\n",
              "      <td>6.496447</td>\n",
              "      <td>0.016783</td>\n",
              "    </tr>\n",
              "    <tr>\n",
              "      <th>1</th>\n",
              "      <td>7.075809</td>\n",
              "      <td>6.532048</td>\n",
              "      <td>0.543761</td>\n",
              "    </tr>\n",
              "    <tr>\n",
              "      <th>2</th>\n",
              "      <td>6.366470</td>\n",
              "      <td>6.364495</td>\n",
              "      <td>0.001975</td>\n",
              "    </tr>\n",
              "    <tr>\n",
              "      <th>3</th>\n",
              "      <td>6.762730</td>\n",
              "      <td>6.459319</td>\n",
              "      <td>0.303410</td>\n",
              "    </tr>\n",
              "    <tr>\n",
              "      <th>4</th>\n",
              "      <td>6.188264</td>\n",
              "      <td>6.245888</td>\n",
              "      <td>-0.057624</td>\n",
              "    </tr>\n",
              "  </tbody>\n",
              "</table>\n",
              "</div>\n",
              "      <button class=\"colab-df-convert\" onclick=\"convertToInteractive('df-db8a4d2e-3380-4b5f-842e-845181833697')\"\n",
              "              title=\"Convert this dataframe to an interactive table.\"\n",
              "              style=\"display:none;\">\n",
              "        \n",
              "  <svg xmlns=\"http://www.w3.org/2000/svg\" height=\"24px\"viewBox=\"0 0 24 24\"\n",
              "       width=\"24px\">\n",
              "    <path d=\"M0 0h24v24H0V0z\" fill=\"none\"/>\n",
              "    <path d=\"M18.56 5.44l.94 2.06.94-2.06 2.06-.94-2.06-.94-.94-2.06-.94 2.06-2.06.94zm-11 1L8.5 8.5l.94-2.06 2.06-.94-2.06-.94L8.5 2.5l-.94 2.06-2.06.94zm10 10l.94 2.06.94-2.06 2.06-.94-2.06-.94-.94-2.06-.94 2.06-2.06.94z\"/><path d=\"M17.41 7.96l-1.37-1.37c-.4-.4-.92-.59-1.43-.59-.52 0-1.04.2-1.43.59L10.3 9.45l-7.72 7.72c-.78.78-.78 2.05 0 2.83L4 21.41c.39.39.9.59 1.41.59.51 0 1.02-.2 1.41-.59l7.78-7.78 2.81-2.81c.8-.78.8-2.07 0-2.86zM5.41 20L4 18.59l7.72-7.72 1.47 1.35L5.41 20z\"/>\n",
              "  </svg>\n",
              "      </button>\n",
              "      \n",
              "  <style>\n",
              "    .colab-df-container {\n",
              "      display:flex;\n",
              "      flex-wrap:wrap;\n",
              "      gap: 12px;\n",
              "    }\n",
              "\n",
              "    .colab-df-convert {\n",
              "      background-color: #E8F0FE;\n",
              "      border: none;\n",
              "      border-radius: 50%;\n",
              "      cursor: pointer;\n",
              "      display: none;\n",
              "      fill: #1967D2;\n",
              "      height: 32px;\n",
              "      padding: 0 0 0 0;\n",
              "      width: 32px;\n",
              "    }\n",
              "\n",
              "    .colab-df-convert:hover {\n",
              "      background-color: #E2EBFA;\n",
              "      box-shadow: 0px 1px 2px rgba(60, 64, 67, 0.3), 0px 1px 3px 1px rgba(60, 64, 67, 0.15);\n",
              "      fill: #174EA6;\n",
              "    }\n",
              "\n",
              "    [theme=dark] .colab-df-convert {\n",
              "      background-color: #3B4455;\n",
              "      fill: #D2E3FC;\n",
              "    }\n",
              "\n",
              "    [theme=dark] .colab-df-convert:hover {\n",
              "      background-color: #434B5C;\n",
              "      box-shadow: 0px 1px 3px 1px rgba(0, 0, 0, 0.15);\n",
              "      filter: drop-shadow(0px 1px 2px rgba(0, 0, 0, 0.3));\n",
              "      fill: #FFFFFF;\n",
              "    }\n",
              "  </style>\n",
              "\n",
              "      <script>\n",
              "        const buttonEl =\n",
              "          document.querySelector('#df-db8a4d2e-3380-4b5f-842e-845181833697 button.colab-df-convert');\n",
              "        buttonEl.style.display =\n",
              "          google.colab.kernel.accessAllowed ? 'block' : 'none';\n",
              "\n",
              "        async function convertToInteractive(key) {\n",
              "          const element = document.querySelector('#df-db8a4d2e-3380-4b5f-842e-845181833697');\n",
              "          const dataTable =\n",
              "            await google.colab.kernel.invokeFunction('convertToInteractive',\n",
              "                                                     [key], {});\n",
              "          if (!dataTable) return;\n",
              "\n",
              "          const docLinkHtml = 'Like what you see? Visit the ' +\n",
              "            '<a target=\"_blank\" href=https://colab.research.google.com/notebooks/data_table.ipynb>data table notebook</a>'\n",
              "            + ' to learn more about interactive tables.';\n",
              "          element.innerHTML = '';\n",
              "          dataTable['output_type'] = 'display_data';\n",
              "          await google.colab.output.renderOutput(dataTable, element);\n",
              "          const docLink = document.createElement('div');\n",
              "          docLink.innerHTML = docLinkHtml;\n",
              "          element.appendChild(docLink);\n",
              "        }\n",
              "      </script>\n",
              "    </div>\n",
              "  </div>\n",
              "  "
            ]
          },
          "metadata": {},
          "execution_count": 200
        }
      ]
    },
    {
      "cell_type": "code",
      "source": [
        "residuals.shape[0]"
      ],
      "metadata": {
        "colab": {
          "base_uri": "https://localhost:8080/"
        },
        "id": "VcdTdsxhce-F",
        "outputId": "d03d485a-a62d-4ac9-e483-9e24f8b48ae2"
      },
      "execution_count": 201,
      "outputs": [
        {
          "output_type": "execute_result",
          "data": {
            "text/plain": [
              "145865"
            ]
          },
          "metadata": {},
          "execution_count": 201
        }
      ]
    },
    {
      "cell_type": "code",
      "source": [
        "plt.figure (figsize = (10, 6), dpi = 120, facecolor = 'w', edgecolor = 'b')\n",
        "f = range (0, 145865)\n",
        "k = [0 for i in range (0, 145865)]\n",
        "plt.scatter (f, residuals.residuals[:], label = 'Residuals')\n",
        "plt.plot (f, k , color = 'red', label = 'Regression line' )\n",
        "plt.xlabel ('Fitted points ')\n",
        "plt.ylabel ('Residuals')\n",
        "plt.title ('Residual plot')\n",
        "plt.ylim (-10, 10)\n",
        "plt.legend ()"
      ],
      "metadata": {
        "colab": {
          "base_uri": "https://localhost:8080/",
          "height": 623
        },
        "id": "6U75yrQlEq5w",
        "outputId": "a52e9a28-ac45-4c7f-9cf4-c1985210f4ca"
      },
      "execution_count": 202,
      "outputs": [
        {
          "output_type": "execute_result",
          "data": {
            "text/plain": [
              "<matplotlib.legend.Legend at 0x7fd76f8c13a0>"
            ]
          },
          "metadata": {},
          "execution_count": 202
        },
        {
          "output_type": "display_data",
          "data": {
            "text/plain": [
              "<Figure size 1200x720 with 1 Axes>"
            ],
            "image/png": "[encoded data removed]"
          },
          "metadata": {}
        }
      ]
    },
    {
      "cell_type": "markdown",
      "source": [
        "**Ridge regularisation**"
      ],
      "metadata": {
        "id": "nABwvlhb6W05"
      }
    },
    {
      "cell_type": "code",
      "source": [
        "from sklearn.linear_model import Ridge"
      ],
      "metadata": {
        "id": "sUlY9xVec8uP"
      },
      "execution_count": 203,
      "outputs": []
    },
    {
      "cell_type": "code",
      "source": [
        "def ridge_regression (x_train, x_test, y_train, y_test, alpha):\n",
        "    #Fit the model\n",
        "    rmse_train = []\n",
        "    rmse_test = []\n",
        "    ridgereg_coef = []\n",
        "    ridgereg_intercept = []\n",
        "    for i in alpha:\n",
        "      ridgereg = Ridge (alpha = i)\n",
        "      ridgereg.fit (x_train, y_train)\n",
        "      y_train_pred = ridgereg.predict (x_train)\n",
        "      y_test_pred = ridgereg.predict (x_test)\n",
        "\n",
        "      rmse_train.append (sqrt (mse (y_train, y_train_pred)))\n",
        "      rmse_test.append (sqrt (mse (y_test, y_test_pred)))\n",
        "      ridgereg_coef.append (ridgereg.coef_)\n",
        "      ridgereg_intercept.append (ridgereg.intercept_)\n",
        "\n",
        "    return (rmse_train, rmse_test, ridgereg_coef, ridgereg_intercept)"
      ],
      "metadata": {
        "id": "GxKS8tszkB3Q"
      },
      "execution_count": 204,
      "outputs": []
    },
    {
      "cell_type": "code",
      "source": [
        "alpha_ridge = [0, 5, 10, 15, 20, 25, 30, 35, 40, 45, 50]\n",
        "out = ridge_regression (x_train, x_test, y_train, y_test, alpha_ridge)\n",
        "rmse_train = out[0]\n",
        "rmse_test = out[1]\n",
        "ridgereg_coef = out[2]\n",
        "ridgereg_intercept = out[3]"
      ],
      "metadata": {
        "id": "zg5NFCb8j8o1"
      },
      "execution_count": 205,
      "outputs": []
    },
    {
      "cell_type": "code",
      "source": [
        "alpha_df = pd.DataFrame (alpha_ridge, columns = ['Alpha'])\n",
        "train_df = pd.DataFrame (rmse_train, columns = ['Train_error'])\n",
        "test_df = pd.DataFrame (rmse_test, columns = ['Test_error'])\n",
        "intercept_df = pd.DataFrame (ridgereg_intercept, columns = ['Intercept'])\n",
        "df = pd.concat ([alpha_df, train_df, test_df, intercept_df], axis = 1)\n",
        "c = 0\n",
        "for i in range (0, 14):\n",
        "  ridgereg = []\n",
        "  for j in range (0, 11):\n",
        "    ridgereg.append (ridgereg_coef[j][i])\n",
        "  if i in [0, 2, 4, 5, 6, 7, 8, 9, 10, 11, 12, 13]:\n",
        "    coef_df = pd.DataFrame (ridgereg, columns = [x_df.columns[c]])\n",
        "    df = pd.concat ([df, coef_df], axis = 1)\n",
        "    c += 1\n",
        "df"
      ],
      "metadata": {
        "colab": {
          "base_uri": "https://localhost:8080/",
          "height": 354
        },
        "id": "7F083054mmaG",
        "outputId": "a744cfe3-4299-43cd-dff7-3761899414f9"
      },
      "execution_count": 206,
      "outputs": [
        {
          "output_type": "execute_result",
          "data": {
            "text/plain": [
              "    Alpha  Train_error  Test_error  Intercept     vendor_id  passenger_count  \\\n",
              "0       0     0.775803    0.778235   6.467815  1.008726e+12    -3.764914e+11   \n",
              "1       5     0.775802    0.778223   6.467815 -5.991398e-03    -6.130964e-03   \n",
              "2      10     0.775802    0.778223   6.467815 -5.991391e-03    -6.130945e-03   \n",
              "3      15     0.775802    0.778223   6.467815 -5.991385e-03    -6.130925e-03   \n",
              "4      20     0.775802    0.778223   6.467815 -5.991378e-03    -6.130905e-03   \n",
              "5      25     0.775802    0.778223   6.467815 -5.991372e-03    -6.130886e-03   \n",
              "6      30     0.775802    0.778223   6.467815 -5.991366e-03    -6.130866e-03   \n",
              "7      35     0.775802    0.778223   6.467815 -5.991359e-03    -6.130847e-03   \n",
              "8      40     0.775802    0.778224   6.467815 -5.991353e-03    -6.130827e-03   \n",
              "9      45     0.775802    0.778224   6.467815 -5.991346e-03    -6.130807e-03   \n",
              "10     50     0.775802    0.778224   6.467815 -5.991340e-03    -6.130788e-03   \n",
              "\n",
              "    pickup_longitude  pickup_latitude  dropoff_longitude  dropoff_latitude  \\\n",
              "0           0.012153         0.103688          -0.081997         -0.008351   \n",
              "1           0.012295         0.103663          -0.081974         -0.008271   \n",
              "2           0.012295         0.103660          -0.081973         -0.008269   \n",
              "3           0.012295         0.103658          -0.081973         -0.008267   \n",
              "4           0.012295         0.103655          -0.081973         -0.008265   \n",
              "5           0.012294         0.103652          -0.081972         -0.008263   \n",
              "6           0.012294         0.103650          -0.081972         -0.008261   \n",
              "7           0.012294         0.103647          -0.081971         -0.008259   \n",
              "8           0.012294         0.103644          -0.081971         -0.008257   \n",
              "9           0.012294         0.103642          -0.081971         -0.008254   \n",
              "10          0.012294         0.103639          -0.081970         -0.008252   \n",
              "\n",
              "    store_and_fwd_flag  pickup_day  pickup_month  pickup_dayofweek  \\\n",
              "0            -0.069852    0.007390      0.037356         -0.023252   \n",
              "1            -0.069904    0.007429      0.037334         -0.023154   \n",
              "2            -0.069904    0.007429      0.037334         -0.023154   \n",
              "3            -0.069903    0.007429      0.037334         -0.023154   \n",
              "4            -0.069903    0.007429      0.037334         -0.023154   \n",
              "5            -0.069903    0.007429      0.037333         -0.023154   \n",
              "6            -0.069902    0.007429      0.037333         -0.023154   \n",
              "7            -0.069902    0.007429      0.037333         -0.023153   \n",
              "8            -0.069901    0.007429      0.037332         -0.023153   \n",
              "9            -0.069901    0.007428      0.037332         -0.023153   \n",
              "10           -0.069901    0.007428      0.037332         -0.023153   \n",
              "\n",
              "    pickup_hour  pickup_minute  \n",
              "0      0.029319      -0.006392  \n",
              "1      0.029297      -0.006196  \n",
              "2      0.029296      -0.006196  \n",
              "3      0.029296      -0.006196  \n",
              "4      0.029296      -0.006196  \n",
              "5      0.029296      -0.006196  \n",
              "6      0.029296      -0.006196  \n",
              "7      0.029296      -0.006196  \n",
              "8      0.029295      -0.006196  \n",
              "9      0.029295      -0.006196  \n",
              "10     0.029295      -0.006196  "
            ],
            "text/html": [
              "\n",
              "  <div id=\"df-60993172-d0e0-4867-8b80-d5a426c08928\">\n",
              "    <div class=\"colab-df-container\">\n",
              "      <div>\n",
              "<style scoped>\n",
              "    .dataframe tbody tr th:only-of-type {\n",
              "        vertical-align: middle;\n",
              "    }\n",
              "\n",
              "    .dataframe tbody tr th {\n",
              "        vertical-align: top;\n",
              "    }\n",
              "\n",
              "    .dataframe thead th {\n",
              "        text-align: right;\n",
              "    }\n",
              "</style>\n",
              "<table border=\"1\" class=\"dataframe\">\n",
              "  <thead>\n",
              "    <tr style=\"text-align: right;\">\n",
              "      <th></th>\n",
              "      <th>Alpha</th>\n",
              "      <th>Train_error</th>\n",
              "      <th>Test_error</th>\n",
              "      <th>Intercept</th>\n",
              "      <th>vendor_id</th>\n",
              "      <th>passenger_count</th>\n",
              "      <th>pickup_longitude</th>\n",
              "      <th>pickup_latitude</th>\n",
              "      <th>dropoff_longitude</th>\n",
              "      <th>dropoff_latitude</th>\n",
              "      <th>store_and_fwd_flag</th>\n",
              "      <th>pickup_day</th>\n",
              "      <th>pickup_month</th>\n",
              "      <th>pickup_dayofweek</th>\n",
              "      <th>pickup_hour</th>\n",
              "      <th>pickup_minute</th>\n",
              "    </tr>\n",
              "  </thead>\n",
              "  <tbody>\n",
              "    <tr>\n",
              "      <th>0</th>\n",
              "      <td>0</td>\n",
              "      <td>0.775803</td>\n",
              "      <td>0.778235</td>\n",
              "      <td>6.467815</td>\n",
              "      <td>1.008726e+12</td>\n",
              "      <td>-3.764914e+11</td>\n",
              "      <td>0.012153</td>\n",
              "      <td>0.103688</td>\n",
              "      <td>-0.081997</td>\n",
              "      <td>-0.008351</td>\n",
              "      <td>-0.069852</td>\n",
              "      <td>0.007390</td>\n",
              "      <td>0.037356</td>\n",
              "      <td>-0.023252</td>\n",
              "      <td>0.029319</td>\n",
              "      <td>-0.006392</td>\n",
              "    </tr>\n",
              "    <tr>\n",
              "      <th>1</th>\n",
              "      <td>5</td>\n",
              "      <td>0.775802</td>\n",
              "      <td>0.778223</td>\n",
              "      <td>6.467815</td>\n",
              "      <td>-5.991398e-03</td>\n",
              "      <td>-6.130964e-03</td>\n",
              "      <td>0.012295</td>\n",
              "      <td>0.103663</td>\n",
              "      <td>-0.081974</td>\n",
              "      <td>-0.008271</td>\n",
              "      <td>-0.069904</td>\n",
              "      <td>0.007429</td>\n",
              "      <td>0.037334</td>\n",
              "      <td>-0.023154</td>\n",
              "      <td>0.029297</td>\n",
              "      <td>-0.006196</td>\n",
              "    </tr>\n",
              "    <tr>\n",
              "      <th>2</th>\n",
              "      <td>10</td>\n",
              "      <td>0.775802</td>\n",
              "      <td>0.778223</td>\n",
              "      <td>6.467815</td>\n",
              "      <td>-5.991391e-03</td>\n",
              "      <td>-6.130945e-03</td>\n",
              "      <td>0.012295</td>\n",
              "      <td>0.103660</td>\n",
              "      <td>-0.081973</td>\n",
              "      <td>-0.008269</td>\n",
              "      <td>-0.069904</td>\n",
              "      <td>0.007429</td>\n",
              "      <td>0.037334</td>\n",
              "      <td>-0.023154</td>\n",
              "      <td>0.029296</td>\n",
              "      <td>-0.006196</td>\n",
              "    </tr>\n",
              "    <tr>\n",
              "      <th>3</th>\n",
              "      <td>15</td>\n",
              "      <td>0.775802</td>\n",
              "      <td>0.778223</td>\n",
              "      <td>6.467815</td>\n",
              "      <td>-5.991385e-03</td>\n",
              "      <td>-6.130925e-03</td>\n",
              "      <td>0.012295</td>\n",
              "      <td>0.103658</td>\n",
              "      <td>-0.081973</td>\n",
              "      <td>-0.008267</td>\n",
              "      <td>-0.069903</td>\n",
              "      <td>0.007429</td>\n",
              "      <td>0.037334</td>\n",
              "      <td>-0.023154</td>\n",
              "      <td>0.029296</td>\n",
              "      <td>-0.006196</td>\n",
              "    </tr>\n",
              "    <tr>\n",
              "      <th>4</th>\n",
              "      <td>20</td>\n",
              "      <td>0.775802</td>\n",
              "      <td>0.778223</td>\n",
              "      <td>6.467815</td>\n",
              "      <td>-5.991378e-03</td>\n",
              "      <td>-6.130905e-03</td>\n",
              "      <td>0.012295</td>\n",
              "      <td>0.103655</td>\n",
              "      <td>-0.081973</td>\n",
              "      <td>-0.008265</td>\n",
              "      <td>-0.069903</td>\n",
              "      <td>0.007429</td>\n",
              "      <td>0.037334</td>\n",
              "      <td>-0.023154</td>\n",
              "      <td>0.029296</td>\n",
              "      <td>-0.006196</td>\n",
              "    </tr>\n",
              "    <tr>\n",
              "      <th>5</th>\n",
              "      <td>25</td>\n",
              "      <td>0.775802</td>\n",
              "      <td>0.778223</td>\n",
              "      <td>6.467815</td>\n",
              "      <td>-5.991372e-03</td>\n",
              "      <td>-6.130886e-03</td>\n",
              "      <td>0.012294</td>\n",
              "      <td>0.103652</td>\n",
              "      <td>-0.081972</td>\n",
              "      <td>-0.008263</td>\n",
              "      <td>-0.069903</td>\n",
              "      <td>0.007429</td>\n",
              "      <td>0.037333</td>\n",
              "      <td>-0.023154</td>\n",
              "      <td>0.029296</td>\n",
              "      <td>-0.006196</td>\n",
              "    </tr>\n",
              "    <tr>\n",
              "      <th>6</th>\n",
              "      <td>30</td>\n",
              "      <td>0.775802</td>\n",
              "      <td>0.778223</td>\n",
              "      <td>6.467815</td>\n",
              "      <td>-5.991366e-03</td>\n",
              "      <td>-6.130866e-03</td>\n",
              "      <td>0.012294</td>\n",
              "      <td>0.103650</td>\n",
              "      <td>-0.081972</td>\n",
              "      <td>-0.008261</td>\n",
              "      <td>-0.069902</td>\n",
              "      <td>0.007429</td>\n",
              "      <td>0.037333</td>\n",
              "      <td>-0.023154</td>\n",
              "      <td>0.029296</td>\n",
              "      <td>-0.006196</td>\n",
              "    </tr>\n",
              "    <tr>\n",
              "      <th>7</th>\n",
              "      <td>35</td>\n",
              "      <td>0.775802</td>\n",
              "      <td>0.778223</td>\n",
              "      <td>6.467815</td>\n",
              "      <td>-5.991359e-03</td>\n",
              "      <td>-6.130847e-03</td>\n",
              "      <td>0.012294</td>\n",
              "      <td>0.103647</td>\n",
              "      <td>-0.081971</td>\n",
              "      <td>-0.008259</td>\n",
              "      <td>-0.069902</td>\n",
              "      <td>0.007429</td>\n",
              "      <td>0.037333</td>\n",
              "      <td>-0.023153</td>\n",
              "      <td>0.029296</td>\n",
              "      <td>-0.006196</td>\n",
              "    </tr>\n",
              "    <tr>\n",
              "      <th>8</th>\n",
              "      <td>40</td>\n",
              "      <td>0.775802</td>\n",
              "      <td>0.778224</td>\n",
              "      <td>6.467815</td>\n",
              "      <td>-5.991353e-03</td>\n",
              "      <td>-6.130827e-03</td>\n",
              "      <td>0.012294</td>\n",
              "      <td>0.103644</td>\n",
              "      <td>-0.081971</td>\n",
              "      <td>-0.008257</td>\n",
              "      <td>-0.069901</td>\n",
              "      <td>0.007429</td>\n",
              "      <td>0.037332</td>\n",
              "      <td>-0.023153</td>\n",
              "      <td>0.029295</td>\n",
              "      <td>-0.006196</td>\n",
              "    </tr>\n",
              "    <tr>\n",
              "      <th>9</th>\n",
              "      <td>45</td>\n",
              "      <td>0.775802</td>\n",
              "      <td>0.778224</td>\n",
              "      <td>6.467815</td>\n",
              "      <td>-5.991346e-03</td>\n",
              "      <td>-6.130807e-03</td>\n",
              "      <td>0.012294</td>\n",
              "      <td>0.103642</td>\n",
              "      <td>-0.081971</td>\n",
              "      <td>-0.008254</td>\n",
              "      <td>-0.069901</td>\n",
              "      <td>0.007428</td>\n",
              "      <td>0.037332</td>\n",
              "      <td>-0.023153</td>\n",
              "      <td>0.029295</td>\n",
              "      <td>-0.006196</td>\n",
              "    </tr>\n",
              "    <tr>\n",
              "      <th>10</th>\n",
              "      <td>50</td>\n",
              "      <td>0.775802</td>\n",
              "      <td>0.778224</td>\n",
              "      <td>6.467815</td>\n",
              "      <td>-5.991340e-03</td>\n",
              "      <td>-6.130788e-03</td>\n",
              "      <td>0.012294</td>\n",
              "      <td>0.103639</td>\n",
              "      <td>-0.081970</td>\n",
              "      <td>-0.008252</td>\n",
              "      <td>-0.069901</td>\n",
              "      <td>0.007428</td>\n",
              "      <td>0.037332</td>\n",
              "      <td>-0.023153</td>\n",
              "      <td>0.029295</td>\n",
              "      <td>-0.006196</td>\n",
              "    </tr>\n",
              "  </tbody>\n",
              "</table>\n",
              "</div>\n",
              "      <button class=\"colab-df-convert\" onclick=\"convertToInteractive('df-60993172-d0e0-4867-8b80-d5a426c08928')\"\n",
              "              title=\"Convert this dataframe to an interactive table.\"\n",
              "              style=\"display:none;\">\n",
              "        \n",
              "  <svg xmlns=\"http://www.w3.org/2000/svg\" height=\"24px\"viewBox=\"0 0 24 24\"\n",
              "       width=\"24px\">\n",
              "    <path d=\"M0 0h24v24H0V0z\" fill=\"none\"/>\n",
              "    <path d=\"M18.56 5.44l.94 2.06.94-2.06 2.06-.94-2.06-.94-.94-2.06-.94 2.06-2.06.94zm-11 1L8.5 8.5l.94-2.06 2.06-.94-2.06-.94L8.5 2.5l-.94 2.06-2.06.94zm10 10l.94 2.06.94-2.06 2.06-.94-2.06-.94-.94-2.06-.94 2.06-2.06.94z\"/><path d=\"M17.41 7.96l-1.37-1.37c-.4-.4-.92-.59-1.43-.59-.52 0-1.04.2-1.43.59L10.3 9.45l-7.72 7.72c-.78.78-.78 2.05 0 2.83L4 21.41c.39.39.9.59 1.41.59.51 0 1.02-.2 1.41-.59l7.78-7.78 2.81-2.81c.8-.78.8-2.07 0-2.86zM5.41 20L4 18.59l7.72-7.72 1.47 1.35L5.41 20z\"/>\n",
              "  </svg>\n",
              "      </button>\n",
              "      \n",
              "  <style>\n",
              "    .colab-df-container {\n",
              "      display:flex;\n",
              "      flex-wrap:wrap;\n",
              "      gap: 12px;\n",
              "    }\n",
              "\n",
              "    .colab-df-convert {\n",
              "      background-color: #E8F0FE;\n",
              "      border: none;\n",
              "      border-radius: 50%;\n",
              "      cursor: pointer;\n",
              "      display: none;\n",
              "      fill: #1967D2;\n",
              "      height: 32px;\n",
              "      padding: 0 0 0 0;\n",
              "      width: 32px;\n",
              "    }\n",
              "\n",
              "    .colab-df-convert:hover {\n",
              "      background-color: #E2EBFA;\n",
              "      box-shadow: 0px 1px 2px rgba(60, 64, 67, 0.3), 0px 1px 3px 1px rgba(60, 64, 67, 0.15);\n",
              "      fill: #174EA6;\n",
              "    }\n",
              "\n",
              "    [theme=dark] .colab-df-convert {\n",
              "      background-color: #3B4455;\n",
              "      fill: #D2E3FC;\n",
              "    }\n",
              "\n",
              "    [theme=dark] .colab-df-convert:hover {\n",
              "      background-color: #434B5C;\n",
              "      box-shadow: 0px 1px 3px 1px rgba(0, 0, 0, 0.15);\n",
              "      filter: drop-shadow(0px 1px 2px rgba(0, 0, 0, 0.3));\n",
              "      fill: #FFFFFF;\n",
              "    }\n",
              "  </style>\n",
              "\n",
              "      <script>\n",
              "        const buttonEl =\n",
              "          document.querySelector('#df-60993172-d0e0-4867-8b80-d5a426c08928 button.colab-df-convert');\n",
              "        buttonEl.style.display =\n",
              "          google.colab.kernel.accessAllowed ? 'block' : 'none';\n",
              "\n",
              "        async function convertToInteractive(key) {\n",
              "          const element = document.querySelector('#df-60993172-d0e0-4867-8b80-d5a426c08928');\n",
              "          const dataTable =\n",
              "            await google.colab.kernel.invokeFunction('convertToInteractive',\n",
              "                                                     [key], {});\n",
              "          if (!dataTable) return;\n",
              "\n",
              "          const docLinkHtml = 'Like what you see? Visit the ' +\n",
              "            '<a target=\"_blank\" href=https://colab.research.google.com/notebooks/data_table.ipynb>data table notebook</a>'\n",
              "            + ' to learn more about interactive tables.';\n",
              "          element.innerHTML = '';\n",
              "          dataTable['output_type'] = 'display_data';\n",
              "          await google.colab.output.renderOutput(dataTable, element);\n",
              "          const docLink = document.createElement('div');\n",
              "          docLink.innerHTML = docLinkHtml;\n",
              "          element.appendChild(docLink);\n",
              "        }\n",
              "      </script>\n",
              "    </div>\n",
              "  </div>\n",
              "  "
            ]
          },
          "metadata": {},
          "execution_count": 206
        }
      ]
    },
    {
      "cell_type": "markdown",
      "source": [
        "**Check out the difference between the coefficients of ridge-regularised 'vector_id' and 'passenger_count'. There is a huge difference between them and the non-regularised (Alpha=0) coefficients**"
      ],
      "metadata": {
        "id": "c8QuLxJ3RWot"
      }
    },
    {
      "cell_type": "code",
      "source": [
        "plt.plot (alpha_ridge, rmse_train, color = 'red')\n",
        "plt.plot (alpha_ridge, rmse_test, color = 'blue')\n",
        "plt.xlabel ('Alpha Values')\n",
        "plt.ylabel ('RMSE')\n",
        "plt.ylim (0.7, 0.9)\n",
        "plt.legend (['Train', 'Test'])"
      ],
      "metadata": {
        "colab": {
          "base_uri": "https://localhost:8080/",
          "height": 472
        },
        "id": "m1l0cwY08hGH",
        "outputId": "1c1443f4-02d4-4033-c9a7-a21b696652d1"
      },
      "execution_count": 207,
      "outputs": [
        {
          "output_type": "execute_result",
          "data": {
            "text/plain": [
              "<matplotlib.legend.Legend at 0x7fd76f45edc0>"
            ]
          },
          "metadata": {},
          "execution_count": 207
        },
        {
          "output_type": "display_data",
          "data": {
            "text/plain": [
              "<Figure size 640x480 with 1 Axes>"
            ],
            "image/png": "[encoded data removed]"
          },
          "metadata": {}
        }
      ]
    },
    {
      "cell_type": "markdown",
      "source": [
        "**Lasso regularisation**"
      ],
      "metadata": {
        "id": "9v8x7AUV6765"
      }
    },
    {
      "cell_type": "code",
      "source": [
        "from sklearn.linear_model import Lasso"
      ],
      "metadata": {
        "id": "k59z_-xq7JES"
      },
      "execution_count": 208,
      "outputs": []
    },
    {
      "cell_type": "code",
      "source": [
        "def lasso_regression (x_train, x_test, y_train, y_test, alpha):\n",
        "    #Fit the model\n",
        "    rmse_train = []\n",
        "    rmse_test = []\n",
        "    lassoreg_coef = []\n",
        "    lassoreg_intercept = []\n",
        "    for i in alpha:\n",
        "      lassoreg = Lasso (alpha = i)\n",
        "      lassoreg.fit (x_train, y_train)\n",
        "      y_train_pred = lassoreg.predict (x_train)\n",
        "      y_test_pred = lassoreg.predict (x_test)\n",
        "\n",
        "      rmse_train.append (sqrt (mse (y_train, y_train_pred)))\n",
        "      rmse_test.append (sqrt (mse (y_test, y_test_pred)))\n",
        "      lassoreg_coef.append (lassoreg.coef_)\n",
        "      lassoreg_intercept.append (lassoreg.intercept_)\n",
        "      \n",
        "    return (rmse_train, rmse_test, ridgereg_coef, ridgereg_intercept)"
      ],
      "metadata": {
        "id": "rPRMhHnbFJOR"
      },
      "execution_count": 209,
      "outputs": []
    },
    {
      "cell_type": "code",
      "source": [
        "alpha_lasso = [0, 1, 2, 3, 4, 5, 6, 7, 8, 9, 10]\n",
        "out = lasso_regression (x_train, x_test, y_train, y_test, alpha_lasso)\n",
        "rmse_train = out[0]\n",
        "rmse_test = out[1]\n",
        "lassoreg_coef = out[2]\n",
        "lassoreg_intercept = out[3]"
      ],
      "metadata": {
        "colab": {
          "base_uri": "https://localhost:8080/"
        },
        "id": "Sle6At26_ZgR",
        "outputId": "66ae132b-8470-416b-e41e-e9108e5567ec"
      },
      "execution_count": 210,
      "outputs": [
        {
          "output_type": "stream",
          "name": "stderr",
          "text": [
            "<ipython-input-209-316a857ca0dc>:9: UserWarning: With alpha=0, this algorithm does not converge well. You are advised to use the LinearRegression estimator\n",
            "  lassoreg.fit (x_train, y_train)\n",
            "/usr/local/lib/python3.9/dist-packages/sklearn/linear_model/_coordinate_descent.py:631: UserWarning: Coordinate descent with no regularization may lead to unexpected results and is discouraged.\n",
            "  model = cd_fast.enet_coordinate_descent(\n",
            "/usr/local/lib/python3.9/dist-packages/sklearn/linear_model/_coordinate_descent.py:631: ConvergenceWarning: Objective did not converge. You might want to increase the number of iterations, check the scale of the features or consider increasing regularisation. Duality gap: 1.756e+05, tolerance: 3.671e+01 Linear regression models with null weight for the l1 regularization term are more efficiently fitted using one of the solvers implemented in sklearn.linear_model.Ridge/RidgeCV instead.\n",
            "  model = cd_fast.enet_coordinate_descent(\n"
          ]
        }
      ]
    },
    {
      "cell_type": "code",
      "source": [
        "alpha_df = pd.DataFrame (alpha_lasso, columns = ['Alpha'])\n",
        "train_df = pd.DataFrame (rmse_train, columns = ['Train_error'])\n",
        "test_df = pd.DataFrame (rmse_test, columns = ['Test_error'])\n",
        "intercept_df = pd.DataFrame (lassoreg_intercept, columns = ['Intercept'])\n",
        "df = pd.concat ([alpha_df, train_df, test_df, intercept_df], axis = 1)\n",
        "c = 0\n",
        "for i in range (0, 14):\n",
        "  lassoreg = []\n",
        "  for j in range (0, 11):\n",
        "    lassoreg.append (lassoreg_coef[j][i])\n",
        "  if i in [0, 2, 4, 5, 6, 7, 8, 9, 10, 11, 12, 13]:\n",
        "    coef_df = pd.DataFrame (lassoreg, columns = [x_df.columns[c]])\n",
        "    df = pd.concat ([df, coef_df], axis = 1)\n",
        "    c += 1\n",
        "df"
      ],
      "metadata": {
        "colab": {
          "base_uri": "https://localhost:8080/",
          "height": 354
        },
        "outputId": "3bbd0f8b-ec40-4b53-9200-de0e9f67542f",
        "id": "Z9Gdu8uJFm9u"
      },
      "execution_count": 211,
      "outputs": [
        {
          "output_type": "execute_result",
          "data": {
            "text/plain": [
              "    Alpha  Train_error  Test_error  Intercept     vendor_id  passenger_count  \\\n",
              "0       0     0.775802    0.778223   6.467815  1.008726e+12    -3.764914e+11   \n",
              "1       1     0.793200    0.800835   6.467815 -5.991398e-03    -6.130964e-03   \n",
              "2       2     0.793200    0.800835   6.467815 -5.991391e-03    -6.130945e-03   \n",
              "3       3     0.793200    0.800835   6.467815 -5.991385e-03    -6.130925e-03   \n",
              "4       4     0.793200    0.800835   6.467815 -5.991378e-03    -6.130905e-03   \n",
              "5       5     0.793200    0.800835   6.467815 -5.991372e-03    -6.130886e-03   \n",
              "6       6     0.793200    0.800835   6.467815 -5.991366e-03    -6.130866e-03   \n",
              "7       7     0.793200    0.800835   6.467815 -5.991359e-03    -6.130847e-03   \n",
              "8       8     0.793200    0.800835   6.467815 -5.991353e-03    -6.130827e-03   \n",
              "9       9     0.793200    0.800835   6.467815 -5.991346e-03    -6.130807e-03   \n",
              "10     10     0.793200    0.800835   6.467815 -5.991340e-03    -6.130788e-03   \n",
              "\n",
              "    pickup_longitude  pickup_latitude  dropoff_longitude  dropoff_latitude  \\\n",
              "0           0.012153         0.103688          -0.081997         -0.008351   \n",
              "1           0.012295         0.103663          -0.081974         -0.008271   \n",
              "2           0.012295         0.103660          -0.081973         -0.008269   \n",
              "3           0.012295         0.103658          -0.081973         -0.008267   \n",
              "4           0.012295         0.103655          -0.081973         -0.008265   \n",
              "5           0.012294         0.103652          -0.081972         -0.008263   \n",
              "6           0.012294         0.103650          -0.081972         -0.008261   \n",
              "7           0.012294         0.103647          -0.081971         -0.008259   \n",
              "8           0.012294         0.103644          -0.081971         -0.008257   \n",
              "9           0.012294         0.103642          -0.081971         -0.008254   \n",
              "10          0.012294         0.103639          -0.081970         -0.008252   \n",
              "\n",
              "    store_and_fwd_flag  pickup_day  pickup_month  pickup_dayofweek  \\\n",
              "0            -0.069852    0.007390      0.037356         -0.023252   \n",
              "1            -0.069904    0.007429      0.037334         -0.023154   \n",
              "2            -0.069904    0.007429      0.037334         -0.023154   \n",
              "3            -0.069903    0.007429      0.037334         -0.023154   \n",
              "4            -0.069903    0.007429      0.037334         -0.023154   \n",
              "5            -0.069903    0.007429      0.037333         -0.023154   \n",
              "6            -0.069902    0.007429      0.037333         -0.023154   \n",
              "7            -0.069902    0.007429      0.037333         -0.023153   \n",
              "8            -0.069901    0.007429      0.037332         -0.023153   \n",
              "9            -0.069901    0.007428      0.037332         -0.023153   \n",
              "10           -0.069901    0.007428      0.037332         -0.023153   \n",
              "\n",
              "    pickup_hour  pickup_minute  \n",
              "0      0.029319      -0.006392  \n",
              "1      0.029297      -0.006196  \n",
              "2      0.029296      -0.006196  \n",
              "3      0.029296      -0.006196  \n",
              "4      0.029296      -0.006196  \n",
              "5      0.029296      -0.006196  \n",
              "6      0.029296      -0.006196  \n",
              "7      0.029296      -0.006196  \n",
              "8      0.029295      -0.006196  \n",
              "9      0.029295      -0.006196  \n",
              "10     0.029295      -0.006196  "
            ],
            "text/html": [
              "\n",
              "  <div id=\"df-5ef12ab4-7fc2-4346-a2db-8db84c1b7ca2\">\n",
              "    <div class=\"colab-df-container\">\n",
              "      <div>\n",
              "<style scoped>\n",
              "    .dataframe tbody tr th:only-of-type {\n",
              "        vertical-align: middle;\n",
              "    }\n",
              "\n",
              "    .dataframe tbody tr th {\n",
              "        vertical-align: top;\n",
              "    }\n",
              "\n",
              "    .dataframe thead th {\n",
              "        text-align: right;\n",
              "    }\n",
              "</style>\n",
              "<table border=\"1\" class=\"dataframe\">\n",
              "  <thead>\n",
              "    <tr style=\"text-align: right;\">\n",
              "      <th></th>\n",
              "      <th>Alpha</th>\n",
              "      <th>Train_error</th>\n",
              "      <th>Test_error</th>\n",
              "      <th>Intercept</th>\n",
              "      <th>vendor_id</th>\n",
              "      <th>passenger_count</th>\n",
              "      <th>pickup_longitude</th>\n",
              "      <th>pickup_latitude</th>\n",
              "      <th>dropoff_longitude</th>\n",
              "      <th>dropoff_latitude</th>\n",
              "      <th>store_and_fwd_flag</th>\n",
              "      <th>pickup_day</th>\n",
              "      <th>pickup_month</th>\n",
              "      <th>pickup_dayofweek</th>\n",
              "      <th>pickup_hour</th>\n",
              "      <th>pickup_minute</th>\n",
              "    </tr>\n",
              "  </thead>\n",
              "  <tbody>\n",
              "    <tr>\n",
              "      <th>0</th>\n",
              "      <td>0</td>\n",
              "      <td>0.775802</td>\n",
              "      <td>0.778223</td>\n",
              "      <td>6.467815</td>\n",
              "      <td>1.008726e+12</td>\n",
              "      <td>-3.764914e+11</td>\n",
              "      <td>0.012153</td>\n",
              "      <td>0.103688</td>\n",
              "      <td>-0.081997</td>\n",
              "      <td>-0.008351</td>\n",
              "      <td>-0.069852</td>\n",
              "      <td>0.007390</td>\n",
              "      <td>0.037356</td>\n",
              "      <td>-0.023252</td>\n",
              "      <td>0.029319</td>\n",
              "      <td>-0.006392</td>\n",
              "    </tr>\n",
              "    <tr>\n",
              "      <th>1</th>\n",
              "      <td>1</td>\n",
              "      <td>0.793200</td>\n",
              "      <td>0.800835</td>\n",
              "      <td>6.467815</td>\n",
              "      <td>-5.991398e-03</td>\n",
              "      <td>-6.130964e-03</td>\n",
              "      <td>0.012295</td>\n",
              "      <td>0.103663</td>\n",
              "      <td>-0.081974</td>\n",
              "      <td>-0.008271</td>\n",
              "      <td>-0.069904</td>\n",
              "      <td>0.007429</td>\n",
              "      <td>0.037334</td>\n",
              "      <td>-0.023154</td>\n",
              "      <td>0.029297</td>\n",
              "      <td>-0.006196</td>\n",
              "    </tr>\n",
              "    <tr>\n",
              "      <th>2</th>\n",
              "      <td>2</td>\n",
              "      <td>0.793200</td>\n",
              "      <td>0.800835</td>\n",
              "      <td>6.467815</td>\n",
              "      <td>-5.991391e-03</td>\n",
              "      <td>-6.130945e-03</td>\n",
              "      <td>0.012295</td>\n",
              "      <td>0.103660</td>\n",
              "      <td>-0.081973</td>\n",
              "      <td>-0.008269</td>\n",
              "      <td>-0.069904</td>\n",
              "      <td>0.007429</td>\n",
              "      <td>0.037334</td>\n",
              "      <td>-0.023154</td>\n",
              "      <td>0.029296</td>\n",
              "      <td>-0.006196</td>\n",
              "    </tr>\n",
              "    <tr>\n",
              "      <th>3</th>\n",
              "      <td>3</td>\n",
              "      <td>0.793200</td>\n",
              "      <td>0.800835</td>\n",
              "      <td>6.467815</td>\n",
              "      <td>-5.991385e-03</td>\n",
              "      <td>-6.130925e-03</td>\n",
              "      <td>0.012295</td>\n",
              "      <td>0.103658</td>\n",
              "      <td>-0.081973</td>\n",
              "      <td>-0.008267</td>\n",
              "      <td>-0.069903</td>\n",
              "      <td>0.007429</td>\n",
              "      <td>0.037334</td>\n",
              "      <td>-0.023154</td>\n",
              "      <td>0.029296</td>\n",
              "      <td>-0.006196</td>\n",
              "    </tr>\n",
              "    <tr>\n",
              "      <th>4</th>\n",
              "      <td>4</td>\n",
              "      <td>0.793200</td>\n",
              "      <td>0.800835</td>\n",
              "      <td>6.467815</td>\n",
              "      <td>-5.991378e-03</td>\n",
              "      <td>-6.130905e-03</td>\n",
              "      <td>0.012295</td>\n",
              "      <td>0.103655</td>\n",
              "      <td>-0.081973</td>\n",
              "      <td>-0.008265</td>\n",
              "      <td>-0.069903</td>\n",
              "      <td>0.007429</td>\n",
              "      <td>0.037334</td>\n",
              "      <td>-0.023154</td>\n",
              "      <td>0.029296</td>\n",
              "      <td>-0.006196</td>\n",
              "    </tr>\n",
              "    <tr>\n",
              "      <th>5</th>\n",
              "      <td>5</td>\n",
              "      <td>0.793200</td>\n",
              "      <td>0.800835</td>\n",
              "      <td>6.467815</td>\n",
              "      <td>-5.991372e-03</td>\n",
              "      <td>-6.130886e-03</td>\n",
              "      <td>0.012294</td>\n",
              "      <td>0.103652</td>\n",
              "      <td>-0.081972</td>\n",
              "      <td>-0.008263</td>\n",
              "      <td>-0.069903</td>\n",
              "      <td>0.007429</td>\n",
              "      <td>0.037333</td>\n",
              "      <td>-0.023154</td>\n",
              "      <td>0.029296</td>\n",
              "      <td>-0.006196</td>\n",
              "    </tr>\n",
              "    <tr>\n",
              "      <th>6</th>\n",
              "      <td>6</td>\n",
              "      <td>0.793200</td>\n",
              "      <td>0.800835</td>\n",
              "      <td>6.467815</td>\n",
              "      <td>-5.991366e-03</td>\n",
              "      <td>-6.130866e-03</td>\n",
              "      <td>0.012294</td>\n",
              "      <td>0.103650</td>\n",
              "      <td>-0.081972</td>\n",
              "      <td>-0.008261</td>\n",
              "      <td>-0.069902</td>\n",
              "      <td>0.007429</td>\n",
              "      <td>0.037333</td>\n",
              "      <td>-0.023154</td>\n",
              "      <td>0.029296</td>\n",
              "      <td>-0.006196</td>\n",
              "    </tr>\n",
              "    <tr>\n",
              "      <th>7</th>\n",
              "      <td>7</td>\n",
              "      <td>0.793200</td>\n",
              "      <td>0.800835</td>\n",
              "      <td>6.467815</td>\n",
              "      <td>-5.991359e-03</td>\n",
              "      <td>-6.130847e-03</td>\n",
              "      <td>0.012294</td>\n",
              "      <td>0.103647</td>\n",
              "      <td>-0.081971</td>\n",
              "      <td>-0.008259</td>\n",
              "      <td>-0.069902</td>\n",
              "      <td>0.007429</td>\n",
              "      <td>0.037333</td>\n",
              "      <td>-0.023153</td>\n",
              "      <td>0.029296</td>\n",
              "      <td>-0.006196</td>\n",
              "    </tr>\n",
              "    <tr>\n",
              "      <th>8</th>\n",
              "      <td>8</td>\n",
              "      <td>0.793200</td>\n",
              "      <td>0.800835</td>\n",
              "      <td>6.467815</td>\n",
              "      <td>-5.991353e-03</td>\n",
              "      <td>-6.130827e-03</td>\n",
              "      <td>0.012294</td>\n",
              "      <td>0.103644</td>\n",
              "      <td>-0.081971</td>\n",
              "      <td>-0.008257</td>\n",
              "      <td>-0.069901</td>\n",
              "      <td>0.007429</td>\n",
              "      <td>0.037332</td>\n",
              "      <td>-0.023153</td>\n",
              "      <td>0.029295</td>\n",
              "      <td>-0.006196</td>\n",
              "    </tr>\n",
              "    <tr>\n",
              "      <th>9</th>\n",
              "      <td>9</td>\n",
              "      <td>0.793200</td>\n",
              "      <td>0.800835</td>\n",
              "      <td>6.467815</td>\n",
              "      <td>-5.991346e-03</td>\n",
              "      <td>-6.130807e-03</td>\n",
              "      <td>0.012294</td>\n",
              "      <td>0.103642</td>\n",
              "      <td>-0.081971</td>\n",
              "      <td>-0.008254</td>\n",
              "      <td>-0.069901</td>\n",
              "      <td>0.007428</td>\n",
              "      <td>0.037332</td>\n",
              "      <td>-0.023153</td>\n",
              "      <td>0.029295</td>\n",
              "      <td>-0.006196</td>\n",
              "    </tr>\n",
              "    <tr>\n",
              "      <th>10</th>\n",
              "      <td>10</td>\n",
              "      <td>0.793200</td>\n",
              "      <td>0.800835</td>\n",
              "      <td>6.467815</td>\n",
              "      <td>-5.991340e-03</td>\n",
              "      <td>-6.130788e-03</td>\n",
              "      <td>0.012294</td>\n",
              "      <td>0.103639</td>\n",
              "      <td>-0.081970</td>\n",
              "      <td>-0.008252</td>\n",
              "      <td>-0.069901</td>\n",
              "      <td>0.007428</td>\n",
              "      <td>0.037332</td>\n",
              "      <td>-0.023153</td>\n",
              "      <td>0.029295</td>\n",
              "      <td>-0.006196</td>\n",
              "    </tr>\n",
              "  </tbody>\n",
              "</table>\n",
              "</div>\n",
              "      <button class=\"colab-df-convert\" onclick=\"convertToInteractive('df-5ef12ab4-7fc2-4346-a2db-8db84c1b7ca2')\"\n",
              "              title=\"Convert this dataframe to an interactive table.\"\n",
              "              style=\"display:none;\">\n",
              "        \n",
              "  <svg xmlns=\"http://www.w3.org/2000/svg\" height=\"24px\"viewBox=\"0 0 24 24\"\n",
              "       width=\"24px\">\n",
              "    <path d=\"M0 0h24v24H0V0z\" fill=\"none\"/>\n",
              "    <path d=\"M18.56 5.44l.94 2.06.94-2.06 2.06-.94-2.06-.94-.94-2.06-.94 2.06-2.06.94zm-11 1L8.5 8.5l.94-2.06 2.06-.94-2.06-.94L8.5 2.5l-.94 2.06-2.06.94zm10 10l.94 2.06.94-2.06 2.06-.94-2.06-.94-.94-2.06-.94 2.06-2.06.94z\"/><path d=\"M17.41 7.96l-1.37-1.37c-.4-.4-.92-.59-1.43-.59-.52 0-1.04.2-1.43.59L10.3 9.45l-7.72 7.72c-.78.78-.78 2.05 0 2.83L4 21.41c.39.39.9.59 1.41.59.51 0 1.02-.2 1.41-.59l7.78-7.78 2.81-2.81c.8-.78.8-2.07 0-2.86zM5.41 20L4 18.59l7.72-7.72 1.47 1.35L5.41 20z\"/>\n",
              "  </svg>\n",
              "      </button>\n",
              "      \n",
              "  <style>\n",
              "    .colab-df-container {\n",
              "      display:flex;\n",
              "      flex-wrap:wrap;\n",
              "      gap: 12px;\n",
              "    }\n",
              "\n",
              "    .colab-df-convert {\n",
              "      background-color: #E8F0FE;\n",
              "      border: none;\n",
              "      border-radius: 50%;\n",
              "      cursor: pointer;\n",
              "      display: none;\n",
              "      fill: #1967D2;\n",
              "      height: 32px;\n",
              "      padding: 0 0 0 0;\n",
              "      width: 32px;\n",
              "    }\n",
              "\n",
              "    .colab-df-convert:hover {\n",
              "      background-color: #E2EBFA;\n",
              "      box-shadow: 0px 1px 2px rgba(60, 64, 67, 0.3), 0px 1px 3px 1px rgba(60, 64, 67, 0.15);\n",
              "      fill: #174EA6;\n",
              "    }\n",
              "\n",
              "    [theme=dark] .colab-df-convert {\n",
              "      background-color: #3B4455;\n",
              "      fill: #D2E3FC;\n",
              "    }\n",
              "\n",
              "    [theme=dark] .colab-df-convert:hover {\n",
              "      background-color: #434B5C;\n",
              "      box-shadow: 0px 1px 3px 1px rgba(0, 0, 0, 0.15);\n",
              "      filter: drop-shadow(0px 1px 2px rgba(0, 0, 0, 0.3));\n",
              "      fill: #FFFFFF;\n",
              "    }\n",
              "  </style>\n",
              "\n",
              "      <script>\n",
              "        const buttonEl =\n",
              "          document.querySelector('#df-5ef12ab4-7fc2-4346-a2db-8db84c1b7ca2 button.colab-df-convert');\n",
              "        buttonEl.style.display =\n",
              "          google.colab.kernel.accessAllowed ? 'block' : 'none';\n",
              "\n",
              "        async function convertToInteractive(key) {\n",
              "          const element = document.querySelector('#df-5ef12ab4-7fc2-4346-a2db-8db84c1b7ca2');\n",
              "          const dataTable =\n",
              "            await google.colab.kernel.invokeFunction('convertToInteractive',\n",
              "                                                     [key], {});\n",
              "          if (!dataTable) return;\n",
              "\n",
              "          const docLinkHtml = 'Like what you see? Visit the ' +\n",
              "            '<a target=\"_blank\" href=https://colab.research.google.com/notebooks/data_table.ipynb>data table notebook</a>'\n",
              "            + ' to learn more about interactive tables.';\n",
              "          element.innerHTML = '';\n",
              "          dataTable['output_type'] = 'display_data';\n",
              "          await google.colab.output.renderOutput(dataTable, element);\n",
              "          const docLink = document.createElement('div');\n",
              "          docLink.innerHTML = docLinkHtml;\n",
              "          element.appendChild(docLink);\n",
              "        }\n",
              "      </script>\n",
              "    </div>\n",
              "  </div>\n",
              "  "
            ]
          },
          "metadata": {},
          "execution_count": 211
        }
      ]
    },
    {
      "cell_type": "markdown",
      "source": [
        "**Check out the difference between the coefficients of lasso-regularised 'vector_id' and 'passenger_count'. There is a huge difference between them and the non-regularised (Alpha=0) coefficients**"
      ],
      "metadata": {
        "id": "SN_PZULpSCKd"
      }
    },
    {
      "cell_type": "code",
      "source": [
        "plt.plot (alpha_lasso, rmse_train, color = 'red')\n",
        "plt.plot (alpha_lasso, rmse_test, color = 'blue')\n",
        "plt.xlabel ('Alpha Values')\n",
        "plt.ylabel ('RMSE')\n",
        "plt.ylim (0.7, 0.9)\n",
        "plt.legend (['Train', 'Test'])"
      ],
      "metadata": {
        "colab": {
          "base_uri": "https://localhost:8080/",
          "height": 472
        },
        "outputId": "7e0cbbed-429d-4d43-8c92-b27c06880ec7",
        "id": "LHHePq-ABaAq"
      },
      "execution_count": 212,
      "outputs": [
        {
          "output_type": "execute_result",
          "data": {
            "text/plain": [
              "<matplotlib.legend.Legend at 0x7fd76ea9c7c0>"
            ]
          },
          "metadata": {},
          "execution_count": 212
        },
        {
          "output_type": "display_data",
          "data": {
            "text/plain": [
              "<Figure size 640x480 with 1 Axes>"
            ],
            "image/png": "[encoded data removed]"
          },
          "metadata": {}
        }
      ]
    }
  ]
}