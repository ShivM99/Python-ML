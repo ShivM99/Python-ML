{
  "nbformat": 4,
  "nbformat_minor": 0,
  "metadata": {
    "colab": {
      "provenance": [],
      "authorship_tag": "ABX9TyMKgXt5njHxYoloATTFr6Fd",
      "include_colab_link": true
    },
    "kernelspec": {
      "name": "python3",
      "display_name": "Python 3"
    },
    "language_info": {
      "name": "python"
    }
  },
  "cells": [
    {
      "cell_type": "markdown",
      "metadata": {
        "id": "view-in-github",
        "colab_type": "text"
      },
      "source": [
        "<a href=\"https://colab.research.google.com/github/ShivM99/Python-ML/blob/main/Titanic_SVC.ipynb\" target=\"_parent\"><img src=\"https://colab.research.google.com/assets/colab-badge.svg\" alt=\"Open In Colab\"/></a>"
      ]
    },
    {
      "cell_type": "code",
      "execution_count": null,
      "metadata": {
        "id": "m9PY-SnsUc3N",
        "colab": {
          "base_uri": "https://localhost:8080/"
        },
        "outputId": "d4f0742e-1af8-4ec3-9010-92421d736d5e"
      },
      "outputs": [
        {
          "output_type": "stream",
          "name": "stdout",
          "text": [
            "Features:\n",
            " [[3 'male' 22.0 ... 0 7.25 'S']\n",
            " [1 'female' 38.0 ... 0 71.2833 'C']\n",
            " [3 'female' 26.0 ... 0 7.925 'S']\n",
            " ...\n",
            " [3 'female' nan ... 2 23.45 'S']\n",
            " [1 'male' 26.0 ... 0 30.0 'C']\n",
            " [3 'male' 32.0 ... 0 7.75 'Q']]\n",
            "\n",
            "Predictor:\n",
            " [0 1 1 1 0 0 0 0 1 1 1 1 0 0 0 1 0 1 0 1 0 1 1 1 0 1 0 0 1 0 0 1 1 0 0 0 1\n",
            " 0 0 1 0 0 0 1 1 0 0 1 0 0 0 0 1 1 0 1 1 0 1 0 0 1 0 0 0 1 1 0 1 0 0 0 0 0\n",
            " 1 0 0 0 1 1 0 1 1 0 1 1 0 0 1 0 0 0 0 0 0 0 0 1 1 0 0 0 0 0 0 0 1 1 0 1 0\n",
            " 0 0 0 0 0 0 0 0 0 0 0 0 1 0 1 0 1 1 0 0 0 0 1 0 0 1 0 0 0 0 1 1 0 0 0 1 0\n",
            " 0 0 0 1 0 0 0 0 1 0 0 0 0 1 0 0 0 1 1 0 0 0 0 0 1 0 0 0 0 0 0 0 0 0 0 1 1\n",
            " 0 1 1 0 0 1 0 1 1 1 1 0 0 1 0 0 0 0 0 1 0 0 1 1 1 0 1 0 0 0 1 1 0 1 0 1 0\n",
            " 0 0 1 0 1 0 0 0 1 0 0 1 0 0 0 1 0 0 0 1 0 0 0 0 0 1 1 0 0 0 0 0 0 1 1 1 1\n",
            " 1 0 1 0 0 0 0 0 1 1 1 0 1 1 0 1 1 0 0 0 1 0 0 0 1 0 0 1 0 1 1 1 1 0 0 0 0\n",
            " 0 0 1 1 1 1 0 1 0 1 1 1 0 1 1 1 0 0 0 1 1 0 1 1 0 0 1 1 0 1 0 1 1 1 1 0 0\n",
            " 0 1 0 0 1 1 0 1 1 0 0 0 1 1 1 1 0 0 0 0 0 0 0 1 0 1 1 0 0 0 0 0 0 1 1 1 1\n",
            " 1 0 0 0 0 1 1 0 0 0 1 1 0 1 0 0 0 1 0 1 1 1 0 1 1 0 0 0 0 1 1 0 0 0 0 0 0\n",
            " 1 0 0 0 0 1 0 1 0 1 1 0 0 0 0 0 0 0 0 1 1 0 1 1 1 1 0 0 1 0 1 0 0 1 0 0 1\n",
            " 1 1 1 1 1 1 0 0 0 1 0 1 0 1 1 0 1 0 0 0 0 0 0 0 0 1 0 0 1 1 0 0 0 0 0 1 0\n",
            " 0 0 1 1 0 1 0 0 1 0 0 0 0 0 0 1 0 0 0 0 0 0 0 1 0 1 1 0 1 1 0 1 1 0 0 1 0\n",
            " 1 0 1 0 0 1 0 0 1 0 0 0 1 0 0 1 0 1 0 1 0 1 1 0 0 1 0 0 1 1 0 1 1 0 0 1 1\n",
            " 0 1 0 1 1 0 0 0 0 0 0 0 0 0 1 1 1 1 1 0 0 1 1 0 1 1 1 0 0 0 1 0 1 0 0 0 1\n",
            " 0 0 0 0 1 0 0 1 1 0 0 0 1 0 0 1 1 1 0 0 1 0 0 1 0 0 1 0 0 1 1 0 0 0 0 1 0\n",
            " 0 1 0 1 0 0 1 0 0 0 0 0 1 0 1 1 1 0 1 0 1 0 1 0 1 0 0 0 0 0 0 1 0 0 0 1 0\n",
            " 0 0 0 1 1 0 0 1 0 0 0 1 0 1 0 1 0 0 0 0 0 0 0 1 1 1 1 0 0 0 0 1 0 0 1 1 0\n",
            " 0 0 0 1 1 1 1 1 0 1 0 0 0 1 1 0 0 1 0 0 0 1 0 1 1 0 0 1 0 0 0 0 0 0 1 0 0\n",
            " 1 0 1 0 1 0 0 1 0 0 1 1 0 0 1 1 0 0 0 1 0 0 1 1 0 1 0 0 0 0 0 0 0 0 1 0 0\n",
            " 1 0 1 1 1 0 0 0 0 1 0 1 0 0 0 0 0 0 0 1 1 0 0 0 1 1 1 1 0 0 0 0 1 0 0 0 0\n",
            " 0 0 0 0 0 0 1 1 0 1 0 0 0 1 1 1 1 1 0 0 0 1 0 0 1 1 0 0 1 0 0 0 0 0 0 1 0\n",
            " 0 0 1 0 1 1 1 1 0 0 0 1 0 0 1 1 0 0 1 0 1 0 0 1 1 0 0 0 1 1 0 0 0 0 0 0 1\n",
            " 0 1 0]\n"
          ]
        }
      ],
      "source": [
        "#Importing the training dataset\n",
        "import pandas as pd\n",
        "train = pd.read_csv (r\"titanic_train.csv\")\n",
        "x = train.iloc[:, [2, 4, 5, 6, 7, 9, 11]].values\n",
        "y = train.iloc[:, 1].values\n",
        "print (\"Features:\\n\", x)\n",
        "print (\"\\nPredictor:\\n\", y)"
      ]
    },
    {
      "cell_type": "code",
      "source": [],
      "metadata": {
        "id": "sTdV3WPZyRKB"
      },
      "execution_count": null,
      "outputs": []
    },
    {
      "cell_type": "code",
      "source": [
        "#Handling the missing values\n",
        "#One hot encoding the categorical features\n",
        "print (\"\\nMissing values in different features:\\n\", train.isnull().sum())\n",
        "import numpy as np\n",
        "from sklearn.impute import SimpleImputer\n",
        "from sklearn.preprocessing import OneHotEncoder\n",
        "from sklearn.compose import ColumnTransformer\n",
        "from sklearn.pipeline import Pipeline\n",
        "#ColumnTransformer (transformers = [(\"name_of_object\", object_creation, [columns]), (\"name_of_object\", object_creation, [columns]), ...], remainder = \"passthrough\")\n",
        "ct = ColumnTransformer (transformers = [(\"si_mean\", SimpleImputer (missing_values = np.nan, strategy = \"mean\"), [2]), (\"encoder\", OneHotEncoder(), [0, 1])], remainder = \"passthrough\")\n",
        "x = ct.fit_transform (x)\n",
        "#Pipeline (steps = [(\"name_of_object\", object_creation), (\"name_of_object\", object_creation), ...])\n",
        "pipe = Pipeline (steps = [(\"si_mode\", SimpleImputer (missing_values = np.nan, strategy = \"most_frequent\")), (\"encoder\", OneHotEncoder())])\n",
        "embarked = ColumnTransformer (transformers = [(\"pipe\", pipe, [-1])], remainder = \"passthrough\")\n",
        "x = embarked.fit_transform (x)\n",
        "x_df = pd.DataFrame (x) #Converting 'x' (array) into data frame to see every column in the order they are occuring in 'x'\n",
        "print (\"\\nPreprocessed features:\\n\", x_df)"
      ],
      "metadata": {
        "colab": {
          "base_uri": "https://localhost:8080/"
        },
        "id": "DImgi4MMPHHj",
        "outputId": "5f18c5b3-26fe-4f20-ec5b-e5924b08d4cb"
      },
      "execution_count": null,
      "outputs": [
        {
          "output_type": "stream",
          "name": "stdout",
          "text": [
            "\n",
            "Missing values in different features:\n",
            " PassengerId      0\n",
            "Survived         0\n",
            "Pclass           0\n",
            "Name             0\n",
            "Sex              0\n",
            "Age            177\n",
            "SibSp            0\n",
            "Parch            0\n",
            "Ticket           0\n",
            "Fare             0\n",
            "Cabin          687\n",
            "Embarked         2\n",
            "dtype: int64\n",
            "\n",
            "Preprocessed features:\n",
            "       0    1    2          3    4    5    6    7    8  9  10       11\n",
            "0    0.0  0.0  1.0       22.0  0.0  0.0  1.0  0.0  1.0  1  0     7.25\n",
            "1    1.0  0.0  0.0       38.0  1.0  0.0  0.0  1.0  0.0  1  0  71.2833\n",
            "2    0.0  0.0  1.0       26.0  0.0  0.0  1.0  1.0  0.0  0  0    7.925\n",
            "3    0.0  0.0  1.0       35.0  1.0  0.0  0.0  1.0  0.0  1  0     53.1\n",
            "4    0.0  0.0  1.0       35.0  0.0  0.0  1.0  0.0  1.0  0  0     8.05\n",
            "..   ...  ...  ...        ...  ...  ...  ...  ...  ... .. ..      ...\n",
            "886  0.0  0.0  1.0       27.0  0.0  1.0  0.0  0.0  1.0  0  0     13.0\n",
            "887  0.0  0.0  1.0       19.0  1.0  0.0  0.0  1.0  0.0  0  0     30.0\n",
            "888  0.0  0.0  1.0  29.699118  0.0  0.0  1.0  1.0  0.0  1  2    23.45\n",
            "889  1.0  0.0  0.0       26.0  1.0  0.0  0.0  0.0  1.0  0  0     30.0\n",
            "890  0.0  1.0  0.0       32.0  0.0  0.0  1.0  0.0  1.0  0  0     7.75\n",
            "\n",
            "[891 rows x 12 columns]\n"
          ]
        }
      ]
    },
    {
      "cell_type": "code",
      "source": [
        "#Splitting the dataset into training & test datasets not done as the dataset is already splitted\n",
        "from sklearn.model_selection import train_test_split\n",
        "x_train, x_test, y_train, y_test = train_test_split (x, y, test_size = 0.2, random_state = 0)"
      ],
      "metadata": {
        "id": "ioS4YDYMPJ1U"
      },
      "execution_count": null,
      "outputs": []
    },
    {
      "cell_type": "code",
      "source": [
        "#Standardizing the dataset\n",
        "from sklearn.preprocessing import StandardScaler\n",
        "sc = StandardScaler ()\n",
        "x_train[:, [3, 11]] = sc.fit_transform (x_train[:, [3, 11]])\n",
        "x_test[:, [3, 11]] = sc.transform (x_test[:, [3, 11]])\n",
        "x_df = pd.DataFrame (x_train)\n",
        "print (\"\\nStandardised features:\\n\", x_df)"
      ],
      "metadata": {
        "colab": {
          "base_uri": "https://localhost:8080/"
        },
        "id": "_oFplblSPMB8",
        "outputId": "cb83467f-0be3-4837-a6b3-7b06b1a30ae6"
      },
      "execution_count": null,
      "outputs": [
        {
          "output_type": "stream",
          "name": "stdout",
          "text": [
            "\n",
            "Standardised features:\n",
            "       0    1    2         3    4    5    6    7    8  9  10        11\n",
            "0    1.0  0.0  0.0 -0.002824  0.0  0.0  1.0  1.0  0.0  0  2 -0.331679\n",
            "1    0.0  0.0  1.0  0.096629  0.0  1.0  0.0  0.0  1.0  0  0 -0.426405\n",
            "2    1.0  0.0  0.0  0.096629  0.0  1.0  0.0  0.0  1.0  1  1   0.10262\n",
            "3    1.0  0.0  0.0 -0.744332  0.0  0.0  1.0  0.0  1.0  0  0 -0.555896\n",
            "4    0.0  0.0  1.0 -0.667881  0.0  0.0  1.0  0.0  1.0  0  0 -0.491276\n",
            "..   ...  ...  ...       ...  ...  ...  ...  ...  ... .. ..       ...\n",
            "707  1.0  0.0  0.0  0.708237  1.0  0.0  0.0  1.0  0.0  1  1  1.023857\n",
            "708  0.0  0.0  1.0 -0.820782  0.0  0.0  1.0  1.0  0.0  1  0 -0.479216\n",
            "709  0.0  1.0  0.0 -0.002824  0.0  0.0  1.0  0.0  1.0  0  0 -0.481629\n",
            "710  0.0  0.0  1.0  0.478884  0.0  0.0  1.0  1.0  0.0  1  0 -0.288681\n",
            "711  0.0  0.0  1.0  2.313708  0.0  1.0  0.0  0.0  1.0  1  1  0.142456\n",
            "\n",
            "[712 rows x 12 columns]\n"
          ]
        }
      ]
    },
    {
      "cell_type": "code",
      "source": [
        "#Building the SVC model\n",
        "from sklearn.svm import SVC\n",
        "svc = SVC (kernel = \"rbf\", random_state = 0)\n",
        "svc.fit (x_train, y_train)\n",
        "y_pred = svc.predict (x_test)"
      ],
      "metadata": {
        "id": "ctxeTIRwPONk"
      },
      "execution_count": null,
      "outputs": []
    },
    {
      "cell_type": "code",
      "source": [
        "#Checking the accuracy of SVC model\n",
        "from sklearn.metrics import accuracy_score\n",
        "print (\"\\nAccuracy of the SVC model:\", accuracy_score (y_test, y_pred)*100)"
      ],
      "metadata": {
        "colab": {
          "base_uri": "https://localhost:8080/"
        },
        "id": "5Tvyl2LNPQbM",
        "outputId": "8435130d-b5e2-4692-dda3-659532c6906b"
      },
      "execution_count": null,
      "outputs": [
        {
          "output_type": "stream",
          "name": "stdout",
          "text": [
            "\n",
            "Accuracy of the SVC model: 80.44692737430168\n"
          ]
        }
      ]
    },
    {
      "cell_type": "code",
      "source": [
        "#Cross-validation\n",
        "from sklearn.model_selection import cross_val_score\n",
        "accuracies = cross_val_score (estimator = svc, X = x_train, y = y_train, cv = 10)\n",
        "print (\"\\nMean accuracy:\", accuracies.mean()*100)"
      ],
      "metadata": {
        "colab": {
          "base_uri": "https://localhost:8080/"
        },
        "id": "AwxLP_rdPSZs",
        "outputId": "3b87e273-4191-419f-ef27-fe145b5953a2"
      },
      "execution_count": null,
      "outputs": [
        {
          "output_type": "stream",
          "name": "stdout",
          "text": [
            "\n",
            "Mean accuracy: 83.4370109546166\n"
          ]
        }
      ]
    },
    {
      "cell_type": "code",
      "source": [
        "#Grid search\n",
        "from sklearn.model_selection import GridSearchCV\n",
        "h_parameters = [{\"C\": [0.0, 0.25, 0.5, 0.75, 1.0], \"kernel\": [\"linear\"]},\n",
        "                {\"C\": [0.0, 0.25, 0.5, 0.75, 1.0], \"kernel\": [\"rbf\", \"poly\", \"sigmoid\"], \"gamma\": [0.1, 0.2, 0.3, 0.4, 0.5, 0.6, 0.7, 0.8, 0.9]}]\n",
        "grid = GridSearchCV (estimator = svc, param_grid = h_parameters, scoring = \"accuracy\", n_jobs = -1, cv = 10)\n",
        "grid.fit (x_train, y_train)\n",
        "best_hparameters = grid.best_params_\n",
        "best_accuracy = grid.best_score_\n",
        "print (\"\\nBest hyper-parameters:\\n\", best_hparameters)\n",
        "print (\"\\nBest accuracy:\\n\", best_accuracy*100)"
      ],
      "metadata": {
        "id": "d1tftofUPVBU"
      },
      "execution_count": null,
      "outputs": []
    }
  ]
}
