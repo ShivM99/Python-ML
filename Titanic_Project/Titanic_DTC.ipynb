{
  "nbformat": 4,
  "nbformat_minor": 0,
  "metadata": {
    "colab": {
      "provenance": [],
      "authorship_tag": "ABX9TyOFRHY70zwgrtldsyDrXe/C",
      "include_colab_link": true
    },
    "kernelspec": {
      "name": "python3",
      "display_name": "Python 3"
    },
    "language_info": {
      "name": "python"
    }
  },
  "cells": [
    {
      "cell_type": "markdown",
      "metadata": {
        "id": "view-in-github",
        "colab_type": "text"
      },
      "source": [
        "<a href=\"https://colab.research.google.com/github/ShivM99/Python/blob/main/Titanic_DTC.ipynb\" target=\"_parent\"><img src=\"https://colab.research.google.com/assets/colab-badge.svg\" alt=\"Open In Colab\"/></a>"
      ]
    },
    {
      "cell_type": "code",
      "execution_count": 4,
      "metadata": {
        "id": "cMEkY-lKQcj4"
      },
      "outputs": [],
      "source": [
        "#Importing the training dataset\n",
        "import pandas as pd\n",
        "train = pd.read_csv (r\"titanic_train.csv\")"
      ]
    },
    {
      "cell_type": "code",
      "source": [
        "#Seggregating the features and the target for 'titanic_train'\n",
        "x = train.iloc[:, [2, 4, 5, 6, 7, 9, 11]].values\n",
        "x_df = pd.DataFrame (x, columns = ['Pclass', 'Sex', 'Age', 'SibSp', 'Parch', 'Fare', 'Embarked'])\n",
        "print (\"\\nFeatures:\\n\", x_df)"
      ],
      "metadata": {
        "colab": {
          "base_uri": "https://localhost:8080/"
        },
        "id": "S2xkpjUZGAhv",
        "outputId": "6b4696af-65a1-4bfe-9309-486b98085b3f"
      },
      "execution_count": 5,
      "outputs": [
        {
          "output_type": "stream",
          "name": "stdout",
          "text": [
            "\n",
            "Features:\n",
            "     Pclass     Sex   Age SibSp Parch     Fare Embarked\n",
            "0        3    male  22.0     1     0     7.25        S\n",
            "1        1  female  38.0     1     0  71.2833        C\n",
            "2        3  female  26.0     0     0    7.925        S\n",
            "3        1  female  35.0     1     0     53.1        S\n",
            "4        3    male  35.0     0     0     8.05        S\n",
            "..     ...     ...   ...   ...   ...      ...      ...\n",
            "886      2    male  27.0     0     0     13.0        S\n",
            "887      1  female  19.0     0     0     30.0        S\n",
            "888      3  female   NaN     1     2    23.45        S\n",
            "889      1    male  26.0     0     0     30.0        C\n",
            "890      3    male  32.0     0     0     7.75        Q\n",
            "\n",
            "[891 rows x 7 columns]\n"
          ]
        }
      ]
    },
    {
      "cell_type": "code",
      "source": [
        "y = train.iloc[:, 1].values\n",
        "y_df = pd.DataFrame (y, columns = ['Survived'])\n",
        "print (\"\\nTarget:\\n\", y_df)"
      ],
      "metadata": {
        "colab": {
          "base_uri": "https://localhost:8080/"
        },
        "id": "4e-u3U2nGAX3",
        "outputId": "6f3004af-f8ba-470d-f2a0-8c5ef8042bd7"
      },
      "execution_count": 6,
      "outputs": [
        {
          "output_type": "stream",
          "name": "stdout",
          "text": [
            "\n",
            "Target:\n",
            "      Survived\n",
            "0           0\n",
            "1           1\n",
            "2           1\n",
            "3           1\n",
            "4           0\n",
            "..        ...\n",
            "886         0\n",
            "887         1\n",
            "888         0\n",
            "889         1\n",
            "890         0\n",
            "\n",
            "[891 rows x 1 columns]\n"
          ]
        }
      ]
    },
    {
      "cell_type": "code",
      "source": [
        "#Handling the missing values\n",
        "#One hot encoding the categorical features\n",
        "print (\"\\nMissing values in different features:\\n\", x_df.isnull().sum())\n",
        "import numpy as np\n",
        "from sklearn.impute import SimpleImputer\n",
        "from sklearn.preprocessing import OneHotEncoder\n",
        "from sklearn.compose import ColumnTransformer\n",
        "from sklearn.pipeline import Pipeline"
      ],
      "metadata": {
        "colab": {
          "base_uri": "https://localhost:8080/"
        },
        "id": "QkY3qsRWj6c9",
        "outputId": "fd57e8b1-32d4-4c7c-973f-0b7a478d5034"
      },
      "execution_count": 7,
      "outputs": [
        {
          "output_type": "stream",
          "name": "stdout",
          "text": [
            "\n",
            "Missing values in different features:\n",
            " Pclass        0\n",
            "Sex           0\n",
            "Age         177\n",
            "SibSp         0\n",
            "Parch         0\n",
            "Fare          0\n",
            "Embarked      2\n",
            "dtype: int64\n"
          ]
        }
      ]
    },
    {
      "cell_type": "code",
      "source": [
        "#ColumnTransformer (transformers = [(\"name_of_object\", object_creation, [columns]), (\"name_of_object\", object_creation, [columns]), ...], remainder = \"passthrough\")\n",
        "ct = ColumnTransformer (transformers = [(\"si_mode\", SimpleImputer (missing_values = np.nan, strategy = \"most_frequent\"), [2]), (\"si_mean\", SimpleImputer (missing_values = np.nan, strategy = \"mean\"), [-2]),  (\"encoder\", OneHotEncoder(), [0, 1])], remainder = \"passthrough\")\n",
        "x = ct.fit_transform (x)"
      ],
      "metadata": {
        "id": "TaNkJ5lTGJuA"
      },
      "execution_count": 8,
      "outputs": []
    },
    {
      "cell_type": "code",
      "source": [
        "#Pipeline (steps = [(\"name_of_object\", object_creation), (\"name_of_object\", object_creation), ...])\n",
        "pipe = Pipeline (steps = [(\"si_mode\", SimpleImputer (missing_values = np.nan, strategy = \"most_frequent\")), (\"encoder\", OneHotEncoder())])\n",
        "embarked = ColumnTransformer (transformers = [(\"pipe\", pipe, [-1])], remainder = \"passthrough\")\n",
        "x = embarked.fit_transform (x)\n",
        "x_df_new = pd.DataFrame (x)\n",
        "print (\"\\nPreprocessed features:\\n\", x_df_new)"
      ],
      "metadata": {
        "colab": {
          "base_uri": "https://localhost:8080/"
        },
        "id": "KC_iUEhhGJkb",
        "outputId": "861f8dca-5f2d-4bee-b951-822f124410ef"
      },
      "execution_count": 9,
      "outputs": [
        {
          "output_type": "stream",
          "name": "stdout",
          "text": [
            "\n",
            "Preprocessed features:\n",
            "       0    1    2     3        4    5    6    7    8    9  10 11\n",
            "0    0.0  0.0  1.0  22.0     7.25  0.0  0.0  1.0  0.0  1.0  1  0\n",
            "1    1.0  0.0  0.0  38.0  71.2833  1.0  0.0  0.0  1.0  0.0  1  0\n",
            "2    0.0  0.0  1.0  26.0    7.925  0.0  0.0  1.0  1.0  0.0  0  0\n",
            "3    0.0  0.0  1.0  35.0     53.1  1.0  0.0  0.0  1.0  0.0  1  0\n",
            "4    0.0  0.0  1.0  35.0     8.05  0.0  0.0  1.0  0.0  1.0  0  0\n",
            "..   ...  ...  ...   ...      ...  ...  ...  ...  ...  ... .. ..\n",
            "886  0.0  0.0  1.0  27.0     13.0  0.0  1.0  0.0  0.0  1.0  0  0\n",
            "887  0.0  0.0  1.0  19.0     30.0  1.0  0.0  0.0  1.0  0.0  0  0\n",
            "888  0.0  0.0  1.0  24.0    23.45  0.0  0.0  1.0  1.0  0.0  1  2\n",
            "889  1.0  0.0  0.0  26.0     30.0  1.0  0.0  0.0  0.0  1.0  0  0\n",
            "890  0.0  1.0  0.0  32.0     7.75  0.0  0.0  1.0  0.0  1.0  0  0\n",
            "\n",
            "[891 rows x 12 columns]\n"
          ]
        }
      ]
    },
    {
      "cell_type": "code",
      "source": [
        "#Splitting the dataset into training & test datasets not done as the dataset is already splitted\n",
        "from sklearn.model_selection import train_test_split\n",
        "x_train, x_test, y_train, y_test = train_test_split (x, y, test_size = 0.2, random_state = 0)"
      ],
      "metadata": {
        "id": "ZdV1Tpxvj9S9"
      },
      "execution_count": 10,
      "outputs": []
    },
    {
      "cell_type": "code",
      "source": [
        "#Building the DTC model\n",
        "from sklearn.tree import DecisionTreeClassifier as DTC\n",
        "dtc = DTC (criterion = \"entropy\", random_state = 0)\n",
        "dtc.fit (x_train, y_train)\n",
        "y_pred = dtc.predict (x_test)"
      ],
      "metadata": {
        "id": "-iChYYE1kB9g"
      },
      "execution_count": 11,
      "outputs": []
    },
    {
      "cell_type": "code",
      "source": [
        "#Checking the accuracy of DTC model\n",
        "from sklearn.metrics import accuracy_score\n",
        "print (\"\\nAccuracy of the DTC model:\", accuracy_score (y_test, y_pred)*100)"
      ],
      "metadata": {
        "colab": {
          "base_uri": "https://localhost:8080/"
        },
        "id": "ghRygLQPkEAX",
        "outputId": "aa9760f4-a78e-4fb4-a384-c38247147cd6"
      },
      "execution_count": 12,
      "outputs": [
        {
          "output_type": "stream",
          "name": "stdout",
          "text": [
            "\n",
            "Accuracy of the DTC model: 78.2122905027933\n"
          ]
        }
      ]
    },
    {
      "cell_type": "code",
      "source": [
        "#Cross-validation\n",
        "from sklearn.model_selection import cross_val_score\n",
        "accuracies = cross_val_score (estimator = dtc, X = x_train, y = y_train, cv = 10)\n",
        "print (\"\\nMean accuracy:\", accuracies.mean()*100)"
      ],
      "metadata": {
        "colab": {
          "base_uri": "https://localhost:8080/"
        },
        "id": "XeZyXJ-bkGCw",
        "outputId": "8357f2d4-de1c-4b05-f8bc-9f32bc0063b9"
      },
      "execution_count": 13,
      "outputs": [
        {
          "output_type": "stream",
          "name": "stdout",
          "text": [
            "\n",
            "Mean accuracy: 76.40062597809077\n"
          ]
        }
      ]
    },
    {
      "cell_type": "code",
      "source": [
        "#Grid search\n",
        "from sklearn.model_selection import GridSearchCV\n",
        "h_parameters = [{\"criterion\": [\"gini\", \"entropy\"], \"splitter\": [\"best\", \"random\"], \"max_depth\": [2, 4, 6, 8, 10, 12, 14, 16, 18, 20], \"min_samples_split\": [2, 4, 6, 8, 10, 12, 14, 16, 18, 20], \"min_samples_leaf\": [2, 4, 6, 8, 10, 12, 14, 16, 18, 20], \"max_features\": [\"auto\", \"sqrt\", \"log2\", \"None\"], \"max_leaf_nodes\": [5, 10, 15, 20, 25, 30, 35, 40, 45, 50]}]\n",
        "grid = GridSearchCV (estimator = dtc, param_grid = h_parameters, scoring = \"accuracy\", n_jobs = -1, cv = 10)\n",
        "grid.fit (x_train, y_train)\n",
        "best_hparameters = grid.best_params_\n",
        "best_accuracy = grid.best_score_\n",
        "print (\"\\nBest hyper-parameters:\\n\", best_hparameters)\n",
        "print (\"\\nBest accuracy:\", best_accuracy*100)"
      ],
      "metadata": {
        "colab": {
          "base_uri": "https://localhost:8080/"
        },
        "id": "JxjEEVG8kIow",
        "outputId": "c651bf54-7258-4c54-aed2-e51ccb43002d"
      },
      "execution_count": 14,
      "outputs": [
        {
          "output_type": "stream",
          "name": "stderr",
          "text": [
            "/usr/local/lib/python3.9/dist-packages/sklearn/model_selection/_validation.py:378: FitFailedWarning: \n",
            "400000 fits failed out of a total of 1600000.\n",
            "The score on these train-test partitions for these parameters will be set to nan.\n",
            "If these failures are not expected, you can try to debug them by setting error_score='raise'.\n",
            "\n",
            "Below are more details about the failures:\n",
            "--------------------------------------------------------------------------------\n",
            "199702 fits failed with the following error:\n",
            "Traceback (most recent call last):\n",
            "  File \"/usr/local/lib/python3.9/dist-packages/sklearn/model_selection/_validation.py\", line 686, in _fit_and_score\n",
            "    estimator.fit(X_train, y_train, **fit_params)\n",
            "  File \"/usr/local/lib/python3.9/dist-packages/sklearn/tree/_classes.py\", line 889, in fit\n",
            "    super().fit(\n",
            "  File \"/usr/local/lib/python3.9/dist-packages/sklearn/tree/_classes.py\", line 177, in fit\n",
            "    self._validate_params()\n",
            "  File \"/usr/local/lib/python3.9/dist-packages/sklearn/base.py\", line 600, in _validate_params\n",
            "    validate_parameter_constraints(\n",
            "  File \"/usr/local/lib/python3.9/dist-packages/sklearn/utils/_param_validation.py\", line 97, in validate_parameter_constraints\n",
            "    raise InvalidParameterError(\n",
            "sklearn.utils._param_validation.InvalidParameterError: The 'max_features' parameter of DecisionTreeClassifier must be an int in the range [1, inf), a float in the range (0.0, 1.0], a str among {'log2', 'auto' (deprecated), 'sqrt'} or None. Got 'None' instead.\n",
            "\n",
            "--------------------------------------------------------------------------------\n",
            "200298 fits failed with the following error:\n",
            "Traceback (most recent call last):\n",
            "  File \"/usr/local/lib/python3.9/dist-packages/sklearn/model_selection/_validation.py\", line 686, in _fit_and_score\n",
            "    estimator.fit(X_train, y_train, **fit_params)\n",
            "  File \"/usr/local/lib/python3.9/dist-packages/sklearn/tree/_classes.py\", line 889, in fit\n",
            "    super().fit(\n",
            "  File \"/usr/local/lib/python3.9/dist-packages/sklearn/tree/_classes.py\", line 177, in fit\n",
            "    self._validate_params()\n",
            "  File \"/usr/local/lib/python3.9/dist-packages/sklearn/base.py\", line 600, in _validate_params\n",
            "    validate_parameter_constraints(\n",
            "  File \"/usr/local/lib/python3.9/dist-packages/sklearn/utils/_param_validation.py\", line 97, in validate_parameter_constraints\n",
            "    raise InvalidParameterError(\n",
            "sklearn.utils._param_validation.InvalidParameterError: The 'max_features' parameter of DecisionTreeClassifier must be an int in the range [1, inf), a float in the range (0.0, 1.0], a str among {'sqrt', 'log2', 'auto' (deprecated)} or None. Got 'None' instead.\n",
            "\n",
            "  warnings.warn(some_fits_failed_message, FitFailedWarning)\n",
            "/usr/local/lib/python3.9/dist-packages/sklearn/model_selection/_search.py:952: UserWarning: One or more of the test scores are non-finite: [0.78661972 0.65733568 0.78661972 ...        nan        nan        nan]\n",
            "  warnings.warn(\n",
            "/usr/local/lib/python3.9/dist-packages/sklearn/tree/_classes.py:269: FutureWarning: `max_features='auto'` has been deprecated in 1.1 and will be removed in 1.3. To keep the past behaviour, explicitly set `max_features='sqrt'`.\n",
            "  warnings.warn(\n"
          ]
        },
        {
          "output_type": "stream",
          "name": "stdout",
          "text": [
            "\n",
            "Best hyper-parameters:\n",
            " {'criterion': 'entropy', 'max_depth': 8, 'max_features': 'auto', 'max_leaf_nodes': 45, 'min_samples_leaf': 2, 'min_samples_split': 6, 'splitter': 'random'}\n",
            "\n",
            "Best accuracy: 81.47104851330204\n"
          ]
        }
      ]
    },
    {
      "cell_type": "code",
      "source": [
        "#Importing the testing dataset\n",
        "test = pd.read_csv (r\"titanic_test.csv\")\n",
        "x_new = test.iloc[:, [1, 3, 4, 5, 6, 8, 10]].values\n",
        "x_df = pd.DataFrame (x_new, columns = ['Pclass', 'Sex', 'Age', 'SibSp', 'Parch', 'Fare', 'Embarked'])\n",
        "print (\"\\nFeatures:\\n\", x_df)"
      ],
      "metadata": {
        "colab": {
          "base_uri": "https://localhost:8080/"
        },
        "id": "OZzQ2xFbyszb",
        "outputId": "3c5296bb-7142-4ca8-c957-93fca9d4ba4d"
      },
      "execution_count": 15,
      "outputs": [
        {
          "output_type": "stream",
          "name": "stdout",
          "text": [
            "\n",
            "Features:\n",
            "     Pclass     Sex   Age SibSp Parch     Fare Embarked\n",
            "0        3    male  34.5     0     0   7.8292        Q\n",
            "1        3  female  47.0     1     0      7.0        S\n",
            "2        2    male  62.0     0     0   9.6875        Q\n",
            "3        3    male  27.0     0     0   8.6625        S\n",
            "4        3  female  22.0     1     1  12.2875        S\n",
            "..     ...     ...   ...   ...   ...      ...      ...\n",
            "413      3    male   NaN     0     0     8.05        S\n",
            "414      1  female  39.0     0     0    108.9        C\n",
            "415      3    male  38.5     0     0     7.25        S\n",
            "416      3    male   NaN     0     0     8.05        S\n",
            "417      3    male   NaN     1     1  22.3583        C\n",
            "\n",
            "[418 rows x 7 columns]\n"
          ]
        }
      ]
    },
    {
      "cell_type": "code",
      "source": [
        "print (\"\\nMissing values in different features:\\n\", x_df.isnull().sum())"
      ],
      "metadata": {
        "colab": {
          "base_uri": "https://localhost:8080/"
        },
        "id": "S7dhB07t53ba",
        "outputId": "05608a64-e003-41b8-8006-487fa3985823"
      },
      "execution_count": 16,
      "outputs": [
        {
          "output_type": "stream",
          "name": "stdout",
          "text": [
            "\n",
            "Missing values in different features:\n",
            " Pclass       0\n",
            "Sex          0\n",
            "Age         86\n",
            "SibSp        0\n",
            "Parch        0\n",
            "Fare         1\n",
            "Embarked     0\n",
            "dtype: int64\n"
          ]
        }
      ]
    },
    {
      "cell_type": "code",
      "source": [
        "#Handling the missing values\n",
        "#One hot encoding the categorical features\n",
        "x_new = ct.transform (x_new)"
      ],
      "metadata": {
        "id": "IDSSm5CFzrKX"
      },
      "execution_count": 17,
      "outputs": []
    },
    {
      "cell_type": "code",
      "source": [
        "x_new = embarked.transform (x_new)\n",
        "x_df_new = pd.DataFrame (x_new)\n",
        "print (\"\\nPreprocessed features:\\n\", x_df_new)"
      ],
      "metadata": {
        "colab": {
          "base_uri": "https://localhost:8080/"
        },
        "id": "aBHMcPQp7dHW",
        "outputId": "52ab21b2-eb0e-45cc-aab2-f544e2865a32"
      },
      "execution_count": 18,
      "outputs": [
        {
          "output_type": "stream",
          "name": "stdout",
          "text": [
            "\n",
            "Preprocessed features:\n",
            "       0    1    2     3        4    5    6    7    8    9  10 11\n",
            "0    0.0  1.0  0.0  34.5   7.8292  0.0  0.0  1.0  0.0  1.0  0  0\n",
            "1    0.0  0.0  1.0  47.0      7.0  0.0  0.0  1.0  1.0  0.0  1  0\n",
            "2    0.0  1.0  0.0  62.0   9.6875  0.0  1.0  0.0  0.0  1.0  0  0\n",
            "3    0.0  0.0  1.0  27.0   8.6625  0.0  0.0  1.0  0.0  1.0  0  0\n",
            "4    0.0  0.0  1.0  22.0  12.2875  0.0  0.0  1.0  1.0  0.0  1  1\n",
            "..   ...  ...  ...   ...      ...  ...  ...  ...  ...  ... .. ..\n",
            "413  0.0  0.0  1.0  24.0     8.05  0.0  0.0  1.0  0.0  1.0  0  0\n",
            "414  1.0  0.0  0.0  39.0    108.9  1.0  0.0  0.0  1.0  0.0  0  0\n",
            "415  0.0  0.0  1.0  38.5     7.25  0.0  0.0  1.0  0.0  1.0  0  0\n",
            "416  0.0  0.0  1.0  24.0     8.05  0.0  0.0  1.0  0.0  1.0  0  0\n",
            "417  1.0  0.0  0.0  24.0  22.3583  0.0  0.0  1.0  0.0  1.0  1  1\n",
            "\n",
            "[418 rows x 12 columns]\n"
          ]
        }
      ]
    },
    {
      "cell_type": "code",
      "source": [
        "lr = DTC (criterion = 'entropy', max_depth = 8, max_features = 'auto', max_leaf_nodes = 45, min_samples_leaf = 2, min_samples_split = 6, splitter = 'random', random_state = 0)\n",
        "lr.fit (x, y)\n",
        "y_pred = lr.predict (x_new)\n",
        "y_pred"
      ],
      "metadata": {
        "colab": {
          "base_uri": "https://localhost:8080/"
        },
        "id": "iKw8ZxMi_2Nz",
        "outputId": "8d891c23-530e-468d-ab97-2b9065d8f193"
      },
      "execution_count": 19,
      "outputs": [
        {
          "output_type": "stream",
          "name": "stderr",
          "text": [
            "/usr/local/lib/python3.9/dist-packages/sklearn/tree/_classes.py:269: FutureWarning: `max_features='auto'` has been deprecated in 1.1 and will be removed in 1.3. To keep the past behaviour, explicitly set `max_features='sqrt'`.\n",
            "  warnings.warn(\n"
          ]
        },
        {
          "output_type": "execute_result",
          "data": {
            "text/plain": [
              "array([0, 1, 0, 0, 0, 0, 1, 0, 0, 0, 0, 0, 1, 0, 1, 1, 0, 0, 0, 0, 0, 1,\n",
              "       1, 1, 1, 0, 1, 0, 0, 0, 0, 0, 0, 0, 0, 0, 0, 0, 0, 0, 0, 0, 0, 1,\n",
              "       1, 0, 0, 0, 1, 0, 0, 0, 1, 1, 0, 0, 0, 0, 0, 1, 0, 0, 0, 1, 1, 1,\n",
              "       1, 0, 0, 1, 1, 0, 0, 0, 1, 0, 0, 1, 0, 1, 0, 0, 0, 0, 0, 0, 1, 0,\n",
              "       1, 0, 0, 0, 1, 0, 0, 0, 1, 0, 1, 0, 1, 0, 0, 0, 0, 0, 0, 0, 0, 0,\n",
              "       0, 1, 1, 1, 1, 0, 0, 1, 0, 1, 1, 0, 1, 0, 0, 1, 0, 1, 0, 0, 0, 0,\n",
              "       0, 0, 0, 0, 0, 0, 0, 0, 0, 1, 0, 0, 0, 0, 0, 0, 0, 0, 1, 0, 0, 0,\n",
              "       0, 0, 1, 1, 0, 0, 1, 0, 1, 0, 0, 0, 0, 0, 1, 0, 0, 0, 0, 0, 0, 1,\n",
              "       1, 0, 1, 1, 0, 0, 1, 0, 1, 0, 1, 0, 0, 0, 0, 0, 1, 0, 0, 0, 1, 1,\n",
              "       0, 0, 1, 0, 0, 1, 0, 0, 1, 0, 1, 0, 0, 0, 0, 1, 0, 0, 1, 0, 1, 0,\n",
              "       1, 0, 1, 0, 1, 1, 0, 1, 0, 0, 0, 1, 0, 0, 0, 0, 0, 0, 1, 1, 1, 1,\n",
              "       0, 0, 0, 0, 1, 0, 1, 0, 1, 0, 0, 0, 0, 0, 0, 0, 1, 0, 0, 0, 1, 1,\n",
              "       0, 0, 0, 0, 0, 0, 0, 0, 1, 1, 0, 1, 0, 0, 0, 0, 0, 1, 1, 0, 1, 0,\n",
              "       0, 0, 0, 0, 0, 1, 0, 0, 0, 0, 1, 0, 0, 0, 0, 0, 0, 0, 1, 1, 0, 1,\n",
              "       0, 0, 0, 0, 0, 1, 1, 1, 0, 0, 0, 0, 0, 0, 0, 0, 1, 0, 1, 0, 0, 0,\n",
              "       1, 0, 0, 0, 0, 0, 0, 0, 0, 0, 0, 0, 0, 1, 0, 1, 0, 0, 0, 1, 1, 0,\n",
              "       0, 0, 0, 0, 1, 0, 0, 0, 0, 1, 1, 0, 1, 0, 0, 0, 1, 0, 0, 1, 0, 0,\n",
              "       1, 1, 0, 0, 0, 0, 0, 0, 0, 0, 0, 1, 0, 0, 0, 0, 0, 1, 0, 0, 0, 1,\n",
              "       0, 1, 0, 0, 1, 0, 1, 0, 0, 0, 0, 0, 1, 1, 1, 1, 1, 0, 1, 0, 0, 0])"
            ]
          },
          "metadata": {},
          "execution_count": 19
        }
      ]
    }
  ]
}
