{
  "nbformat": 4,
  "nbformat_minor": 0,
  "metadata": {
    "colab": {
      "provenance": [],
      "authorship_tag": "ABX9TyPAQPwOofkT+82+TVIGAQx5",
      "include_colab_link": true
    },
    "kernelspec": {
      "name": "python3",
      "display_name": "Python 3"
    },
    "language_info": {
      "name": "python"
    }
  },
  "cells": [
    {
      "cell_type": "markdown",
      "metadata": {
        "id": "view-in-github",
        "colab_type": "text"
      },
      "source": [
        "<a href=\"https://colab.research.google.com/github/ShivM99/Python-ML/blob/main/Fraud_Detection.ipynb\" target=\"_parent\"><img src=\"https://colab.research.google.com/assets/colab-badge.svg\" alt=\"Open In Colab\"/></a>"
      ]
    },
    {
      "cell_type": "code",
      "source": [
        "import zipfile\n",
        "!unzip /content/onlinefraud.zip"
      ],
      "metadata": {
        "colab": {
          "base_uri": "https://localhost:8080/"
        },
        "id": "NG89IQQQWw-D",
        "outputId": "31a7b791-daf3-492f-8f04-fbebc6009a72"
      },
      "execution_count": null,
      "outputs": [
        {
          "output_type": "stream",
          "name": "stdout",
          "text": [
            "Archive:  /content/onlinefraud.zip\n",
            "replace onlinefraud.csv? [y]es, [n]o, [A]ll, [N]one, [r]ename: y\n",
            "  inflating: onlinefraud.csv         \n"
          ]
        }
      ]
    },
    {
      "cell_type": "code",
      "source": [
        "import glob\n",
        "file_path = glob.glob ('/content/onlinefraud')"
      ],
      "metadata": {
        "id": "R9XcwwvwXBWK"
      },
      "execution_count": null,
      "outputs": []
    },
    {
      "cell_type": "code",
      "execution_count": null,
      "metadata": {
        "id": "Lt7hycOQCMRD"
      },
      "outputs": [],
      "source": [
        "import numpy as np\n",
        "import pandas as pd\n",
        "import matplotlib.pyplot as plt\n",
        "import seaborn as sns\n",
        "from sklearn.model_selection import train_test_split\n",
        "from imblearn.over_sampling import SMOTE\n",
        "from sklearn.preprocessing import StandardScaler\n",
        "from sklearn.ensemble import IsolationForest\n",
        "import tensorflow as tf\n",
        "from keras.models import Sequential, load_model\n",
        "from keras.layers import Dense\n",
        "from sklearn.metrics import f1_score, confusion_matrix, accuracy_score"
      ]
    },
    {
      "cell_type": "code",
      "source": [
        "# Importing the dataset as dataframe\n",
        "data = pd.read_csv (\"onlinefraud.csv\") # Read the CSV file into a df\n",
        "print (data.shape) # Give number of rows & columns in the df\n",
        "print ('*' * 100)\n",
        "print (data.columns) # Give the names of the columns\n",
        "print ('*' * 100)\n",
        "print (data.dtypes.value_counts()) # Give the number of columns of each datatype\n",
        "print ('*' * 100)\n",
        "print (data.columns [data.dtypes != 'object']) # Gives an array of columns of numerical datatype\n",
        "print ('*' * 100)\n",
        "print (data.columns [data.dtypes == 'object']) # Give an array of columns of categorical datatype"
      ],
      "metadata": {
        "colab": {
          "base_uri": "https://localhost:8080/"
        },
        "id": "sDsqscX6GwCh",
        "outputId": "13da4a30-3cc8-4c92-d65d-731af9cca644"
      },
      "execution_count": null,
      "outputs": [
        {
          "output_type": "stream",
          "name": "stdout",
          "text": [
            "(6362620, 11)\n",
            "****************************************************************************************************\n",
            "Index(['step', 'type', 'amount', 'nameOrig', 'oldbalanceOrg', 'newbalanceOrig',\n",
            "       'nameDest', 'oldbalanceDest', 'newbalanceDest', 'isFraud',\n",
            "       'isFlaggedFraud'],\n",
            "      dtype='object')\n",
            "****************************************************************************************************\n",
            "float64    5\n",
            "int64      3\n",
            "object     3\n",
            "dtype: int64\n",
            "****************************************************************************************************\n",
            "Index(['step', 'amount', 'oldbalanceOrg', 'newbalanceOrig', 'oldbalanceDest',\n",
            "       'newbalanceDest', 'isFraud', 'isFlaggedFraud'],\n",
            "      dtype='object')\n",
            "****************************************************************************************************\n",
            "Index(['type', 'nameOrig', 'nameDest'], dtype='object')\n"
          ]
        }
      ]
    },
    {
      "cell_type": "code",
      "source": [
        "data['type'] = data['type'].astype ('category')\n",
        "data['isFraud'] = data['isFraud'].astype ('category')\n",
        "data['isFlaggedFraud'] = data['isFlaggedFraud'].astype ('category')"
      ],
      "metadata": {
        "id": "cRRwSgQ6I-V1"
      },
      "execution_count": null,
      "outputs": []
    },
    {
      "cell_type": "code",
      "source": [
        "print (data.info())"
      ],
      "metadata": {
        "colab": {
          "base_uri": "https://localhost:8080/"
        },
        "id": "7eiWNC3Tv2oI",
        "outputId": "eb877187-c5a2-4ba0-b53e-b7d52753aa73"
      },
      "execution_count": null,
      "outputs": [
        {
          "output_type": "stream",
          "name": "stdout",
          "text": [
            "<class 'pandas.core.frame.DataFrame'>\n",
            "RangeIndex: 6362620 entries, 0 to 6362619\n",
            "Data columns (total 11 columns):\n",
            " #   Column          Dtype   \n",
            "---  ------          -----   \n",
            " 0   step            int64   \n",
            " 1   type            category\n",
            " 2   amount          float64 \n",
            " 3   nameOrig        object  \n",
            " 4   oldbalanceOrg   float64 \n",
            " 5   newbalanceOrig  float64 \n",
            " 6   nameDest        object  \n",
            " 7   oldbalanceDest  float64 \n",
            " 8   newbalanceDest  float64 \n",
            " 9   isFraud         category\n",
            " 10  isFlaggedFraud  category\n",
            "dtypes: category(3), float64(5), int64(1), object(2)\n",
            "memory usage: 406.5+ MB\n",
            "None\n"
          ]
        }
      ]
    },
    {
      "cell_type": "code",
      "source": [
        "print (data.describe().transpose()) # Give descriptive statistics of the df"
      ],
      "metadata": {
        "colab": {
          "base_uri": "https://localhost:8080/"
        },
        "id": "Z0G9lkp_Fwa8",
        "outputId": "bdbaab63-3bdd-49b8-9663-b2fd97e5052f"
      },
      "execution_count": null,
      "outputs": [
        {
          "output_type": "stream",
          "name": "stdout",
          "text": [
            "                    count          mean           std  min       25%  \\\n",
            "step            6362620.0  2.433972e+02  1.423320e+02  1.0    156.00   \n",
            "amount          6362620.0  1.798619e+05  6.038582e+05  0.0  13389.57   \n",
            "oldbalanceOrg   6362620.0  8.338831e+05  2.888243e+06  0.0      0.00   \n",
            "newbalanceOrig  6362620.0  8.551137e+05  2.924049e+06  0.0      0.00   \n",
            "oldbalanceDest  6362620.0  1.100702e+06  3.399180e+06  0.0      0.00   \n",
            "newbalanceDest  6362620.0  1.224996e+06  3.674129e+06  0.0      0.00   \n",
            "\n",
            "                       50%           75%           max  \n",
            "step               239.000  3.350000e+02  7.430000e+02  \n",
            "amount           74871.940  2.087215e+05  9.244552e+07  \n",
            "oldbalanceOrg    14208.000  1.073152e+05  5.958504e+07  \n",
            "newbalanceOrig       0.000  1.442584e+05  4.958504e+07  \n",
            "oldbalanceDest  132705.665  9.430367e+05  3.560159e+08  \n",
            "newbalanceDest  214661.440  1.111909e+06  3.561793e+08  \n"
          ]
        }
      ]
    },
    {
      "cell_type": "code",
      "source": [
        "print (data.isnull().sum())"
      ],
      "metadata": {
        "colab": {
          "base_uri": "https://localhost:8080/"
        },
        "id": "DO3xTyWDGeVt",
        "outputId": "bd8d8e37-f12d-4960-a2b9-71490d458bb3"
      },
      "execution_count": null,
      "outputs": [
        {
          "output_type": "stream",
          "name": "stdout",
          "text": [
            "step              0\n",
            "type              0\n",
            "amount            0\n",
            "nameOrig          0\n",
            "oldbalanceOrg     0\n",
            "newbalanceOrig    0\n",
            "nameDest          0\n",
            "oldbalanceDest    0\n",
            "newbalanceDest    0\n",
            "isFraud           0\n",
            "isFlaggedFraud    0\n",
            "dtype: int64\n"
          ]
        }
      ]
    },
    {
      "cell_type": "code",
      "source": [
        "output = [0, 1]\n",
        "output_cent = [data['isFraud'].value_counts()[0]*100/len(data), data['isFraud'].value_counts()[1]*100/len(data)]\n",
        "print (output_cent)\n",
        "plt.bar (output, output_cent)\n",
        "plt.title ('0: No Fraud \\n 1: Fraud')"
      ],
      "metadata": {
        "colab": {
          "base_uri": "https://localhost:8080/",
          "height": 508
        },
        "id": "W9V9vbuznLX-",
        "outputId": "ea8e3843-3423-4215-b7a6-fa705e2ffd54"
      },
      "execution_count": null,
      "outputs": [
        {
          "output_type": "stream",
          "name": "stdout",
          "text": [
            "[99.87091795518198, 0.12908204481801522]\n"
          ]
        },
        {
          "output_type": "execute_result",
          "data": {
            "text/plain": [
              "Text(0.5, 1.0, '0: No Fraud \\n 1: Fraud')"
            ]
          },
          "metadata": {},
          "execution_count": 10
        },
        {
          "output_type": "display_data",
          "data": {
            "text/plain": [
              "<Figure size 640x480 with 1 Axes>"
            ],
            "image/png": "[encoded data removed]"
          },
          "metadata": {}
        }
      ]
    },
    {
      "cell_type": "code",
      "source": [
        "# Count of non-fraudulant (0) & fraudulant (1) transactions for each type\n",
        "print (data.groupby('type')['isFraud'].value_counts())\n",
        "zeros = []\n",
        "ones = []\n",
        "unique_types = data['type'].unique()\n",
        "for i in unique_types:\n",
        "  zeros.append (data[data['type']==i]['isFraud'].value_counts().loc[0])\n",
        "  ones.append (data[data['type']==i]['isFraud'].value_counts().loc[1])\n",
        "# Set the width of the bars\n",
        "bar_width = 0.35\n",
        "# Set the positions of the bars on the x-axis\n",
        "x_axis = np.arange (len(unique_types))\n",
        "# Plot the first set of bars\n",
        "plt.bar (x_axis - bar_width/2, zeros, width=bar_width, label='Not fraud', color='gray')\n",
        "# Plot the second set of bars\n",
        "plt.bar (x_axis + bar_width/2, ones, width=bar_width, label='Fraud', color='red')\n",
        "# Add labels, title, and legend\n",
        "plt.xlabel ('Types')\n",
        "plt.ylabel ('Count')\n",
        "plt.xticks (x_axis, unique_types)\n",
        "plt.legend ()\n",
        "plt.show()\n",
        "# We see that fraudulant transactions are prevalent in 'cash-out' & 'transfer' types"
      ],
      "metadata": {
        "colab": {
          "base_uri": "https://localhost:8080/",
          "height": 673
        },
        "id": "IX06-bJ5z0Vl",
        "outputId": "58988968-beeb-43df-873a-0d22af51fe84"
      },
      "execution_count": null,
      "outputs": [
        {
          "output_type": "stream",
          "name": "stdout",
          "text": [
            "type      isFraud\n",
            "CASH_IN   0          1399284\n",
            "          1                0\n",
            "CASH_OUT  0          2233384\n",
            "          1             4116\n",
            "DEBIT     0            41432\n",
            "          1                0\n",
            "PAYMENT   0          2151495\n",
            "          1                0\n",
            "TRANSFER  0           528812\n",
            "          1             4097\n",
            "Name: isFraud, dtype: int64\n"
          ]
        },
        {
          "output_type": "display_data",
          "data": {
            "text/plain": [
              "<Figure size 640x480 with 1 Axes>"
            ],
            "image/png": "[encoded data removed]"
          },
          "metadata": {}
        }
      ]
    },
    {
      "cell_type": "code",
      "source": [
        "# Mean transaction amount for non-fraudulant (0) & fraudulant (1) transactions\n",
        "print (data.groupby('isFraud')['amount'].mean())\n",
        "# We see that the mean transaction amount for fraudulant transactions is 10x higher than that for the non-fraudulant transactions"
      ],
      "metadata": {
        "colab": {
          "base_uri": "https://localhost:8080/"
        },
        "id": "KCOlviWGAxOR",
        "outputId": "1797863a-5817-4031-84dc-b991c9053f19"
      },
      "execution_count": null,
      "outputs": [
        {
          "output_type": "stream",
          "name": "stdout",
          "text": [
            "isFraud\n",
            "0    1.781970e+05\n",
            "1    1.467967e+06\n",
            "Name: amount, dtype: float64\n"
          ]
        }
      ]
    },
    {
      "cell_type": "code",
      "source": [
        "plt.figure (figsize=(6, 4))\n",
        "heatmap = sns.heatmap (data.corr(), vmin=-1, vmax=1, annot=True, cmap='YlGnBu', cbar=True)\n",
        "heatmap.set_title ('Correlation Heatmap', pad=10)\n",
        "plt.show ()"
      ],
      "metadata": {
        "colab": {
          "base_uri": "https://localhost:8080/",
          "height": 552
        },
        "id": "o58k_r-I6oPE",
        "outputId": "63659640-d983-4257-ea1b-c8bcdcf931e0"
      },
      "execution_count": null,
      "outputs": [
        {
          "output_type": "stream",
          "name": "stderr",
          "text": [
            "<ipython-input-13-7d4ca7c4016a>:2: FutureWarning: The default value of numeric_only in DataFrame.corr is deprecated. In a future version, it will default to False. Select only valid columns or specify the value of numeric_only to silence this warning.\n",
            "  heatmap = sns.heatmap (data.corr(), vmin=-1, vmax=1, annot=True, cmap='YlGnBu', cbar=True)\n"
          ]
        },
        {
          "output_type": "display_data",
          "data": {
            "text/plain": [
              "<Figure size 600x400 with 2 Axes>"
            ],
            "image/png": "[encoded data removed]"
          },
          "metadata": {}
        }
      ]
    },
    {
      "cell_type": "code",
      "source": [
        "df = data.copy ()\n",
        "df = df.drop (columns=['step', 'nameOrig', 'nameDest', 'isFlaggedFraud'])\n",
        "print (df)"
      ],
      "metadata": {
        "colab": {
          "base_uri": "https://localhost:8080/"
        },
        "id": "Jg4N2V2lME24",
        "outputId": "ec4dcc3e-a9a7-42b4-e15e-303d71dd2e20"
      },
      "execution_count": null,
      "outputs": [
        {
          "output_type": "stream",
          "name": "stdout",
          "text": [
            "             type      amount  oldbalanceOrg  newbalanceOrig  oldbalanceDest  \\\n",
            "0         PAYMENT     9839.64      170136.00       160296.36            0.00   \n",
            "1         PAYMENT     1864.28       21249.00        19384.72            0.00   \n",
            "2        TRANSFER      181.00         181.00            0.00            0.00   \n",
            "3        CASH_OUT      181.00         181.00            0.00        21182.00   \n",
            "4         PAYMENT    11668.14       41554.00        29885.86            0.00   \n",
            "...           ...         ...            ...             ...             ...   \n",
            "6362615  CASH_OUT   339682.13      339682.13            0.00            0.00   \n",
            "6362616  TRANSFER  6311409.28     6311409.28            0.00            0.00   \n",
            "6362617  CASH_OUT  6311409.28     6311409.28            0.00        68488.84   \n",
            "6362618  TRANSFER   850002.52      850002.52            0.00            0.00   \n",
            "6362619  CASH_OUT   850002.52      850002.52            0.00      6510099.11   \n",
            "\n",
            "         newbalanceDest isFraud  \n",
            "0                  0.00       0  \n",
            "1                  0.00       0  \n",
            "2                  0.00       1  \n",
            "3                  0.00       1  \n",
            "4                  0.00       0  \n",
            "...                 ...     ...  \n",
            "6362615       339682.13       1  \n",
            "6362616            0.00       1  \n",
            "6362617      6379898.11       1  \n",
            "6362618            0.00       1  \n",
            "6362619      7360101.63       1  \n",
            "\n",
            "[6362620 rows x 7 columns]\n"
          ]
        }
      ]
    },
    {
      "cell_type": "code",
      "source": [
        "df = pd.get_dummies (df, columns = ['type'])\n",
        "print(df)"
      ],
      "metadata": {
        "colab": {
          "base_uri": "https://localhost:8080/"
        },
        "id": "vX22lzy2-ESu",
        "outputId": "5206f815-7e81-4efb-8f83-2c7a0224aa75"
      },
      "execution_count": null,
      "outputs": [
        {
          "output_type": "stream",
          "name": "stdout",
          "text": [
            "             amount  oldbalanceOrg  newbalanceOrig  oldbalanceDest  \\\n",
            "0           9839.64      170136.00       160296.36            0.00   \n",
            "1           1864.28       21249.00        19384.72            0.00   \n",
            "2            181.00         181.00            0.00            0.00   \n",
            "3            181.00         181.00            0.00        21182.00   \n",
            "4          11668.14       41554.00        29885.86            0.00   \n",
            "...             ...            ...             ...             ...   \n",
            "6362615   339682.13      339682.13            0.00            0.00   \n",
            "6362616  6311409.28     6311409.28            0.00            0.00   \n",
            "6362617  6311409.28     6311409.28            0.00        68488.84   \n",
            "6362618   850002.52      850002.52            0.00            0.00   \n",
            "6362619   850002.52      850002.52            0.00      6510099.11   \n",
            "\n",
            "         newbalanceDest isFraud  type_CASH_IN  type_CASH_OUT  type_DEBIT  \\\n",
            "0                  0.00       0             0              0           0   \n",
            "1                  0.00       0             0              0           0   \n",
            "2                  0.00       1             0              0           0   \n",
            "3                  0.00       1             0              1           0   \n",
            "4                  0.00       0             0              0           0   \n",
            "...                 ...     ...           ...            ...         ...   \n",
            "6362615       339682.13       1             0              1           0   \n",
            "6362616            0.00       1             0              0           0   \n",
            "6362617      6379898.11       1             0              1           0   \n",
            "6362618            0.00       1             0              0           0   \n",
            "6362619      7360101.63       1             0              1           0   \n",
            "\n",
            "         type_PAYMENT  type_TRANSFER  \n",
            "0                   1              0  \n",
            "1                   1              0  \n",
            "2                   0              1  \n",
            "3                   0              0  \n",
            "4                   1              0  \n",
            "...               ...            ...  \n",
            "6362615             0              0  \n",
            "6362616             0              1  \n",
            "6362617             0              0  \n",
            "6362618             0              1  \n",
            "6362619             0              0  \n",
            "\n",
            "[6362620 rows x 11 columns]\n"
          ]
        }
      ]
    },
    {
      "cell_type": "code",
      "source": [
        "# Extracting the features (x) & target (y) from the dataframe\n",
        "x = df.iloc[:, [0, 1, 2, 3, 4, 6, 7, 8, 9, 10]].values # Matrix of features ('values' is used to convert the sliced df into array so that numpy can work on it)\n",
        "y = df.iloc[:, 5].values # 1D array of target\n",
        "# From now on, we will work on arrays"
      ],
      "metadata": {
        "id": "81EmutlEwdkk"
      },
      "execution_count": null,
      "outputs": []
    },
    {
      "cell_type": "code",
      "source": [
        "y = y.reshape ((6362620, 1)) # Reshaping the y-array to make it 2D\n",
        "print (y.shape)"
      ],
      "metadata": {
        "id": "Kpn7kNQey4MQ",
        "colab": {
          "base_uri": "https://localhost:8080/"
        },
        "outputId": "37f86aca-fad1-4bdb-d3fd-590296c21c79"
      },
      "execution_count": null,
      "outputs": [
        {
          "output_type": "stream",
          "name": "stdout",
          "text": [
            "(6362620, 1)\n"
          ]
        }
      ]
    },
    {
      "cell_type": "code",
      "source": [
        "# Splitting the data into training and test dataset (done BEFORE feature scaling)\n",
        "x_train, x_test, y_train, y_test = train_test_split (x, y, test_size = 0.2, random_state = 0) #Train:Test :: 8:2\n"
      ],
      "metadata": {
        "id": "dIhRXGh_gSev"
      },
      "execution_count": null,
      "outputs": []
    },
    {
      "cell_type": "code",
      "source": [
        "# Resampling the minority class. The strategy can be changed as required\n",
        "sm = SMOTE (random_state=0)\n",
        "# Fit the model to generate the data.\n",
        "sm_x_train, sm_y_train = sm.fit_resample (x_train, y_train)"
      ],
      "metadata": {
        "id": "ir9xiOkM5Hcl"
      },
      "execution_count": null,
      "outputs": []
    },
    {
      "cell_type": "code",
      "source": [
        "# Feature scaling -- Standardisation & Normalisation -- is performed to get all the features on the same scale, so that 1 feature do not suppress other\n",
        "# Standardisation works in all situations whereas normalisation works well with normally distributed data\n",
        "sc = StandardScaler ()\n",
        "sm_x_train[:, 0:5] = sc.fit_transform (sm_x_train[:, 0:5])\n",
        "x_test[:, 0:5] = sc.transform (x_test[:, 0:5]) # 'fit' function is not used as mean and SD of features used for test dataset is the one that was computed and used for training dataset"
      ],
      "metadata": {
        "id": "lPz7vdPegNr0"
      },
      "execution_count": null,
      "outputs": []
    },
    {
      "cell_type": "code",
      "source": [
        "iso_for = IsolationForest (n_estimators=100, max_samples=len(sm_x_train), random_state=0)\n",
        "iso_for.fit (sm_x_train, sm_y_train)\n",
        "y_pred_iso = iso_for.predict (x_test)\n",
        "y_pred_iso [y_pred_iso==1] = 0\n",
        "y_pred_iso [y_pred_iso==-1] = 1"
      ],
      "metadata": {
        "id": "vLEpujr4r3lS"
      },
      "execution_count": null,
      "outputs": []
    },
    {
      "cell_type": "code",
      "source": [
        "print (\"Accuracy score:\", accuracy_score (y_test, y_pred_iso))"
      ],
      "metadata": {
        "id": "cSjK7ZekFwnl",
        "colab": {
          "base_uri": "https://localhost:8080/"
        },
        "outputId": "01867c6f-f918-488f-d82f-d60e6c3903dc"
      },
      "execution_count": null,
      "outputs": [
        {
          "output_type": "stream",
          "name": "stdout",
          "text": [
            "Accuracy score: 0.9921753931556497\n"
          ]
        }
      ]
    },
    {
      "cell_type": "code",
      "source": [
        "anomaly_scores = iso_for.decision_function (x_test)\n",
        "# Normalize anomaly scores to range [0, 1]\n",
        "normalized_scores = (anomaly_scores - np.min(anomaly_scores)) / (np.max(anomaly_scores) - np.min(anomaly_scores))\n",
        "# Convert normalized scores to probabilities\n",
        "iso_prob = 1 - normalized_scores # Since, lower score means higher probability to being an outlier, so we are subtracting from 1 so that the probaility for being an outlier is higher than that being an inlier"
      ],
      "metadata": {
        "id": "US8kHqlDZYk7"
      },
      "execution_count": null,
      "outputs": []
    },
    {
      "cell_type": "code",
      "source": [
        "ann = Sequential ([\n",
        "    Dense (input_dim=10, units=6, activation='relu'), # Creating the input layer of input_dim=#Features & the 1st hidden layer\n",
        "    Dense (units=6, activation='relu'), # Creating the 2nd hidden layer\n",
        "    Dense (units=1, activation='sigmoid'), # Creating the output layer\n",
        "])\n",
        "ann.compile (optimizer=\"adam\", loss=\"binary_crossentropy\", metrics=['accuracy']) # Using 'binary crossentropy' to calculate the loss, calculate accuracy & optimising weights using 'adams' (Stochastic gradient descent) to minimise the loss & maximise the accuracy"
      ],
      "metadata": {
        "id": "nTlXStya-_5C"
      },
      "execution_count": null,
      "outputs": []
    },
    {
      "cell_type": "code",
      "source": [
        "ann.fit (sm_x_train, sm_y_train, batch_size=32, epochs = 5)\n",
        "ann_prob = ann.predict (x_test)\n",
        "y_pred_ann = (ann_prob > 0.5) # If ann_prob>0.5 is True (1), 1 will get stored in y_pred_ann, otherwise 0 will get stored\n",
        "ann.save ('ANN.h5')"
      ],
      "metadata": {
        "colab": {
          "base_uri": "https://localhost:8080/"
        },
        "id": "-vyQakFOIa87",
        "outputId": "012642a1-8ddb-4264-fa06-994ef21e5848"
      },
      "execution_count": null,
      "outputs": [
        {
          "output_type": "stream",
          "name": "stdout",
          "text": [
            "Epoch 1/5\n",
            "317721/317721 [==============================] - 720s 2ms/step - loss: 0.0389 - accuracy: 0.9888\n",
            "Epoch 2/5\n",
            "317721/317721 [==============================] - 744s 2ms/step - loss: 0.0365 - accuracy: 0.9898\n",
            "Epoch 3/5\n",
            "317721/317721 [==============================] - 707s 2ms/step - loss: 0.0346 - accuracy: 0.9905\n",
            "Epoch 4/5\n",
            "317721/317721 [==============================] - 702s 2ms/step - loss: 0.0322 - accuracy: 0.9911\n",
            "Epoch 5/5\n",
            "317721/317721 [==============================] - 704s 2ms/step - loss: 0.0310 - accuracy: 0.9915\n",
            "39767/39767 [==============================] - 60s 2ms/step\n"
          ]
        },
        {
          "output_type": "stream",
          "name": "stderr",
          "text": [
            "/usr/local/lib/python3.10/dist-packages/keras/src/engine/training.py:3103: UserWarning: You are saving your model as an HDF5 file via `model.save()`. This file format is considered legacy. We recommend using instead the native Keras format, e.g. `model.save('my_model.keras')`.\n",
            "  saving_api.save_model(\n"
          ]
        }
      ]
    },
    {
      "cell_type": "code",
      "source": [
        "print (\"Accuracy score:\", accuracy_score (y_test, y_pred_ann))"
      ],
      "metadata": {
        "id": "RzFzFIRcBF91",
        "colab": {
          "base_uri": "https://localhost:8080/"
        },
        "outputId": "94ec52f4-68cc-4e0c-ba80-20d0499a3c06"
      },
      "execution_count": null,
      "outputs": [
        {
          "output_type": "stream",
          "name": "stdout",
          "text": [
            "Accuracy score: 0.9886815494246081\n"
          ]
        }
      ]
    },
    {
      "cell_type": "code",
      "source": [
        "finalpred = (iso_prob + ann_prob)/2\n",
        "finalpred = (finalpred > 0.5)"
      ],
      "metadata": {
        "id": "daTHloH-TLgT"
      },
      "execution_count": null,
      "outputs": []
    },
    {
      "cell_type": "code",
      "source": [
        "print (\"F1 Score:\", f1_score (y_test, finalpred, average=\"weighted\"))\n",
        "print (\"Accuracy score:\", accuracy_score (y_test, finalpred))\n",
        "print (\"Confusion matrix:\", confusion_matrix (y_test, finalpred))"
      ],
      "metadata": {
        "id": "VuTafUvuGRlC"
      },
      "execution_count": null,
      "outputs": []
    }
  ]
}
