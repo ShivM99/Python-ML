{
  "nbformat": 4,
  "nbformat_minor": 0,
  "metadata": {
    "colab": {
      "provenance": [],
      "authorship_tag": "ABX9TyOzbCVmTRIcGt0VzWujqT00",
      "include_colab_link": true
    },
    "kernelspec": {
      "name": "python3",
      "display_name": "Python 3"
    },
    "language_info": {
      "name": "python"
    }
  },
  "cells": [
    {
      "cell_type": "markdown",
      "metadata": {
        "id": "view-in-github",
        "colab_type": "text"
      },
      "source": [
        "<a href=\"https://colab.research.google.com/github/ShivM99/Python/blob/main/Titanic_KNN.ipynb\" target=\"_parent\"><img src=\"https://colab.research.google.com/assets/colab-badge.svg\" alt=\"Open In Colab\"/></a>"
      ]
    },
    {
      "cell_type": "code",
      "execution_count": 27,
      "metadata": {
        "id": "fdCs0lYNBOvh"
      },
      "outputs": [],
      "source": [
        "#Importing the training dataset\n",
        "import pandas as pd\n",
        "train = pd.read_csv (r\"titanic_train.csv\")"
      ]
    },
    {
      "cell_type": "code",
      "source": [
        "#Seggregating the features and the target for 'titanic_train'\n",
        "x = train.iloc[:, [2, 4, 5, 6, 7, 9, 11]].values\n",
        "x_df = pd.DataFrame (x, columns = ['Pclass', 'Sex', 'Age', 'SibSp', 'Parch', 'Fare', 'Embarked'])\n",
        "print (\"\\nFeatures:\\n\", x_df)"
      ],
      "metadata": {
        "colab": {
          "base_uri": "https://localhost:8080/"
        },
        "id": "bao9MALlDu4g",
        "outputId": "42f02cf4-1209-49fc-f8c2-83da40b541cd"
      },
      "execution_count": 28,
      "outputs": [
        {
          "output_type": "stream",
          "name": "stdout",
          "text": [
            "\n",
            "Features:\n",
            "     Pclass     Sex   Age SibSp Parch     Fare Embarked\n",
            "0        3    male  22.0     1     0     7.25        S\n",
            "1        1  female  38.0     1     0  71.2833        C\n",
            "2        3  female  26.0     0     0    7.925        S\n",
            "3        1  female  35.0     1     0     53.1        S\n",
            "4        3    male  35.0     0     0     8.05        S\n",
            "..     ...     ...   ...   ...   ...      ...      ...\n",
            "886      2    male  27.0     0     0     13.0        S\n",
            "887      1  female  19.0     0     0     30.0        S\n",
            "888      3  female   NaN     1     2    23.45        S\n",
            "889      1    male  26.0     0     0     30.0        C\n",
            "890      3    male  32.0     0     0     7.75        Q\n",
            "\n",
            "[891 rows x 7 columns]\n"
          ]
        }
      ]
    },
    {
      "cell_type": "code",
      "source": [
        "y = train.iloc[:, 1].values\n",
        "y_df = pd.DataFrame (y, columns = ['Survived'])\n",
        "print (\"\\nTarget:\\n\", y_df)"
      ],
      "metadata": {
        "colab": {
          "base_uri": "https://localhost:8080/"
        },
        "id": "YJyGvKH5D42o",
        "outputId": "0ee6061a-3380-4205-f255-e696485de1c3"
      },
      "execution_count": 29,
      "outputs": [
        {
          "output_type": "stream",
          "name": "stdout",
          "text": [
            "\n",
            "Target:\n",
            "      Survived\n",
            "0           0\n",
            "1           1\n",
            "2           1\n",
            "3           1\n",
            "4           0\n",
            "..        ...\n",
            "886         0\n",
            "887         1\n",
            "888         0\n",
            "889         1\n",
            "890         0\n",
            "\n",
            "[891 rows x 1 columns]\n"
          ]
        }
      ]
    },
    {
      "cell_type": "code",
      "source": [
        "#Handling the missing values\n",
        "#One hot encoding the categorical features\n",
        "print (\"\\nMissing values in different features:\\n\", x_df.isnull().sum())\n",
        "import numpy as np\n",
        "from sklearn.impute import SimpleImputer\n",
        "from sklearn.preprocessing import OneHotEncoder\n",
        "from sklearn.compose import ColumnTransformer\n",
        "from sklearn.pipeline import Pipeline"
      ],
      "metadata": {
        "colab": {
          "base_uri": "https://localhost:8080/"
        },
        "id": "8KpnSstgBTzI",
        "outputId": "5b42eb26-cb43-4715-d065-348d5bbc6f96"
      },
      "execution_count": 30,
      "outputs": [
        {
          "output_type": "stream",
          "name": "stdout",
          "text": [
            "\n",
            "Missing values in different features:\n",
            " Pclass        0\n",
            "Sex           0\n",
            "Age         177\n",
            "SibSp         0\n",
            "Parch         0\n",
            "Fare          0\n",
            "Embarked      2\n",
            "dtype: int64\n"
          ]
        }
      ]
    },
    {
      "cell_type": "code",
      "source": [
        "#ColumnTransformer (transformers = [(\"name_of_object\", object_creation, [columns]), (\"name_of_object\", object_creation, [columns]), ...], remainder = \"passthrough\")\n",
        "ct = ColumnTransformer (transformers = [(\"si_mode\", SimpleImputer (missing_values = np.nan, strategy = \"most_frequent\"), [2]), (\"si_mean\", SimpleImputer (missing_values = np.nan, strategy = \"mean\"), [-2]),  (\"encoder\", OneHotEncoder(), [0, 1])], remainder = \"passthrough\")\n",
        "x = ct.fit_transform (x)"
      ],
      "metadata": {
        "id": "g6j3I5QQD_3h"
      },
      "execution_count": 31,
      "outputs": []
    },
    {
      "cell_type": "code",
      "source": [
        "#Pipeline (steps = [(\"name_of_object\", object_creation), (\"name_of_object\", object_creation), ...])\n",
        "pipe = Pipeline (steps = [(\"si_mode\", SimpleImputer (missing_values = np.nan, strategy = \"most_frequent\")), (\"encoder\", OneHotEncoder())])\n",
        "embarked = ColumnTransformer (transformers = [(\"pipe\", pipe, [-1])], remainder = \"passthrough\")\n",
        "x = embarked.fit_transform (x)\n",
        "x_df_new = pd.DataFrame (x)\n",
        "print (\"\\nPreprocessed features:\\n\", x_df_new)"
      ],
      "metadata": {
        "colab": {
          "base_uri": "https://localhost:8080/"
        },
        "id": "c-PjLBahEBvB",
        "outputId": "d891b5de-387f-4f8e-e83e-5d18c66d0449"
      },
      "execution_count": 32,
      "outputs": [
        {
          "output_type": "stream",
          "name": "stdout",
          "text": [
            "\n",
            "Preprocessed features:\n",
            "       0    1    2     3        4    5    6    7    8    9  10 11\n",
            "0    0.0  0.0  1.0  22.0     7.25  0.0  0.0  1.0  0.0  1.0  1  0\n",
            "1    1.0  0.0  0.0  38.0  71.2833  1.0  0.0  0.0  1.0  0.0  1  0\n",
            "2    0.0  0.0  1.0  26.0    7.925  0.0  0.0  1.0  1.0  0.0  0  0\n",
            "3    0.0  0.0  1.0  35.0     53.1  1.0  0.0  0.0  1.0  0.0  1  0\n",
            "4    0.0  0.0  1.0  35.0     8.05  0.0  0.0  1.0  0.0  1.0  0  0\n",
            "..   ...  ...  ...   ...      ...  ...  ...  ...  ...  ... .. ..\n",
            "886  0.0  0.0  1.0  27.0     13.0  0.0  1.0  0.0  0.0  1.0  0  0\n",
            "887  0.0  0.0  1.0  19.0     30.0  1.0  0.0  0.0  1.0  0.0  0  0\n",
            "888  0.0  0.0  1.0  24.0    23.45  0.0  0.0  1.0  1.0  0.0  1  2\n",
            "889  1.0  0.0  0.0  26.0     30.0  1.0  0.0  0.0  0.0  1.0  0  0\n",
            "890  0.0  1.0  0.0  32.0     7.75  0.0  0.0  1.0  0.0  1.0  0  0\n",
            "\n",
            "[891 rows x 12 columns]\n"
          ]
        }
      ]
    },
    {
      "cell_type": "code",
      "source": [
        "#Splitting the dataset into training & test datasets not done as the dataset is already splitted\n",
        "from sklearn.model_selection import train_test_split\n",
        "x_train, x_test, y_train, y_test = train_test_split (x, y, test_size = 0.2, random_state = 0)"
      ],
      "metadata": {
        "id": "UG1cFJM1BWFn"
      },
      "execution_count": 33,
      "outputs": []
    },
    {
      "cell_type": "code",
      "source": [
        "#Standardizing the dataset\n",
        "from sklearn.preprocessing import StandardScaler\n",
        "sc = StandardScaler ()\n",
        "x_train[:, [3, 11]] = sc.fit_transform (x_train[:, [3, 11]])\n",
        "x_test[:, [3, 11]] = sc.transform (x_test[:, [3, 11]])\n",
        "x_train_df = pd.DataFrame (x_train)\n",
        "print (\"\\nStandardised features:\\n\", x_train_df)"
      ],
      "metadata": {
        "colab": {
          "base_uri": "https://localhost:8080/"
        },
        "id": "zwmtVAW8BYEv",
        "outputId": "71807ffa-7795-4c2e-bf14-9d591c575650"
      },
      "execution_count": 34,
      "outputs": [
        {
          "output_type": "stream",
          "name": "stdout",
          "text": [
            "\n",
            "Standardised features:\n",
            "       0    1    2         3        4    5    6    7    8    9  10        11\n",
            "0    1.0  0.0  0.0 -0.346969  15.2458  0.0  0.0  1.0  1.0  0.0  0  1.959264\n",
            "1    0.0  0.0  1.0  0.180174     10.5  0.0  1.0  0.0  0.0  1.0  0  -0.47741\n",
            "2    1.0  0.0  0.0  0.180174  37.0042  0.0  1.0  0.0  0.0  1.0  1  0.740927\n",
            "3    1.0  0.0  0.0 -0.648193   4.0125  0.0  0.0  1.0  0.0  1.0  0  -0.47741\n",
            "4    0.0  0.0  1.0 -0.572887     7.25  0.0  0.0  1.0  0.0  1.0  0  -0.47741\n",
            "..   ...  ...  ...       ...      ...  ...  ...  ...  ...  ... ..       ...\n",
            "707  1.0  0.0  0.0  0.782623  83.1583  1.0  0.0  0.0  1.0  0.0  1  0.740927\n",
            "708  0.0  0.0  1.0 -0.723499   7.8542  0.0  0.0  1.0  1.0  0.0  1  -0.47741\n",
            "709  0.0  1.0  0.0 -0.346969   7.7333  0.0  0.0  1.0  0.0  1.0  0  -0.47741\n",
            "710  0.0  0.0  1.0  0.556705     17.4  0.0  0.0  1.0  1.0  0.0  1  -0.47741\n",
            "711  0.0  0.0  1.0  2.364052     39.0  0.0  1.0  0.0  0.0  1.0  1  0.740927\n",
            "\n",
            "[712 rows x 12 columns]\n"
          ]
        }
      ]
    },
    {
      "cell_type": "code",
      "source": [
        "#Building the KNN model\n",
        "from sklearn.neighbors import KNeighborsClassifier\n",
        "knn = KNeighborsClassifier (n_neighbors = 5, weights = \"uniform\", algorithm = \"auto\", p =2, metric = \"minkowski\")\n",
        "knn.fit (x_train, y_train)\n",
        "y_pred = knn.predict (x_test)"
      ],
      "metadata": {
        "id": "dqUHkIXPBaI2"
      },
      "execution_count": 35,
      "outputs": []
    },
    {
      "cell_type": "code",
      "source": [
        "#Checking the accuracy of KNN model\n",
        "from sklearn.metrics import accuracy_score\n",
        "print (\"\\nAccuracy of the KNN model:\", accuracy_score (y_test, y_pred)*100)"
      ],
      "metadata": {
        "colab": {
          "base_uri": "https://localhost:8080/"
        },
        "id": "Yz_g8PBZBcM_",
        "outputId": "df7862d5-bef4-4223-a21b-277a1f045f52"
      },
      "execution_count": 36,
      "outputs": [
        {
          "output_type": "stream",
          "name": "stdout",
          "text": [
            "\n",
            "Accuracy of the KNN model: 75.97765363128491\n"
          ]
        }
      ]
    },
    {
      "cell_type": "code",
      "source": [
        "#Cross-validation\n",
        "from sklearn.model_selection import cross_val_score\n",
        "accuracies = cross_val_score (estimator = knn, X = x_train, y = y_train, cv = 10)\n",
        "print (\"\\nMean accuracy:\", accuracies.mean()*100)"
      ],
      "metadata": {
        "colab": {
          "base_uri": "https://localhost:8080/"
        },
        "id": "NId-b_U2BeN4",
        "outputId": "36c6207c-09df-4da1-bbc5-f7f78523aa69"
      },
      "execution_count": 37,
      "outputs": [
        {
          "output_type": "stream",
          "name": "stdout",
          "text": [
            "\n",
            "Mean accuracy: 73.73826291079813\n"
          ]
        }
      ]
    },
    {
      "cell_type": "code",
      "source": [
        "#Grid search\n",
        "from sklearn.model_selection import GridSearchCV\n",
        "h_parameters = [{\"n_neighbors\": [1, 2, 3, 4, 5, 6, 7, 8, 9, 10], \"weights\": [\"uniform\", \"distance\"]}]\n",
        "grid = GridSearchCV (estimator = knn, param_grid = h_parameters, scoring = \"accuracy\", n_jobs = -1, cv = 10)\n",
        "grid.fit (x_train, y_train)\n",
        "best_hparameters = grid.best_params_\n",
        "best_accuracy = grid.best_score_\n",
        "print (\"\\nBest hyper-parameters:\\n\", best_hparameters)\n",
        "print (\"\\nBest accuracy:\", best_accuracy*100)"
      ],
      "metadata": {
        "colab": {
          "base_uri": "https://localhost:8080/"
        },
        "id": "q5x7BCcXBgVA",
        "outputId": "8b3422e3-eaa6-4990-ba1a-f66140af1a39"
      },
      "execution_count": 38,
      "outputs": [
        {
          "output_type": "stream",
          "name": "stdout",
          "text": [
            "\n",
            "Best hyper-parameters:\n",
            " {'n_neighbors': 3, 'weights': 'uniform'}\n",
            "\n",
            "Best accuracy: 76.53951486697966\n"
          ]
        }
      ]
    },
    {
      "cell_type": "code",
      "source": [
        "#Importing the testing dataset\n",
        "test = pd.read_csv (r\"titanic_test.csv\")\n",
        "x_new = test.iloc[:, [1, 3, 4, 5, 6, 8, 10]].values\n",
        "x_df = pd.DataFrame (x_new, columns = ['Pclass', 'Sex', 'Age', 'SibSp', 'Parch', 'Fare', 'Embarked'])\n",
        "print (\"\\nFeatures:\\n\", x_df)"
      ],
      "metadata": {
        "colab": {
          "base_uri": "https://localhost:8080/"
        },
        "id": "OZzQ2xFbyszb",
        "outputId": "20feaeca-fb4c-4332-8e31-45229a34e81a"
      },
      "execution_count": 39,
      "outputs": [
        {
          "output_type": "stream",
          "name": "stdout",
          "text": [
            "\n",
            "Features:\n",
            "     Pclass     Sex   Age SibSp Parch     Fare Embarked\n",
            "0        3    male  34.5     0     0   7.8292        Q\n",
            "1        3  female  47.0     1     0      7.0        S\n",
            "2        2    male  62.0     0     0   9.6875        Q\n",
            "3        3    male  27.0     0     0   8.6625        S\n",
            "4        3  female  22.0     1     1  12.2875        S\n",
            "..     ...     ...   ...   ...   ...      ...      ...\n",
            "413      3    male   NaN     0     0     8.05        S\n",
            "414      1  female  39.0     0     0    108.9        C\n",
            "415      3    male  38.5     0     0     7.25        S\n",
            "416      3    male   NaN     0     0     8.05        S\n",
            "417      3    male   NaN     1     1  22.3583        C\n",
            "\n",
            "[418 rows x 7 columns]\n"
          ]
        }
      ]
    },
    {
      "cell_type": "code",
      "source": [
        "print (\"\\nMissing values in different features:\\n\", x_df.isnull().sum())"
      ],
      "metadata": {
        "colab": {
          "base_uri": "https://localhost:8080/"
        },
        "id": "S7dhB07t53ba",
        "outputId": "ef810684-e8c3-4f12-a812-f2426966ef09"
      },
      "execution_count": 40,
      "outputs": [
        {
          "output_type": "stream",
          "name": "stdout",
          "text": [
            "\n",
            "Missing values in different features:\n",
            " Pclass       0\n",
            "Sex          0\n",
            "Age         86\n",
            "SibSp        0\n",
            "Parch        0\n",
            "Fare         1\n",
            "Embarked     0\n",
            "dtype: int64\n"
          ]
        }
      ]
    },
    {
      "cell_type": "code",
      "source": [
        "#Handling the missing values\n",
        "#One hot encoding the categorical features\n",
        "x_new = ct.transform (x_new)"
      ],
      "metadata": {
        "id": "IDSSm5CFzrKX"
      },
      "execution_count": 41,
      "outputs": []
    },
    {
      "cell_type": "code",
      "source": [
        "x_new = embarked.transform (x_new)\n",
        "x_df_new = pd.DataFrame (x_new)\n",
        "print (\"\\nPreprocessed features:\\n\", x_df_new)"
      ],
      "metadata": {
        "colab": {
          "base_uri": "https://localhost:8080/"
        },
        "id": "aBHMcPQp7dHW",
        "outputId": "3bd1fe55-be19-4b19-97b1-c35989b59d15"
      },
      "execution_count": 42,
      "outputs": [
        {
          "output_type": "stream",
          "name": "stdout",
          "text": [
            "\n",
            "Preprocessed features:\n",
            "       0    1    2     3        4    5    6    7    8    9  10 11\n",
            "0    0.0  1.0  0.0  34.5   7.8292  0.0  0.0  1.0  0.0  1.0  0  0\n",
            "1    0.0  0.0  1.0  47.0      7.0  0.0  0.0  1.0  1.0  0.0  1  0\n",
            "2    0.0  1.0  0.0  62.0   9.6875  0.0  1.0  0.0  0.0  1.0  0  0\n",
            "3    0.0  0.0  1.0  27.0   8.6625  0.0  0.0  1.0  0.0  1.0  0  0\n",
            "4    0.0  0.0  1.0  22.0  12.2875  0.0  0.0  1.0  1.0  0.0  1  1\n",
            "..   ...  ...  ...   ...      ...  ...  ...  ...  ...  ... .. ..\n",
            "413  0.0  0.0  1.0  24.0     8.05  0.0  0.0  1.0  0.0  1.0  0  0\n",
            "414  1.0  0.0  0.0  39.0    108.9  1.0  0.0  0.0  1.0  0.0  0  0\n",
            "415  0.0  0.0  1.0  38.5     7.25  0.0  0.0  1.0  0.0  1.0  0  0\n",
            "416  0.0  0.0  1.0  24.0     8.05  0.0  0.0  1.0  0.0  1.0  0  0\n",
            "417  1.0  0.0  0.0  24.0  22.3583  0.0  0.0  1.0  0.0  1.0  1  1\n",
            "\n",
            "[418 rows x 12 columns]\n"
          ]
        }
      ]
    },
    {
      "cell_type": "code",
      "source": [
        "#Standardizing the dataset\n",
        "x_new[:, [3, 11]] = sc.transform (x_new[:, [3, 11]])\n",
        "x_test_df = pd.DataFrame (x_new)\n",
        "print (\"\\nStandardised features:\\n\", x_test_df)"
      ],
      "metadata": {
        "colab": {
          "base_uri": "https://localhost:8080/"
        },
        "outputId": "a88196eb-47b4-424b-bf6a-876dbd5ae4e3",
        "id": "DsioLiko65yT"
      },
      "execution_count": 43,
      "outputs": [
        {
          "output_type": "stream",
          "name": "stdout",
          "text": [
            "\n",
            "Standardised features:\n",
            "       0    1    2         3        4    5    6    7    8    9  10        11\n",
            "0    0.0  1.0  0.0  0.443746   7.8292  0.0  0.0  1.0  0.0  1.0  0  -0.47741\n",
            "1    0.0  0.0  1.0  1.385072      7.0  0.0  0.0  1.0  1.0  0.0  1  -0.47741\n",
            "2    0.0  1.0  0.0  2.514664   9.6875  0.0  1.0  0.0  0.0  1.0  0  -0.47741\n",
            "3    0.0  0.0  1.0  -0.12105   8.6625  0.0  0.0  1.0  0.0  1.0  0  -0.47741\n",
            "4    0.0  0.0  1.0 -0.497581  12.2875  0.0  0.0  1.0  1.0  0.0  1  0.740927\n",
            "..   ...  ...  ...       ...      ...  ...  ...  ...  ...  ... ..       ...\n",
            "413  0.0  0.0  1.0 -0.346969     8.05  0.0  0.0  1.0  0.0  1.0  0  -0.47741\n",
            "414  1.0  0.0  0.0  0.782623    108.9  1.0  0.0  0.0  1.0  0.0  0  -0.47741\n",
            "415  0.0  0.0  1.0   0.74497     7.25  0.0  0.0  1.0  0.0  1.0  0  -0.47741\n",
            "416  0.0  0.0  1.0 -0.346969     8.05  0.0  0.0  1.0  0.0  1.0  0  -0.47741\n",
            "417  1.0  0.0  0.0 -0.346969  22.3583  0.0  0.0  1.0  0.0  1.0  1  0.740927\n",
            "\n",
            "[418 rows x 12 columns]\n"
          ]
        }
      ]
    },
    {
      "cell_type": "code",
      "source": [
        "lr = KNeighborsClassifier (n_neighbors = 3, weights = 'uniform', algorithm = 'auto', p =2, metric = 'minkowski')\n",
        "lr.fit (x, y)\n",
        "y_pred = lr.predict (x_new)\n",
        "y_pred"
      ],
      "metadata": {
        "colab": {
          "base_uri": "https://localhost:8080/"
        },
        "id": "iKw8ZxMi_2Nz",
        "outputId": "c7eed534-345c-495c-b51d-279e9e0b5d58"
      },
      "execution_count": 44,
      "outputs": [
        {
          "output_type": "execute_result",
          "data": {
            "text/plain": [
              "array([1, 1, 1, 1, 1, 1, 1, 1, 1, 1, 1, 1, 1, 1, 1, 1, 1, 1, 1, 1, 0, 1,\n",
              "       0, 0, 1, 1, 1, 1, 1, 1, 1, 0, 1, 1, 0, 1, 1, 1, 1, 0, 1, 1, 1, 1,\n",
              "       0, 1, 1, 1, 1, 1, 0, 1, 1, 1, 1, 0, 1, 1, 1, 1, 1, 1, 1, 1, 1, 1,\n",
              "       1, 1, 1, 1, 1, 1, 1, 1, 1, 1, 1, 1, 1, 1, 1, 1, 1, 1, 1, 1, 1, 1,\n",
              "       1, 1, 1, 1, 0, 1, 1, 1, 1, 1, 1, 1, 0, 1, 1, 1, 1, 1, 1, 1, 1, 1,\n",
              "       1, 1, 0, 1, 1, 1, 1, 1, 1, 1, 1, 1, 0, 1, 1, 1, 1, 1, 1, 1, 1, 1,\n",
              "       1, 1, 1, 1, 1, 1, 1, 0, 0, 1, 1, 1, 1, 1, 0, 1, 1, 1, 1, 1, 1, 1,\n",
              "       0, 1, 1, 1, 1, 1, 1, 1, 1, 1, 1, 1, 0, 1, 1, 1, 1, 1, 1, 1, 1, 1,\n",
              "       1, 0, 1, 1, 1, 1, 0, 1, 0, 1, 1, 1, 1, 1, 1, 1, 1, 1, 1, 1, 1, 1,\n",
              "       1, 1, 1, 1, 1, 1, 1, 1, 1, 1, 1, 1, 1, 1, 1, 1, 1, 1, 1, 1, 1, 1,\n",
              "       1, 1, 1, 1, 1, 1, 1, 1, 1, 1, 1, 1, 1, 1, 1, 1, 1, 1, 1, 1, 1, 1,\n",
              "       1, 1, 1, 0, 1, 1, 1, 1, 1, 1, 1, 1, 1, 1, 1, 1, 1, 1, 1, 1, 1, 1,\n",
              "       1, 1, 1, 1, 1, 1, 1, 1, 1, 1, 1, 1, 1, 1, 1, 1, 1, 1, 1, 1, 1, 1,\n",
              "       1, 1, 1, 1, 1, 1, 1, 1, 1, 1, 1, 1, 1, 1, 1, 1, 1, 1, 1, 1, 1, 1,\n",
              "       1, 1, 1, 1, 1, 1, 1, 1, 1, 1, 1, 0, 1, 1, 1, 1, 1, 1, 1, 1, 1, 1,\n",
              "       1, 1, 1, 1, 1, 1, 1, 1, 0, 1, 1, 1, 1, 1, 1, 1, 1, 1, 1, 1, 1, 1,\n",
              "       1, 1, 1, 1, 0, 1, 1, 1, 1, 1, 1, 1, 0, 1, 1, 1, 0, 1, 1, 1, 1, 1,\n",
              "       1, 1, 1, 1, 0, 0, 1, 1, 1, 1, 1, 1, 1, 1, 1, 1, 1, 1, 1, 1, 0, 0,\n",
              "       1, 1, 1, 1, 1, 1, 0, 1, 1, 1, 1, 1, 1, 1, 1, 1, 1, 1, 1, 1, 1, 1])"
            ]
          },
          "metadata": {},
          "execution_count": 44
        }
      ]
    }
  ]
}