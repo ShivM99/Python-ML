{
 "cells": [
  {
   "cell_type": "markdown",
   "metadata": {},
   "source": [
    "# English Grammar Correction"
   ]
  },
  {
   "cell_type": "code",
   "execution_count": 18,
   "metadata": {},
   "outputs": [
    {
     "name": "stdout",
     "output_type": "stream",
     "text": [
      "Original: In earlier, you would undoubtedly phone travel agent to book.\n",
      "Corrected: In earlier days, you would undoubtedly phone a travel agent to book.\n"
     ]
    }
   ],
   "source": [
    "from transformers import T5Tokenizer, T5ForConditionalGeneration\n",
    "\n",
    "# Load the English grammar correction model\n",
    "model_name = \"vennify/t5-base-grammar-correction\"\n",
    "tokenizer = T5Tokenizer.from_pretrained(model_name)\n",
    "model = T5ForConditionalGeneration.from_pretrained(model_name)\n",
    "\n",
    "# Function to correct grammar for English\n",
    "def correct_grammar(text):\n",
    "    input_text = \"grammar: \" + text\n",
    "    inputs = tokenizer(input_text, return_tensors=\"pt\", max_length=512, truncation=True)\n",
    "    outputs = model.generate(inputs['input_ids'], max_length=512, num_beams=5, early_stopping=True)\n",
    "    corrected_text = tokenizer.decode(outputs[0], skip_special_tokens=True)\n",
    "    return corrected_text\n",
    "\n",
    "sentence = \"In earlier, you would undoubtedly phone travel agent to book.\"\n",
    "corrected_sentence = correct_grammar(sentence)\n",
    "print(f\"Original: {sentence}\")\n",
    "print(f\"Corrected: {corrected_sentence}\")"
   ]
  },
  {
   "cell_type": "markdown",
   "metadata": {},
   "source": [
    "# MBART model for Grammar Correction"
   ]
  },
  {
   "cell_type": "code",
   "execution_count": 1,
   "metadata": {},
   "outputs": [],
   "source": [
    "from transformers import MBartForConditionalGeneration, MBart50TokenizerFast\n",
    "\n",
    "model = MBartForConditionalGeneration.from_pretrained(\"facebook/mbart-large-50-many-to-many-mmt\")\n",
    "tokenizer = MBart50TokenizerFast.from_pretrained(\"facebook/mbart-large-50-many-to-many-mmt\")"
   ]
  },
  {
   "cell_type": "markdown",
   "metadata": {},
   "source": [
    "#### fails for English to English"
   ]
  },
  {
   "cell_type": "code",
   "execution_count": 2,
   "metadata": {},
   "outputs": [
    {
     "name": "stdout",
     "output_type": "stream",
     "text": [
      "['හේයි රම් කොහොමද ඔයාට?']\n",
      "['अरे राम तुम कैसे हो?.']\n"
     ]
    },
    {
     "data": {
      "text/plain": [
       "['Oh, Ram, how are you?']"
      ]
     },
     "execution_count": 2,
     "metadata": {},
     "output_type": "execute_result"
    }
   ],
   "source": [
    "# translate English to English\n",
    "article_en = \"Hey Ram how are you?.\"\n",
    "\n",
    "tokenizer.src_lang = \"en_XX\"\n",
    "encoded_ar = tokenizer(article_en, return_tensors=\"pt\")\n",
    "generated_tokens = model.generate(\n",
    "    **encoded_ar,\n",
    "    forced_bos_token_id=tokenizer.lang_code_to_id[\"en_XX\"]\n",
    ")\n",
    "result = tokenizer.batch_decode(generated_tokens, skip_special_tokens=True)\n",
    "print(result)\n",
    "\n",
    "tokenizer.src_lang = \"en_XX\"\n",
    "encoded_ar = tokenizer(article_en, return_tensors=\"pt\")\n",
    "generated_tokens = model.generate(\n",
    "    **encoded_ar,\n",
    "    forced_bos_token_id=tokenizer.lang_code_to_id[\"hi_IN\"]\n",
    ")\n",
    "result = tokenizer.batch_decode(generated_tokens, skip_special_tokens=True)\n",
    "print(result)\n",
    "\n",
    "tokenizer.src_lang = \"hi_IN\"\n",
    "encoded_ar = tokenizer(result, return_tensors=\"pt\")\n",
    "generated_tokens = model.generate(\n",
    "    **encoded_ar,\n",
    "    forced_bos_token_id=tokenizer.lang_code_to_id[\"en_XX\"]\n",
    ")\n",
    "result = tokenizer.batch_decode(generated_tokens, skip_special_tokens=True)\n",
    "result"
   ]
  },
  {
   "cell_type": "markdown",
   "metadata": {},
   "source": [
    "### English to Hindi Translation for Different Addressing Terms"
   ]
  },
  {
   "cell_type": "code",
   "execution_count": 11,
   "metadata": {},
   "outputs": [
    {
     "name": "stdout",
     "output_type": "stream",
     "text": [
      "['भाइयों, आप कैसे हैं?']\n"
     ]
    },
    {
     "data": {
      "text/plain": [
       "['Brothers, how are you?']"
      ]
     },
     "execution_count": 11,
     "metadata": {},
     "output_type": "execute_result"
    }
   ],
   "source": [
    "# translate English to Hindi\n",
    "article_en = \"Hello brother, how are you?\"\n",
    "\n",
    "tokenizer.src_lang = \"en_XX\"\n",
    "encoded_ar = tokenizer(article_en, return_tensors=\"pt\")\n",
    "generated_tokens = model.generate(\n",
    "    **encoded_ar,\n",
    "    forced_bos_token_id=tokenizer.lang_code_to_id[\"hi_IN\"]\n",
    ")\n",
    "result = tokenizer.batch_decode(generated_tokens, skip_special_tokens=True)\n",
    "print(result)\n",
    "\n",
    "tokenizer.src_lang = \"hi_IN\"\n",
    "encoded_ar = tokenizer(result, return_tensors=\"pt\")\n",
    "generated_tokens = model.generate(\n",
    "    **encoded_ar,\n",
    "    forced_bos_token_id=tokenizer.lang_code_to_id[\"en_XX\"]\n",
    ")\n",
    "result = tokenizer.batch_decode(generated_tokens, skip_special_tokens=True)\n",
    "result"
   ]
  },
  {
   "cell_type": "code",
   "execution_count": 10,
   "metadata": {},
   "outputs": [
    {
     "name": "stdout",
     "output_type": "stream",
     "text": [
      "['नमस्ते सर, आप कैसे हैं?']\n"
     ]
    },
    {
     "data": {
      "text/plain": [
       "['Hello sir, how are you?']"
      ]
     },
     "execution_count": 10,
     "metadata": {},
     "output_type": "execute_result"
    }
   ],
   "source": [
    "# translate English to Hindi\n",
    "article_en = \"Hello sir, how are you?\"\n",
    "\n",
    "tokenizer.src_lang = \"en_XX\"\n",
    "encoded_ar = tokenizer(article_en, return_tensors=\"pt\")\n",
    "generated_tokens = model.generate(\n",
    "    **encoded_ar,\n",
    "    forced_bos_token_id=tokenizer.lang_code_to_id[\"hi_IN\"]\n",
    ")\n",
    "result = tokenizer.batch_decode(generated_tokens, skip_special_tokens=True)\n",
    "print(result)\n",
    "\n",
    "tokenizer.src_lang = \"hi_IN\"\n",
    "encoded_ar = tokenizer(result, return_tensors=\"pt\")\n",
    "generated_tokens = model.generate(\n",
    "    **encoded_ar,\n",
    "    forced_bos_token_id=tokenizer.lang_code_to_id[\"en_XX\"]\n",
    ")\n",
    "result = tokenizer.batch_decode(generated_tokens, skip_special_tokens=True)\n",
    "result"
   ]
  },
  {
   "cell_type": "code",
   "execution_count": 75,
   "metadata": {},
   "outputs": [
    {
     "data": {
      "text/plain": [
       "['संयुक्त राष्ट्र के प्रमुख ने कहा कि सीरिया में कोई सैन्य समाधान नहीं है']"
      ]
     },
     "execution_count": 75,
     "metadata": {},
     "output_type": "execute_result"
    }
   ],
   "source": [
    "article_hi = \"संयुक्त राष्ट् के प्रमुख का कहन है कि सीरिया मे कोई सैन्य समाधान नहीं ह\"\n",
    "\n",
    "tokenizer.src_lang = \"hi_IN\"\n",
    "encoded_hi = tokenizer(article_hi, return_tensors=\"pt\")\n",
    "generated_tokens = model.generate(\n",
    "    **encoded_hi,\n",
    "    forced_bos_token_id=tokenizer.lang_code_to_id[\"hi_IN\"]\n",
    ")\n",
    "tokenizer.batch_decode(generated_tokens, skip_special_tokens=True)"
   ]
  },
  {
   "cell_type": "code",
   "execution_count": 61,
   "metadata": {},
   "outputs": [
    {
     "name": "stderr",
     "output_type": "stream",
     "text": [
      "Asking to truncate to max_length but no maximum length is provided and the model has no predefined maximum length. Default to no truncation.\n"
     ]
    },
    {
     "name": "stdout",
     "output_type": "stream",
     "text": [
      "Original (Hindi): वह हर दिन स्कूल जात है।\n",
      "Corrected (Hindi): वह हर दिन स्कूल जाता है।\n",
      "\n",
      "Original (French): Je la mode.\n",
      "Corrected (French): Je suis en mode.\n",
      "\n",
      "Original (Spanish): Madrid eres una ciudad hermosa.\n",
      "Corrected (Spanish): Madrid es una ciudad bella.\n",
      "\n"
     ]
    }
   ],
   "source": [
    "model_name = \"facebook/mbart-large-50-many-to-many-mmt\"\n",
    "tokenizer = MBart50TokenizerFast.from_pretrained(model_name)\n",
    "model = MBartForConditionalGeneration.from_pretrained(model_name)\n",
    "\n",
    "def correct_grammar_mbart(text, src_lang):\n",
    "    tokenizer.src_lang = src_lang\n",
    "    encoded_input = tokenizer(text, return_tensors=\"pt\", padding=True, truncation=True)\n",
    "    \n",
    "    generated_tokens = model.generate(\n",
    "        **encoded_input,\n",
    "        max_length=512,\n",
    "        num_beams=5,\n",
    "        early_stopping=True,\n",
    "        forced_bos_token_id=tokenizer.lang_code_to_id[src_lang]\n",
    "    )\n",
    "    \n",
    "    corrected_text = tokenizer.decode(generated_tokens[0], skip_special_tokens=True)\n",
    "    return corrected_text\n",
    "\n",
    "# Test sentences in different languages\n",
    "sentences = {\n",
    "    \"Hindi\": (\"वह हर दिन स्कूल जात है।\", \"hi_IN\"),\n",
    "    \"French\": (\"Je la mode.\", \"fr_XX\"),\n",
    "    \"Spanish\": (\"Madrid eres una ciudad hermosa.\", \"es_XX\")\n",
    "}\n",
    "\n",
    "# Loop through the sentences and correct grammar using MBART\n",
    "for language, (sentence, lang_code) in sentences.items():\n",
    "    corrected_sentence = correct_grammar_mbart(sentence, lang_code)\n",
    "    print(f\"Original ({language}): {sentence}\")\n",
    "    print(f\"Corrected ({language}): {corrected_sentence}\\n\")"
   ]
  },
  {
   "cell_type": "code",
   "execution_count": 5,
   "metadata": {},
   "outputs": [
    {
     "name": "stderr",
     "output_type": "stream",
     "text": [
      "Asking to truncate to max_length but no maximum length is provided and the model has no predefined maximum length. Default to no truncation.\n"
     ]
    },
    {
     "data": {
      "text/html": [
       "\n",
       "    <div style=\"margin-bottom: 10px;\">\n",
       "        <b>Hindi (Original with corrections):</b><br>\n",
       "        <div>वह हर दिन स्कूल <del style='color:red;'>जात</del> <span style='color:green;'>जाता</span> है।</div>\n",
       "    </div>\n",
       "    "
      ],
      "text/plain": [
       "<IPython.core.display.HTML object>"
      ]
     },
     "metadata": {},
     "output_type": "display_data"
    },
    {
     "data": {
      "text/html": [
       "\n",
       "    <div style=\"margin-bottom: 10px;\">\n",
       "        <b>French (Original with corrections):</b><br>\n",
       "        <div>Je <del style='color:red;'>la</del> <span style='color:green;'>suis</span> <del style='color:red;'>mode.</del> <span style='color:green;'>en</span></div>\n",
       "    </div>\n",
       "    "
      ],
      "text/plain": [
       "<IPython.core.display.HTML object>"
      ]
     },
     "metadata": {},
     "output_type": "display_data"
    },
    {
     "data": {
      "text/html": [
       "\n",
       "    <div style=\"margin-bottom: 10px;\">\n",
       "        <b>Spanish (Original with corrections):</b><br>\n",
       "        <div>Madrid <del style='color:red;'>eres</del> <span style='color:green;'>es</span> una ciudad <del style='color:red;'>hermosa.</del> <span style='color:green;'>bella.</span></div>\n",
       "    </div>\n",
       "    "
      ],
      "text/plain": [
       "<IPython.core.display.HTML object>"
      ]
     },
     "metadata": {},
     "output_type": "display_data"
    }
   ],
   "source": [
    "import ipywidgets as widgets\n",
    "from IPython.display import display, HTML\n",
    "from transformers import MBartForConditionalGeneration, MBart50TokenizerFast\n",
    "\n",
    "model_name = \"facebook/mbart-large-50-many-to-many-mmt\"\n",
    "tokenizer = MBart50TokenizerFast.from_pretrained(model_name)\n",
    "model = MBartForConditionalGeneration.from_pretrained(model_name)\n",
    "\n",
    "# Detect errors in the original text and highlight them in the corrected text\n",
    "def highlight_errors(original, corrected):\n",
    "    original_tokens = original.split()\n",
    "    corrected_tokens = corrected.split()\n",
    "    highlighted = []\n",
    "    for o_token, c_token in zip(original_tokens, corrected_tokens):\n",
    "        if o_token != c_token:\n",
    "            highlighted.append(f\"<del style='color:red;'>{o_token}</del> <span style='color:green;'>{c_token}</span>\")\n",
    "        else:\n",
    "            highlighted.append(o_token)\n",
    "    return \" \".join(highlighted)\n",
    "\n",
    "def correct_grammar_mbart(text, src_lang):\n",
    "    tokenizer.src_lang = src_lang\n",
    "    encoded_input = tokenizer(text, return_tensors=\"pt\", padding=True, truncation=True)\n",
    "    \n",
    "    generated_tokens = model.generate(\n",
    "        **encoded_input,\n",
    "        max_length=512,\n",
    "        num_beams=5,\n",
    "        early_stopping=True,\n",
    "        forced_bos_token_id=tokenizer.lang_code_to_id[src_lang]\n",
    "    )\n",
    "    \n",
    "    corrected_text = tokenizer.decode(generated_tokens[0], skip_special_tokens=True)\n",
    "    return corrected_text\n",
    "\n",
    "# Test sentences in different languages\n",
    "sentences = {\n",
    "    \"Hindi\": (\"वह हर दिन स्कूल जात है।\", \"hi_IN\"),\n",
    "    \"French\": (\"Je la mode.\", \"fr_XX\"),\n",
    "    \"Spanish\": (\"Madrid eres una ciudad hermosa.\", \"es_XX\")\n",
    "}\n",
    "\n",
    "# Loop through the sentences and correct grammar using MBART\n",
    "for language, (sentence, lang_code) in sentences.items():\n",
    "    corrected_sentence = correct_grammar_mbart(sentence, lang_code)\n",
    "    highlighted_text = highlight_errors(sentence, corrected_sentence)\n",
    "    \n",
    "    display(HTML(f\"\"\"\n",
    "    <div style=\"margin-bottom: 10px;\">\n",
    "        <b>{language} (Original with corrections):</b><br>\n",
    "        <div>{highlighted_text}</div>\n",
    "    </div>\n",
    "    \"\"\"))\n"
   ]
  },
  {
   "cell_type": "code",
   "execution_count": null,
   "metadata": {},
   "outputs": [],
   "source": []
  }
 ],
 "metadata": {
  "kernelspec": {
   "display_name": ".venv",
   "language": "python",
   "name": "python3"
  },
  "language_info": {
   "codemirror_mode": {
    "name": "ipython",
    "version": 3
   },
   "file_extension": ".py",
   "mimetype": "text/x-python",
   "name": "python",
   "nbconvert_exporter": "python",
   "pygments_lexer": "ipython3",
   "version": "3.12.6"
  }
 },
 "nbformat": 4,
 "nbformat_minor": 2
}
